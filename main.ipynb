{
 "cells": [
  {
   "cell_type": "markdown",
   "id": "1d44728c",
   "metadata": {},
   "source": [
    "# Projet Python 2023 : études des aménagements cyclables en Ile-de-France"
   ]
  },
  {
   "cell_type": "markdown",
   "id": "67bd817f",
   "metadata": {},
   "source": [
    "Catherine Berleur et Christelle Nguenang Tchatchouang"
   ]
  },
  {
   "cell_type": "markdown",
   "id": "39794f00",
   "metadata": {},
   "source": [
    "## Introduction"
   ]
  },
  {
   "cell_type": "markdown",
   "id": "a03cc888",
   "metadata": {},
   "source": [
    "Alors que la population française est à très grande majorité urbanisée, les problèmes d’aménagements urbains et de mobilité urbaine ont pris une place de plus en plus importante dans les débats politiques et la recherche scientifique. Avec près de 80 % de sa population habitant en ville, la France illustre les enjeux et les défis qui accompagnent les questions de mobilité urbaine : qualité de vie, durabilité environnementale, santé publique autour des enjeux de pollution, etc. Autant d’éléments qui contribuent au bien-être général de la pollution. Dans le contexte de la forte pollution et des problèmes de congestion urbaine dans les métropoles françaises, les vélos ont fait l’objet de nombreuses politiques publiques visant à développer leur usage : aide à l’achat de vélo, développement de stations en libre-service, construction de pistes cyclables, etc. En effet, la généralisation de la pratique du vélo représente une solution potentielle à un certain nombre de ces enjeux. Dans ce contexte, notre recherche explore la répartition géographique des aménagements et des stations ‘vélib’ en île de France ainsi que leurs déterminants. La région Île-de-France a mis en œuvre une politique significative de stations de vélos en libre-service, et nous cherchons à expliquer les critères de développer des aménagements cyclables dans l'optique d'évaluer sa pertinence par rapport aux besoins de la population."
   ]
  },
  {
   "cell_type": "markdown",
   "id": "7c0e1755",
   "metadata": {},
   "source": [
    "### Focus sur l'Ile de France"
   ]
  },
  {
   "cell_type": "markdown",
   "id": "9722c5a3",
   "metadata": {},
   "source": [
    "Le système de vélos en libre-service Vélib' est devenu une partie intégrante de la mobilité urbaine parisienneet dans toute la France en général, offrant aux citoyens et aux visiteurs un mode de transport alternatif et respectueux de l'environnement. En examinant les emplacements et les caractéristiques des stations Vélib' en île de France, nous cherchons à comprendre la distribution spatiale de ces installations et les facteurs qui influencent leur emplacement dans les différentes communes de la région. Cependant, les installations vélib ne couvrent que la 'petite couronne' parisienne, et ne se trouvent donc pas dans l'entiereté des départements, et a fortiori des communes, d'Ile de France. Nous étendons notre analyse à un champ plus large, en considérant la densité des pistes cyclables à travers la région Il de France. Comprendre les variations de la densité des pistes cyclables nous permet d'évaluer l'infrastructure cyclable au niveau régional, offrant ainsi une perspective globale sur l'état des équipements de mobilité urbaine. Pour compléter ces ensembles de données spatiales, nous incorporons des indicateurs sociodémographiques, afin d'identifier les déterminants qui influencent le développement et l'utilisation des infrastructures cyclables."
   ]
  },
  {
   "cell_type": "code",
   "execution_count": null,
   "id": "c2135798",
   "metadata": {},
   "outputs": [],
   "source": []
  },
  {
   "cell_type": "markdown",
   "id": "17196ec5",
   "metadata": {},
   "source": [
    "## Les importations"
   ]
  },
  {
   "cell_type": "code",
   "execution_count": 1,
   "id": "f18377f2",
   "metadata": {},
   "outputs": [
    {
     "name": "stderr",
     "output_type": "stream",
     "text": [
      "/home/cathu/.local/lib/python3.10/site-packages/matplotlib/projections/__init__.py:63: UserWarning: Unable to import Axes3D. This may be due to multiple versions of Matplotlib being installed (e.g. as a system package and as a pip package). As a result, the 3D projection is not available.\n",
      "  warnings.warn(\"Unable to import Axes3D. This may be due to multiple versions of \"\n",
      "/usr/lib/python3/dist-packages/scipy/__init__.py:146: UserWarning: A NumPy version >=1.17.3 and <1.25.0 is required for this version of SciPy (detected version 1.26.2\n",
      "  warnings.warn(f\"A NumPy version >={np_minversion} and <{np_maxversion}\"\n"
     ]
    }
   ],
   "source": [
    "import pandas as pd\n",
    "import seaborn as sns\n",
    "import numpy as np\n",
    "import matplotlib.pyplot as plt\n",
    "import geopandas as gpd\n",
    "import contextily as ctx\n",
    "import pynsee as yns\n",
    "import requests\n",
    "from pathlib import Path\n",
    "from cartiflette.s3 import download_vectorfile_url_all"
   ]
  },
  {
   "cell_type": "code",
   "execution_count": null,
   "id": "51c127ba",
   "metadata": {},
   "outputs": [],
   "source": [
    "## A faire tourner en cas de packages manquants :\n",
    "\n",
    "## Attention, pour valider votre input, il faut appuyer sur la touche \"Entrée\" et non sur \"Exécuter\"\n",
    "\n",
    "# %run \"./0_dep.ipynb\""
   ]
  },
  {
   "cell_type": "markdown",
   "id": "5c55652d",
   "metadata": {},
   "source": [
    "## Création de la base de travail"
   ]
  },
  {
   "cell_type": "code",
   "execution_count": 4,
   "id": "4b7818d2",
   "metadata": {},
   "outputs": [
    {
     "name": "stdout",
     "output_type": "stream",
     "text": [
      "         osm_id            nom_com sens_voit                              ag  \\\n",
      "0  4.014620e+08            Chelles    DOUBLE                            None   \n",
      "1  4.048666e+08   La Queue-en-Brie        NC  chemin service site propre uni   \n",
      "2  1.154304e+09            Lésigny        NC                  voie verte uni   \n",
      "3  3.300503e+08  Pontault-Combault    UNIQUE                       DSC bande   \n",
      "4  1.104033e+09   Champs-sur-Marne    UNIQUE                            None   \n",
      "\n",
      "  panneaux moyenn_ech revetement      highway insee_com  \\\n",
      "0     None         32       None      service     77108   \n",
      "1     None         11       None        track     94060   \n",
      "2     None         11    asphalt         path     77249   \n",
      "3     None         22       None  residential     77373   \n",
      "4     None         22    asphalt  residential     77083   \n",
      "\n",
      "                     nom_voie  longueur petite_ech           nv  \\\n",
      "0  Rue de la Mare Longue Noue        24          3    limite 30   \n",
      "1             Allée Jacquette        39          1  hors voirie   \n",
      "2                        None         5          1  hors voirie   \n",
      "3          Rue de la Chaussée        85          2         None   \n",
      "4         Place Pablo Picasso         8          2         None   \n",
      "\n",
      "                               ad  \\\n",
      "0                            None   \n",
      "1  chemin service site propre uni   \n",
      "2                  voie verte uni   \n",
      "3                            None   \n",
      "4                       bande uni   \n",
      "\n",
      "                                            geometry  \n",
      "0  LINESTRING (2.60486 48.89065, 2.60460 48.89061...  \n",
      "1    LINESTRING (2.60049 48.77164, 2.60036 48.77198)  \n",
      "2    LINESTRING (2.60844 48.74126, 2.60848 48.74130)  \n",
      "3  LINESTRING (2.60422 48.78336, 2.60419 48.78331...  \n",
      "4    LINESTRING (2.60568 48.84171, 2.60557 48.84170)  \n",
      "['DOUBLE' 'NC' 'UNIQUE']\n",
      "[None 'chemin service site propre uni' 'voie verte uni' 'DSC bande'\n",
      " 'autre chemin velo uni' 'piste uni' 'DSC' 'piste trottoir uni'\n",
      " 'bande uni' 'cheminement trottoir uni' 'goulotte' 'chemin dedie uni'\n",
      " 'chaucidou' 'cheminement uni' 'DSC piste' 'voie bus uni' 'piste bi'\n",
      " 'bande bi' 'shoulder uni']\n",
      "[None 'asphalt' 'compacted' 'concrete' 'unpaved' 'wood' 'paving_stones'\n",
      " 'ground' 'sett' 'gravel' 'sand' 'paved' 'fine_gravel' 'dirt'\n",
      " 'cobblestone' 'concrete:plates' 'concrete:lanes' 'grass'\n",
      " 'cobblestone:flattened' 'metal' 'pebblestone' 'unhewn_cobblestone'\n",
      " 'bricks' 'tartan' 'pavés' 'vegecol' 'artificial_turf' 'grass_paver'\n",
      " 'earth' 'bitume' 'à_définir' 'rock']\n",
      "['service' 'track' 'path' 'residential' 'footway' 'cycleway' 'secondary'\n",
      " 'tertiary' 'living_street' 'unclassified' 'pedestrian' 'steps' 'primary'\n",
      " 'primary_link' 'secondary_link' 'tertiary_link' 'trunk_link'\n",
      " 'motorway_link']\n",
      "['limite 30' 'hors voirie' None 'z20' 'rue pietonne' 'z30' 'escalier velo'\n",
      " 'velorue' 'velo interdit']\n",
      "[None 'chemin service site propre uni' 'voie verte uni' 'bande uni'\n",
      " 'autre chemin velo uni' 'piste uni' 'piste trottoir uni'\n",
      " 'cheminement trottoir uni' 'goulotte' 'chemin dedie uni' 'chaucidou'\n",
      " 'cheminement uni' 'voie bus uni' 'piste bi' 'bande bi' 'DSC' 'DSC bande'\n",
      " 'shoulder uni']\n",
      "4025\n",
      "55496\n",
      "['unclassified' 'chemin service site propre uni' 'voie verte uni'\n",
      " 'DSC bande' 'bande uni' 'autre chemin velo uni' 'piste uni' 'DSC'\n",
      " 'piste trottoir uni' 'cheminement trottoir uni' 'goulotte'\n",
      " 'chemin dedie uni' 'chaucidou' 'cheminement uni' 'voie bus uni'\n",
      " 'DSC piste' 'piste bi' 'bande bi' 'shoulder uni']\n",
      "14028145.5\n",
      "14382204.5\n",
      "14174798\n",
      "https://minio.lab.sspcloud.fr/projet-cartiflette/diffusion/shapefiles-test1/year=2022/administrative_level=COMMUNE_ARRONDISSEMENT/crs=4326/DEPARTEMENT=75/vectorfile_format=topojson/provider=IGN/source=EXPRESS-COG-CARTO-TERRITOIRE/raw.topojson\n"
     ]
    },
    {
     "name": "stderr",
     "output_type": "stream",
     "text": [
      "Downloading: : 40.1kiB [00:00, 206kiB/s]\n"
     ]
    },
    {
     "name": "stdout",
     "output_type": "stream",
     "text": [
      "https://minio.lab.sspcloud.fr/projet-cartiflette/diffusion/shapefiles-test1/year=2022/administrative_level=COMMUNE_ARRONDISSEMENT/crs=4326/DEPARTEMENT=77/vectorfile_format=topojson/provider=IGN/source=EXPRESS-COG-CARTO-TERRITOIRE/raw.topojson\n"
     ]
    },
    {
     "name": "stderr",
     "output_type": "stream",
     "text": [
      "Downloading: : 1.57MiB [00:00, 5.30MiB/s]\n"
     ]
    },
    {
     "name": "stdout",
     "output_type": "stream",
     "text": [
      "https://minio.lab.sspcloud.fr/projet-cartiflette/diffusion/shapefiles-test1/year=2022/administrative_level=COMMUNE_ARRONDISSEMENT/crs=4326/DEPARTEMENT=78/vectorfile_format=topojson/provider=IGN/source=EXPRESS-COG-CARTO-TERRITOIRE/raw.topojson\n"
     ]
    },
    {
     "name": "stderr",
     "output_type": "stream",
     "text": [
      "Downloading: : 581kiB [00:00, 3.83MiB/s]\n"
     ]
    },
    {
     "name": "stdout",
     "output_type": "stream",
     "text": [
      "https://minio.lab.sspcloud.fr/projet-cartiflette/diffusion/shapefiles-test1/year=2022/administrative_level=COMMUNE_ARRONDISSEMENT/crs=4326/DEPARTEMENT=91/vectorfile_format=topojson/provider=IGN/source=EXPRESS-COG-CARTO-TERRITOIRE/raw.topojson\n"
     ]
    },
    {
     "name": "stderr",
     "output_type": "stream",
     "text": [
      "Downloading: : 483kiB [00:00, 3.26MiB/s]\n"
     ]
    },
    {
     "name": "stdout",
     "output_type": "stream",
     "text": [
      "https://minio.lab.sspcloud.fr/projet-cartiflette/diffusion/shapefiles-test1/year=2022/administrative_level=COMMUNE_ARRONDISSEMENT/crs=4326/DEPARTEMENT=92/vectorfile_format=topojson/provider=IGN/source=EXPRESS-COG-CARTO-TERRITOIRE/raw.topojson\n"
     ]
    },
    {
     "name": "stderr",
     "output_type": "stream",
     "text": [
      "Downloading: : 63.0kiB [00:00, 1.69MiB/s]\n"
     ]
    },
    {
     "name": "stdout",
     "output_type": "stream",
     "text": [
      "https://minio.lab.sspcloud.fr/projet-cartiflette/diffusion/shapefiles-test1/year=2022/administrative_level=COMMUNE_ARRONDISSEMENT/crs=4326/DEPARTEMENT=93/vectorfile_format=topojson/provider=IGN/source=EXPRESS-COG-CARTO-TERRITOIRE/raw.topojson\n"
     ]
    },
    {
     "name": "stderr",
     "output_type": "stream",
     "text": [
      "Downloading: : 120kiB [00:00, 2.13MiB/s]\n"
     ]
    },
    {
     "name": "stdout",
     "output_type": "stream",
     "text": [
      "https://minio.lab.sspcloud.fr/projet-cartiflette/diffusion/shapefiles-test1/year=2022/administrative_level=COMMUNE_ARRONDISSEMENT/crs=4326/DEPARTEMENT=94/vectorfile_format=topojson/provider=IGN/source=EXPRESS-COG-CARTO-TERRITOIRE/raw.topojson\n"
     ]
    },
    {
     "name": "stderr",
     "output_type": "stream",
     "text": [
      "Downloading: : 111kiB [00:00, 2.50MiB/s]\n"
     ]
    },
    {
     "name": "stdout",
     "output_type": "stream",
     "text": [
      "https://minio.lab.sspcloud.fr/projet-cartiflette/diffusion/shapefiles-test1/year=2022/administrative_level=COMMUNE_ARRONDISSEMENT/crs=4326/DEPARTEMENT=95/vectorfile_format=topojson/provider=IGN/source=EXPRESS-COG-CARTO-TERRITOIRE/raw.topojson\n"
     ]
    },
    {
     "name": "stderr",
     "output_type": "stream",
     "text": [
      "Downloading: : 372kiB [00:00, 4.48MiB/s]\n"
     ]
    },
    {
     "name": "stdout",
     "output_type": "stream",
     "text": [
      "(1471, 4)\n",
      "(1472, 8)\n",
      "      capacity                                   name stationcode  \\\n",
      "0           22                              Basilique       32017   \n",
      "36          26               Franciade - Gabriel Péri       32018   \n",
      "204         24               Saint-Denis - Université       32013   \n",
      "259         30               Guy Môquet - Jean Moulin       32023   \n",
      "449         30            Proudhon - Président Wilson       32001   \n",
      "...        ...                                    ...         ...   \n",
      "1292        18                      Pont De Charenton       44103   \n",
      "929         27                     Place Aimé Césaire       21402   \n",
      "1375        33                      Mairie de Clamart       21401   \n",
      "1120        30  Richard Wallace - Place du 8 Mai 1945       28001   \n",
      "1246        28            Jean Jaurès - Paul Lafargue       28005   \n",
      "\n",
      "                      geometry  index_right                        id  \\\n",
      "0     POINT (2.35887 48.93627)            0  COMMUNE_0000000009735515   \n",
      "36    POINT (2.35595 48.93261)            0  COMMUNE_0000000009735515   \n",
      "204   POINT (2.36383 48.94563)            0  COMMUNE_0000000009735515   \n",
      "259   POINT (2.36395 48.94093)            0  COMMUNE_0000000009735515   \n",
      "449   POINT (2.35849 48.90644)            0  COMMUNE_0000000009735515   \n",
      "...                        ...          ...                       ...   \n",
      "1292  POINT (2.41995 48.81797)           15  COMMUNE_0000000009736526   \n",
      "929   POINT (2.24291 48.78319)           23  COMMUNE_0000000009737025   \n",
      "1375  POINT (2.26215 48.80061)           23  COMMUNE_0000000009737025   \n",
      "1120  POINT (2.24203 48.87867)            6  COMMUNE_0000000009736050   \n",
      "1246  POINT (2.24845 48.88493)            6  COMMUNE_0000000009736050   \n",
      "\n",
      "                NOM INSEE_COM  \n",
      "0       Saint-Denis     93066  \n",
      "36      Saint-Denis     93066  \n",
      "204     Saint-Denis     93066  \n",
      "259     Saint-Denis     93066  \n",
      "449     Saint-Denis     93066  \n",
      "...             ...       ...  \n",
      "1292  Saint-Maurice     94069  \n",
      "929         Clamart     92023  \n",
      "1375        Clamart     92023  \n",
      "1120        Puteaux     92062  \n",
      "1246        Puteaux     92062  \n",
      "\n",
      "[1472 rows x 8 columns]\n",
      "(82, 3)\n",
      "(82, 18)\n",
      "Index(['INSEE_COM', 'cap_com', 'stat_com', 'NOM', 'NOM_M', 'STATUT',\n",
      "       'POPULATION', 'INSEE_DEP', 'INSEE_REG', 'geometry', 'surface'],\n",
      "      dtype='object')\n",
      "Index(['nom_com', 'insee_com', 'longueur', 'longueur_pond_hw',\n",
      "       'longueur_pond_adg', 'difference_hw', 'difference_adg'],\n",
      "      dtype='object')\n",
      "(1005, 18)\n",
      "Index(['nom_com', 'insee_com', 'longueur', 'longueur_pond_hw',\n",
      "       'longueur_pond_adg', 'difference_hw', 'difference_adg', 'INSEE_COM',\n",
      "       'cap_com', 'stat_com', 'NOM', 'NOM_M', 'STATUT', 'POPULATION',\n",
      "       'INSEE_DEP', 'INSEE_REG', 'geometry', 'surface'],\n",
      "      dtype='object')\n",
      "nom_com                0\n",
      "insee_com              0\n",
      "longueur               0\n",
      "longueur_pond_hw       0\n",
      "longueur_pond_adg      0\n",
      "difference_hw          0\n",
      "difference_adg         0\n",
      "cap_com              923\n",
      "stat_com             923\n",
      "geometry             923\n",
      "surface              923\n",
      "dtype: int64\n",
      "(1005, 13)\n",
      "['26' '25' '22' '16' '13' '12' '10' '09' '06' '03' '02' '75' '94' '93'\n",
      " '92' '76' '68' '972' '63' '62' '51' '2B' '65' '33' '71' '89' '61' '29'\n",
      " '38' '14' '60' '45' '73' '53' '24' '27' '17' '48' '973' '77' '67' '988'\n",
      " '08' '56' '69' '91' '78' '64' '59' '49' '42' '37' '34' '32' '31' '11'\n",
      " '35' '47' '86' '01' '74' '79' '2A' '46' '39' '72' '05' '18' '19' '971'\n",
      " '987' '66' '84' '85' '95' '57' '54' '52' '50' '44' '974' '83' '28' '15'\n",
      " '07' '80' '30' '41' '82' '55' '43' '40' '04' '986' '88' '36' '87' '21'\n",
      " '976' '81' '58' '70' '90' '23' '977' '978' '975']\n",
      "    dep    com  mort_com  hosp_com  indemne_com  leger_com  acc_com\n",
      "0    75  75101         1         3          108        143      256\n",
      "1    75  75102         2         3           65         92      162\n",
      "2    75  75103         0         7           91        101      200\n",
      "3    75  75104         0         5          138        173      316\n",
      "4    75  75105         0         9          123        136      269\n",
      "..   ..    ...       ...       ...          ...        ...      ...\n",
      "723  95  95675         0         0            1          2        3\n",
      "724  95  95678         0         2           16          9       27\n",
      "725  95  95680         0         5           17         29       51\n",
      "726  95  95682         0         0            3          6        9\n",
      "727  95  95690         0         0            0          1        1\n",
      "\n",
      "[728 rows x 7 columns]\n"
     ]
    },
    {
     "ename": "FileNotFoundError",
     "evalue": "[Errno 2] No such file or directory: 'base_cc_comparateur.xlsx'",
     "output_type": "error",
     "traceback": [
      "\u001b[0;31m---------------------------------------------------------------------------\u001b[0m",
      "\u001b[0;31mFileNotFoundError\u001b[0m                         Traceback (most recent call last)",
      "\u001b[0;32m~/Documents/ENSAE/Projet_Catherine_Christelle/1_base.ipynb\u001b[0m in \u001b[0;36m<module>\u001b[0;34m\u001b[0m\n\u001b[0;32m----> 1\u001b[0;31m \u001b[0mdf_INSEE\u001b[0m \u001b[0;34m=\u001b[0m \u001b[0mpd\u001b[0m\u001b[0;34m.\u001b[0m\u001b[0mread_excel\u001b[0m\u001b[0;34m(\u001b[0m\u001b[0;34m\"base_cc_comparateur.xlsx\"\u001b[0m\u001b[0;34m,\u001b[0m \u001b[0mskiprows\u001b[0m\u001b[0;34m=\u001b[0m\u001b[0;36m5\u001b[0m\u001b[0;34m)\u001b[0m\u001b[0;34m\u001b[0m\u001b[0;34m\u001b[0m\u001b[0m\n\u001b[0m\u001b[1;32m      2\u001b[0m \u001b[0;34m\u001b[0m\u001b[0m\n",
      "\u001b[0;32m~/.local/lib/python3.10/site-packages/pandas/io/excel/_base.py\u001b[0m in \u001b[0;36mread_excel\u001b[0;34m(io, sheet_name, header, names, index_col, usecols, dtype, engine, converters, true_values, false_values, skiprows, nrows, na_values, keep_default_na, na_filter, verbose, parse_dates, date_parser, date_format, thousands, decimal, comment, skipfooter, storage_options, dtype_backend, engine_kwargs)\u001b[0m\n\u001b[1;32m    502\u001b[0m     \u001b[0;32mif\u001b[0m \u001b[0;32mnot\u001b[0m \u001b[0misinstance\u001b[0m\u001b[0;34m(\u001b[0m\u001b[0mio\u001b[0m\u001b[0;34m,\u001b[0m \u001b[0mExcelFile\u001b[0m\u001b[0;34m)\u001b[0m\u001b[0;34m:\u001b[0m\u001b[0;34m\u001b[0m\u001b[0;34m\u001b[0m\u001b[0m\n\u001b[1;32m    503\u001b[0m         \u001b[0mshould_close\u001b[0m \u001b[0;34m=\u001b[0m \u001b[0;32mTrue\u001b[0m\u001b[0;34m\u001b[0m\u001b[0;34m\u001b[0m\u001b[0m\n\u001b[0;32m--> 504\u001b[0;31m         io = ExcelFile(\n\u001b[0m\u001b[1;32m    505\u001b[0m             \u001b[0mio\u001b[0m\u001b[0;34m,\u001b[0m\u001b[0;34m\u001b[0m\u001b[0;34m\u001b[0m\u001b[0m\n\u001b[1;32m    506\u001b[0m             \u001b[0mstorage_options\u001b[0m\u001b[0;34m=\u001b[0m\u001b[0mstorage_options\u001b[0m\u001b[0;34m,\u001b[0m\u001b[0;34m\u001b[0m\u001b[0;34m\u001b[0m\u001b[0m\n",
      "\u001b[0;32m~/.local/lib/python3.10/site-packages/pandas/io/excel/_base.py\u001b[0m in \u001b[0;36m__init__\u001b[0;34m(self, path_or_buffer, engine, storage_options, engine_kwargs)\u001b[0m\n\u001b[1;32m   1561\u001b[0m                 \u001b[0mext\u001b[0m \u001b[0;34m=\u001b[0m \u001b[0;34m\"xls\"\u001b[0m\u001b[0;34m\u001b[0m\u001b[0;34m\u001b[0m\u001b[0m\n\u001b[1;32m   1562\u001b[0m             \u001b[0;32melse\u001b[0m\u001b[0;34m:\u001b[0m\u001b[0;34m\u001b[0m\u001b[0;34m\u001b[0m\u001b[0m\n\u001b[0;32m-> 1563\u001b[0;31m                 ext = inspect_excel_format(\n\u001b[0m\u001b[1;32m   1564\u001b[0m                     \u001b[0mcontent_or_path\u001b[0m\u001b[0;34m=\u001b[0m\u001b[0mpath_or_buffer\u001b[0m\u001b[0;34m,\u001b[0m \u001b[0mstorage_options\u001b[0m\u001b[0;34m=\u001b[0m\u001b[0mstorage_options\u001b[0m\u001b[0;34m\u001b[0m\u001b[0;34m\u001b[0m\u001b[0m\n\u001b[1;32m   1565\u001b[0m                 )\n",
      "\u001b[0;32m~/.local/lib/python3.10/site-packages/pandas/io/excel/_base.py\u001b[0m in \u001b[0;36minspect_excel_format\u001b[0;34m(content_or_path, storage_options)\u001b[0m\n\u001b[1;32m   1417\u001b[0m         \u001b[0mcontent_or_path\u001b[0m \u001b[0;34m=\u001b[0m \u001b[0mBytesIO\u001b[0m\u001b[0;34m(\u001b[0m\u001b[0mcontent_or_path\u001b[0m\u001b[0;34m)\u001b[0m\u001b[0;34m\u001b[0m\u001b[0;34m\u001b[0m\u001b[0m\n\u001b[1;32m   1418\u001b[0m \u001b[0;34m\u001b[0m\u001b[0m\n\u001b[0;32m-> 1419\u001b[0;31m     with get_handle(\n\u001b[0m\u001b[1;32m   1420\u001b[0m         \u001b[0mcontent_or_path\u001b[0m\u001b[0;34m,\u001b[0m \u001b[0;34m\"rb\"\u001b[0m\u001b[0;34m,\u001b[0m \u001b[0mstorage_options\u001b[0m\u001b[0;34m=\u001b[0m\u001b[0mstorage_options\u001b[0m\u001b[0;34m,\u001b[0m \u001b[0mis_text\u001b[0m\u001b[0;34m=\u001b[0m\u001b[0;32mFalse\u001b[0m\u001b[0;34m\u001b[0m\u001b[0;34m\u001b[0m\u001b[0m\n\u001b[1;32m   1421\u001b[0m     ) as handle:\n",
      "\u001b[0;32m~/.local/lib/python3.10/site-packages/pandas/io/common.py\u001b[0m in \u001b[0;36mget_handle\u001b[0;34m(path_or_buf, mode, encoding, compression, memory_map, is_text, errors, storage_options)\u001b[0m\n\u001b[1;32m    870\u001b[0m         \u001b[0;32melse\u001b[0m\u001b[0;34m:\u001b[0m\u001b[0;34m\u001b[0m\u001b[0;34m\u001b[0m\u001b[0m\n\u001b[1;32m    871\u001b[0m             \u001b[0;31m# Binary mode\u001b[0m\u001b[0;34m\u001b[0m\u001b[0;34m\u001b[0m\u001b[0m\n\u001b[0;32m--> 872\u001b[0;31m             \u001b[0mhandle\u001b[0m \u001b[0;34m=\u001b[0m \u001b[0mopen\u001b[0m\u001b[0;34m(\u001b[0m\u001b[0mhandle\u001b[0m\u001b[0;34m,\u001b[0m \u001b[0mioargs\u001b[0m\u001b[0;34m.\u001b[0m\u001b[0mmode\u001b[0m\u001b[0;34m)\u001b[0m\u001b[0;34m\u001b[0m\u001b[0;34m\u001b[0m\u001b[0m\n\u001b[0m\u001b[1;32m    873\u001b[0m         \u001b[0mhandles\u001b[0m\u001b[0;34m.\u001b[0m\u001b[0mappend\u001b[0m\u001b[0;34m(\u001b[0m\u001b[0mhandle\u001b[0m\u001b[0;34m)\u001b[0m\u001b[0;34m\u001b[0m\u001b[0;34m\u001b[0m\u001b[0m\n\u001b[1;32m    874\u001b[0m \u001b[0;34m\u001b[0m\u001b[0m\n",
      "\u001b[0;31mFileNotFoundError\u001b[0m: [Errno 2] No such file or directory: 'base_cc_comparateur.xlsx'"
     ]
    },
    {
     "ename": "FileNotFoundError",
     "evalue": "[Errno 2] No such file or directory: 'base_cc_comparateur.xlsx'",
     "output_type": "error",
     "traceback": [
      "\u001b[0;31m---------------------------------------------------------------------------\u001b[0m",
      "\u001b[0;31mFileNotFoundError\u001b[0m                         Traceback (most recent call last)",
      "\u001b[0;32m/tmp/ipykernel_125583/2178518211.py\u001b[0m in \u001b[0;36m<module>\u001b[0;34m\u001b[0m\n\u001b[0;32m----> 1\u001b[0;31m \u001b[0mget_ipython\u001b[0m\u001b[0;34m(\u001b[0m\u001b[0;34m)\u001b[0m\u001b[0;34m.\u001b[0m\u001b[0mrun_line_magic\u001b[0m\u001b[0;34m(\u001b[0m\u001b[0;34m'run'\u001b[0m\u001b[0;34m,\u001b[0m \u001b[0;34m'\"./1_base.ipynb\"'\u001b[0m\u001b[0;34m)\u001b[0m\u001b[0;34m\u001b[0m\u001b[0;34m\u001b[0m\u001b[0m\n\u001b[0m",
      "\u001b[0;32m/usr/lib/python3/dist-packages/IPython/core/interactiveshell.py\u001b[0m in \u001b[0;36mrun_line_magic\u001b[0;34m(self, magic_name, line, _stack_depth)\u001b[0m\n\u001b[1;32m   2362\u001b[0m                 \u001b[0mkwargs\u001b[0m\u001b[0;34m[\u001b[0m\u001b[0;34m'local_ns'\u001b[0m\u001b[0;34m]\u001b[0m \u001b[0;34m=\u001b[0m \u001b[0mself\u001b[0m\u001b[0;34m.\u001b[0m\u001b[0mget_local_scope\u001b[0m\u001b[0;34m(\u001b[0m\u001b[0mstack_depth\u001b[0m\u001b[0;34m)\u001b[0m\u001b[0;34m\u001b[0m\u001b[0;34m\u001b[0m\u001b[0m\n\u001b[1;32m   2363\u001b[0m             \u001b[0;32mwith\u001b[0m \u001b[0mself\u001b[0m\u001b[0;34m.\u001b[0m\u001b[0mbuiltin_trap\u001b[0m\u001b[0;34m:\u001b[0m\u001b[0;34m\u001b[0m\u001b[0;34m\u001b[0m\u001b[0m\n\u001b[0;32m-> 2364\u001b[0;31m                 \u001b[0mresult\u001b[0m \u001b[0;34m=\u001b[0m \u001b[0mfn\u001b[0m\u001b[0;34m(\u001b[0m\u001b[0;34m*\u001b[0m\u001b[0margs\u001b[0m\u001b[0;34m,\u001b[0m \u001b[0;34m**\u001b[0m\u001b[0mkwargs\u001b[0m\u001b[0;34m)\u001b[0m\u001b[0;34m\u001b[0m\u001b[0;34m\u001b[0m\u001b[0m\n\u001b[0m\u001b[1;32m   2365\u001b[0m             \u001b[0;32mreturn\u001b[0m \u001b[0mresult\u001b[0m\u001b[0;34m\u001b[0m\u001b[0;34m\u001b[0m\u001b[0m\n\u001b[1;32m   2366\u001b[0m \u001b[0;34m\u001b[0m\u001b[0m\n",
      "\u001b[0;32m<decorator-gen-52>\u001b[0m in \u001b[0;36mrun\u001b[0;34m(self, parameter_s, runner, file_finder)\u001b[0m\n",
      "\u001b[0;32m/usr/lib/python3/dist-packages/IPython/core/magic.py\u001b[0m in \u001b[0;36m<lambda>\u001b[0;34m(f, *a, **k)\u001b[0m\n\u001b[1;32m    185\u001b[0m     \u001b[0;31m# but it's overkill for just that one bit of state.\u001b[0m\u001b[0;34m\u001b[0m\u001b[0;34m\u001b[0m\u001b[0m\n\u001b[1;32m    186\u001b[0m     \u001b[0;32mdef\u001b[0m \u001b[0mmagic_deco\u001b[0m\u001b[0;34m(\u001b[0m\u001b[0marg\u001b[0m\u001b[0;34m)\u001b[0m\u001b[0;34m:\u001b[0m\u001b[0;34m\u001b[0m\u001b[0;34m\u001b[0m\u001b[0m\n\u001b[0;32m--> 187\u001b[0;31m         \u001b[0mcall\u001b[0m \u001b[0;34m=\u001b[0m \u001b[0;32mlambda\u001b[0m \u001b[0mf\u001b[0m\u001b[0;34m,\u001b[0m \u001b[0;34m*\u001b[0m\u001b[0ma\u001b[0m\u001b[0;34m,\u001b[0m \u001b[0;34m**\u001b[0m\u001b[0mk\u001b[0m\u001b[0;34m:\u001b[0m \u001b[0mf\u001b[0m\u001b[0;34m(\u001b[0m\u001b[0;34m*\u001b[0m\u001b[0ma\u001b[0m\u001b[0;34m,\u001b[0m \u001b[0;34m**\u001b[0m\u001b[0mk\u001b[0m\u001b[0;34m)\u001b[0m\u001b[0;34m\u001b[0m\u001b[0;34m\u001b[0m\u001b[0m\n\u001b[0m\u001b[1;32m    188\u001b[0m \u001b[0;34m\u001b[0m\u001b[0m\n\u001b[1;32m    189\u001b[0m         \u001b[0;32mif\u001b[0m \u001b[0mcallable\u001b[0m\u001b[0;34m(\u001b[0m\u001b[0marg\u001b[0m\u001b[0;34m)\u001b[0m\u001b[0;34m:\u001b[0m\u001b[0;34m\u001b[0m\u001b[0;34m\u001b[0m\u001b[0m\n",
      "\u001b[0;32m/usr/lib/python3/dist-packages/IPython/core/magics/execution.py\u001b[0m in \u001b[0;36mrun\u001b[0;34m(self, parameter_s, runner, file_finder)\u001b[0m\n\u001b[1;32m    733\u001b[0m             \u001b[0;32mwith\u001b[0m \u001b[0mpreserve_keys\u001b[0m\u001b[0;34m(\u001b[0m\u001b[0mself\u001b[0m\u001b[0;34m.\u001b[0m\u001b[0mshell\u001b[0m\u001b[0;34m.\u001b[0m\u001b[0muser_ns\u001b[0m\u001b[0;34m,\u001b[0m \u001b[0;34m'__file__'\u001b[0m\u001b[0;34m)\u001b[0m\u001b[0;34m:\u001b[0m\u001b[0;34m\u001b[0m\u001b[0;34m\u001b[0m\u001b[0m\n\u001b[1;32m    734\u001b[0m                 \u001b[0mself\u001b[0m\u001b[0;34m.\u001b[0m\u001b[0mshell\u001b[0m\u001b[0;34m.\u001b[0m\u001b[0muser_ns\u001b[0m\u001b[0;34m[\u001b[0m\u001b[0;34m'__file__'\u001b[0m\u001b[0;34m]\u001b[0m \u001b[0;34m=\u001b[0m \u001b[0mfilename\u001b[0m\u001b[0;34m\u001b[0m\u001b[0;34m\u001b[0m\u001b[0m\n\u001b[0;32m--> 735\u001b[0;31m                 \u001b[0mself\u001b[0m\u001b[0;34m.\u001b[0m\u001b[0mshell\u001b[0m\u001b[0;34m.\u001b[0m\u001b[0msafe_execfile_ipy\u001b[0m\u001b[0;34m(\u001b[0m\u001b[0mfilename\u001b[0m\u001b[0;34m,\u001b[0m \u001b[0mraise_exceptions\u001b[0m\u001b[0;34m=\u001b[0m\u001b[0;32mTrue\u001b[0m\u001b[0;34m)\u001b[0m\u001b[0;34m\u001b[0m\u001b[0;34m\u001b[0m\u001b[0m\n\u001b[0m\u001b[1;32m    736\u001b[0m             \u001b[0;32mreturn\u001b[0m\u001b[0;34m\u001b[0m\u001b[0;34m\u001b[0m\u001b[0m\n\u001b[1;32m    737\u001b[0m \u001b[0;34m\u001b[0m\u001b[0m\n",
      "\u001b[0;32m/usr/lib/python3/dist-packages/IPython/core/interactiveshell.py\u001b[0m in \u001b[0;36msafe_execfile_ipy\u001b[0;34m(self, fname, shell_futures, raise_exceptions)\u001b[0m\n\u001b[1;32m   2849\u001b[0m                     \u001b[0mresult\u001b[0m \u001b[0;34m=\u001b[0m \u001b[0mself\u001b[0m\u001b[0;34m.\u001b[0m\u001b[0mrun_cell\u001b[0m\u001b[0;34m(\u001b[0m\u001b[0mcell\u001b[0m\u001b[0;34m,\u001b[0m \u001b[0msilent\u001b[0m\u001b[0;34m=\u001b[0m\u001b[0;32mTrue\u001b[0m\u001b[0;34m,\u001b[0m \u001b[0mshell_futures\u001b[0m\u001b[0;34m=\u001b[0m\u001b[0mshell_futures\u001b[0m\u001b[0;34m)\u001b[0m\u001b[0;34m\u001b[0m\u001b[0;34m\u001b[0m\u001b[0m\n\u001b[1;32m   2850\u001b[0m                     \u001b[0;32mif\u001b[0m \u001b[0mraise_exceptions\u001b[0m\u001b[0;34m:\u001b[0m\u001b[0;34m\u001b[0m\u001b[0;34m\u001b[0m\u001b[0m\n\u001b[0;32m-> 2851\u001b[0;31m                         \u001b[0mresult\u001b[0m\u001b[0;34m.\u001b[0m\u001b[0mraise_error\u001b[0m\u001b[0;34m(\u001b[0m\u001b[0;34m)\u001b[0m\u001b[0;34m\u001b[0m\u001b[0;34m\u001b[0m\u001b[0m\n\u001b[0m\u001b[1;32m   2852\u001b[0m                     \u001b[0;32melif\u001b[0m \u001b[0;32mnot\u001b[0m \u001b[0mresult\u001b[0m\u001b[0;34m.\u001b[0m\u001b[0msuccess\u001b[0m\u001b[0;34m:\u001b[0m\u001b[0;34m\u001b[0m\u001b[0;34m\u001b[0m\u001b[0m\n\u001b[1;32m   2853\u001b[0m                         \u001b[0;32mbreak\u001b[0m\u001b[0;34m\u001b[0m\u001b[0;34m\u001b[0m\u001b[0m\n",
      "\u001b[0;32m/usr/lib/python3/dist-packages/IPython/core/interactiveshell.py\u001b[0m in \u001b[0;36mraise_error\u001b[0;34m(self)\u001b[0m\n\u001b[1;32m    330\u001b[0m             \u001b[0;32mraise\u001b[0m \u001b[0mself\u001b[0m\u001b[0;34m.\u001b[0m\u001b[0merror_before_exec\u001b[0m\u001b[0;34m\u001b[0m\u001b[0;34m\u001b[0m\u001b[0m\n\u001b[1;32m    331\u001b[0m         \u001b[0;32mif\u001b[0m \u001b[0mself\u001b[0m\u001b[0;34m.\u001b[0m\u001b[0merror_in_exec\u001b[0m \u001b[0;32mis\u001b[0m \u001b[0;32mnot\u001b[0m \u001b[0;32mNone\u001b[0m\u001b[0;34m:\u001b[0m\u001b[0;34m\u001b[0m\u001b[0;34m\u001b[0m\u001b[0m\n\u001b[0;32m--> 332\u001b[0;31m             \u001b[0;32mraise\u001b[0m \u001b[0mself\u001b[0m\u001b[0;34m.\u001b[0m\u001b[0merror_in_exec\u001b[0m\u001b[0;34m\u001b[0m\u001b[0;34m\u001b[0m\u001b[0m\n\u001b[0m\u001b[1;32m    333\u001b[0m \u001b[0;34m\u001b[0m\u001b[0m\n\u001b[1;32m    334\u001b[0m     \u001b[0;32mdef\u001b[0m \u001b[0m__repr__\u001b[0m\u001b[0;34m(\u001b[0m\u001b[0mself\u001b[0m\u001b[0;34m)\u001b[0m\u001b[0;34m:\u001b[0m\u001b[0;34m\u001b[0m\u001b[0;34m\u001b[0m\u001b[0m\n",
      "    \u001b[0;31m[... skipping hidden 1 frame]\u001b[0m\n",
      "\u001b[0;32m/tmp/ipykernel_125583/1647268837.py\u001b[0m in \u001b[0;36m<module>\u001b[0;34m\u001b[0m\n\u001b[0;32m----> 1\u001b[0;31m \u001b[0mdf_INSEE\u001b[0m \u001b[0;34m=\u001b[0m \u001b[0mpd\u001b[0m\u001b[0;34m.\u001b[0m\u001b[0mread_excel\u001b[0m\u001b[0;34m(\u001b[0m\u001b[0;34m\"base_cc_comparateur.xlsx\"\u001b[0m\u001b[0;34m,\u001b[0m \u001b[0mskiprows\u001b[0m\u001b[0;34m=\u001b[0m\u001b[0;36m5\u001b[0m\u001b[0;34m)\u001b[0m\u001b[0;34m\u001b[0m\u001b[0;34m\u001b[0m\u001b[0m\n\u001b[0m\u001b[1;32m      2\u001b[0m \u001b[0;34m\u001b[0m\u001b[0m\n",
      "\u001b[0;32m~/.local/lib/python3.10/site-packages/pandas/io/excel/_base.py\u001b[0m in \u001b[0;36mread_excel\u001b[0;34m(io, sheet_name, header, names, index_col, usecols, dtype, engine, converters, true_values, false_values, skiprows, nrows, na_values, keep_default_na, na_filter, verbose, parse_dates, date_parser, date_format, thousands, decimal, comment, skipfooter, storage_options, dtype_backend, engine_kwargs)\u001b[0m\n\u001b[1;32m    502\u001b[0m     \u001b[0;32mif\u001b[0m \u001b[0;32mnot\u001b[0m \u001b[0misinstance\u001b[0m\u001b[0;34m(\u001b[0m\u001b[0mio\u001b[0m\u001b[0;34m,\u001b[0m \u001b[0mExcelFile\u001b[0m\u001b[0;34m)\u001b[0m\u001b[0;34m:\u001b[0m\u001b[0;34m\u001b[0m\u001b[0;34m\u001b[0m\u001b[0m\n\u001b[1;32m    503\u001b[0m         \u001b[0mshould_close\u001b[0m \u001b[0;34m=\u001b[0m \u001b[0;32mTrue\u001b[0m\u001b[0;34m\u001b[0m\u001b[0;34m\u001b[0m\u001b[0m\n\u001b[0;32m--> 504\u001b[0;31m         io = ExcelFile(\n\u001b[0m\u001b[1;32m    505\u001b[0m             \u001b[0mio\u001b[0m\u001b[0;34m,\u001b[0m\u001b[0;34m\u001b[0m\u001b[0;34m\u001b[0m\u001b[0m\n\u001b[1;32m    506\u001b[0m             \u001b[0mstorage_options\u001b[0m\u001b[0;34m=\u001b[0m\u001b[0mstorage_options\u001b[0m\u001b[0;34m,\u001b[0m\u001b[0;34m\u001b[0m\u001b[0;34m\u001b[0m\u001b[0m\n",
      "\u001b[0;32m~/.local/lib/python3.10/site-packages/pandas/io/excel/_base.py\u001b[0m in \u001b[0;36m__init__\u001b[0;34m(self, path_or_buffer, engine, storage_options, engine_kwargs)\u001b[0m\n\u001b[1;32m   1561\u001b[0m                 \u001b[0mext\u001b[0m \u001b[0;34m=\u001b[0m \u001b[0;34m\"xls\"\u001b[0m\u001b[0;34m\u001b[0m\u001b[0;34m\u001b[0m\u001b[0m\n\u001b[1;32m   1562\u001b[0m             \u001b[0;32melse\u001b[0m\u001b[0;34m:\u001b[0m\u001b[0;34m\u001b[0m\u001b[0;34m\u001b[0m\u001b[0m\n\u001b[0;32m-> 1563\u001b[0;31m                 ext = inspect_excel_format(\n\u001b[0m\u001b[1;32m   1564\u001b[0m                     \u001b[0mcontent_or_path\u001b[0m\u001b[0;34m=\u001b[0m\u001b[0mpath_or_buffer\u001b[0m\u001b[0;34m,\u001b[0m \u001b[0mstorage_options\u001b[0m\u001b[0;34m=\u001b[0m\u001b[0mstorage_options\u001b[0m\u001b[0;34m\u001b[0m\u001b[0;34m\u001b[0m\u001b[0m\n\u001b[1;32m   1565\u001b[0m                 )\n",
      "\u001b[0;32m~/.local/lib/python3.10/site-packages/pandas/io/excel/_base.py\u001b[0m in \u001b[0;36minspect_excel_format\u001b[0;34m(content_or_path, storage_options)\u001b[0m\n\u001b[1;32m   1417\u001b[0m         \u001b[0mcontent_or_path\u001b[0m \u001b[0;34m=\u001b[0m \u001b[0mBytesIO\u001b[0m\u001b[0;34m(\u001b[0m\u001b[0mcontent_or_path\u001b[0m\u001b[0;34m)\u001b[0m\u001b[0;34m\u001b[0m\u001b[0;34m\u001b[0m\u001b[0m\n\u001b[1;32m   1418\u001b[0m \u001b[0;34m\u001b[0m\u001b[0m\n\u001b[0;32m-> 1419\u001b[0;31m     with get_handle(\n\u001b[0m\u001b[1;32m   1420\u001b[0m         \u001b[0mcontent_or_path\u001b[0m\u001b[0;34m,\u001b[0m \u001b[0;34m\"rb\"\u001b[0m\u001b[0;34m,\u001b[0m \u001b[0mstorage_options\u001b[0m\u001b[0;34m=\u001b[0m\u001b[0mstorage_options\u001b[0m\u001b[0;34m,\u001b[0m \u001b[0mis_text\u001b[0m\u001b[0;34m=\u001b[0m\u001b[0;32mFalse\u001b[0m\u001b[0;34m\u001b[0m\u001b[0;34m\u001b[0m\u001b[0m\n\u001b[1;32m   1421\u001b[0m     ) as handle:\n",
      "\u001b[0;32m~/.local/lib/python3.10/site-packages/pandas/io/common.py\u001b[0m in \u001b[0;36mget_handle\u001b[0;34m(path_or_buf, mode, encoding, compression, memory_map, is_text, errors, storage_options)\u001b[0m\n\u001b[1;32m    870\u001b[0m         \u001b[0;32melse\u001b[0m\u001b[0;34m:\u001b[0m\u001b[0;34m\u001b[0m\u001b[0;34m\u001b[0m\u001b[0m\n\u001b[1;32m    871\u001b[0m             \u001b[0;31m# Binary mode\u001b[0m\u001b[0;34m\u001b[0m\u001b[0;34m\u001b[0m\u001b[0m\n\u001b[0;32m--> 872\u001b[0;31m             \u001b[0mhandle\u001b[0m \u001b[0;34m=\u001b[0m \u001b[0mopen\u001b[0m\u001b[0;34m(\u001b[0m\u001b[0mhandle\u001b[0m\u001b[0;34m,\u001b[0m \u001b[0mioargs\u001b[0m\u001b[0;34m.\u001b[0m\u001b[0mmode\u001b[0m\u001b[0;34m)\u001b[0m\u001b[0;34m\u001b[0m\u001b[0;34m\u001b[0m\u001b[0m\n\u001b[0m\u001b[1;32m    873\u001b[0m         \u001b[0mhandles\u001b[0m\u001b[0;34m.\u001b[0m\u001b[0mappend\u001b[0m\u001b[0;34m(\u001b[0m\u001b[0mhandle\u001b[0m\u001b[0;34m)\u001b[0m\u001b[0;34m\u001b[0m\u001b[0;34m\u001b[0m\u001b[0m\n\u001b[1;32m    874\u001b[0m \u001b[0;34m\u001b[0m\u001b[0m\n",
      "\u001b[0;31mFileNotFoundError\u001b[0m: [Errno 2] No such file or directory: 'base_cc_comparateur.xlsx'"
     ]
    }
   ],
   "source": [
    "%run \"./1_base.ipynb\""
   ]
  },
  {
   "cell_type": "markdown",
   "id": "5e5c5c78",
   "metadata": {},
   "source": [
    "## Premières analyses descriptives"
   ]
  },
  {
   "cell_type": "code",
   "execution_count": null,
   "id": "128d3b20",
   "metadata": {},
   "outputs": [],
   "source": [
    "%run \"./2_desc.ipynb\""
   ]
  },
  {
   "cell_type": "markdown",
   "id": "3c88b045",
   "metadata": {},
   "source": [
    "## Modélisation"
   ]
  },
  {
   "cell_type": "code",
   "execution_count": null,
   "id": "5daeca4d",
   "metadata": {},
   "outputs": [],
   "source": [
    "%run \"./3_model.ipynb\""
   ]
  }
 ],
 "metadata": {
  "kernelspec": {
   "display_name": "Python 3 (ipykernel)",
   "language": "python",
   "name": "python3"
  },
  "language_info": {
   "codemirror_mode": {
    "name": "ipython",
    "version": 3
   },
   "file_extension": ".py",
   "mimetype": "text/x-python",
   "name": "python",
   "nbconvert_exporter": "python",
   "pygments_lexer": "ipython3",
   "version": "3.10.12"
  }
 },
 "nbformat": 4,
 "nbformat_minor": 5
}
