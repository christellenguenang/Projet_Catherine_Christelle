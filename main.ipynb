{
 "cells": [
  {
   "cell_type": "markdown",
   "id": "1d44728c",
   "metadata": {},
   "source": [
    "# Projet Python 2023 : études des aménagements cyclables en Ile-de-France"
   ]
  },
  {
   "cell_type": "markdown",
   "id": "67bd817f",
   "metadata": {},
   "source": [
    "Catherine Berleur et Christelle Nguenang Tchatchouang"
   ]
  },
  {
   "cell_type": "markdown",
   "id": "39794f00",
   "metadata": {},
   "source": [
    "## Introduction"
   ]
  },
  {
   "cell_type": "markdown",
   "id": "a03cc888",
   "metadata": {},
   "source": [
    "Blabla à rédiger (raccourcir le read me)"
   ]
  },
  {
   "cell_type": "markdown",
   "id": "17196ec5",
   "metadata": {},
   "source": [
    "## Les importations"
   ]
  },
  {
   "cell_type": "code",
   "execution_count": null,
   "id": "f18377f2",
   "metadata": {},
   "outputs": [],
   "source": [
    "import pandas as pd\n",
    "import seaborn as sns\n",
    "import numpy as np\n",
    "import matplotlib.pyplot as plt\n",
    "import geopandas as gpd\n",
    "import contextily as ctx\n",
    "import pynsee as yns\n",
    "import requests\n",
    "from pathlib import Path\n",
    "from cartiflette.s3 import download_vectorfile_url_all"
   ]
  },
  {
   "cell_type": "code",
   "execution_count": null,
   "id": "51c127ba",
   "metadata": {},
   "outputs": [],
   "source": [
    "## A faire tourner en cas de packages manquants :\n",
    "\n",
    "## Attention, pour valider votre input, il faut appuyer sur la touche \"Entrée\" et non sur \"Exécuter\"\n",
    "\n",
    "# %run \"./0_dep.ipynb\""
   ]
  },
  {
   "cell_type": "markdown",
   "id": "5c55652d",
   "metadata": {},
   "source": [
    "## Création de la base de travail"
   ]
  },
  {
   "cell_type": "code",
   "execution_count": null,
   "id": "4b7818d2",
   "metadata": {},
   "outputs": [],
   "source": [
    "%run \"./1_base.ipynb\""
   ]
  },
  {
   "cell_type": "markdown",
   "id": "5e5c5c78",
   "metadata": {},
   "source": [
    "## Premières analyses descriptives"
   ]
  },
  {
   "cell_type": "code",
   "execution_count": null,
   "id": "128d3b20",
   "metadata": {},
   "outputs": [],
   "source": [
    "%run \"./2_desc.ipynb\""
   ]
  },
  {
   "cell_type": "markdown",
   "id": "3c88b045",
   "metadata": {},
   "source": [
    "## Modélisation"
   ]
  },
  {
   "cell_type": "code",
   "execution_count": null,
   "id": "5daeca4d",
   "metadata": {},
   "outputs": [],
   "source": [
    "%run \"./3_model.ipynb\""
   ]
  }
 ],
 "metadata": {
  "kernelspec": {
   "display_name": "Python 3 (ipykernel)",
   "language": "python",
   "name": "python3"
  },
  "language_info": {
   "codemirror_mode": {
    "name": "ipython",
    "version": 3
   },
   "file_extension": ".py",
   "mimetype": "text/x-python",
   "name": "python",
   "nbconvert_exporter": "python",
   "pygments_lexer": "ipython3",
   "version": "3.10.12"
  }
 },
 "nbformat": 4,
 "nbformat_minor": 5
}
