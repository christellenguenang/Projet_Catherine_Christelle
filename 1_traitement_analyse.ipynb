{
 "cells": [
  {
   "cell_type": "markdown",
   "id": "8bf964b0-43a9-4bc0-98b1-6044506719f1",
   "metadata": {},
   "source": [
    "# Récupération et traitement des données"
   ]
  },
  {
   "cell_type": "code",
   "execution_count": 119,
   "id": "f95ff90b-914c-4361-a2de-dde6ce37d865",
   "metadata": {},
   "outputs": [],
   "source": [
    "import pandas as pd\n",
    "import seaborn as sns\n",
    "import numpy as np\n",
    "import matplotlib.pyplot as plt\n",
    "import geopandas as gpd\n",
    "import contextily as ctx\n",
    "import pynsee as yns\n",
    "import requests\n",
    "from shapely.geometry import Point\n",
    "from geopy.geocoders import Nominatim\n",
    "from cartiflette.s3 import download_vectorfile_url_all"
   ]
  },
  {
   "cell_type": "code",
   "execution_count": 120,
   "id": "2dc72e9f-1aa1-42e0-8d72-1029337c1ab1",
   "metadata": {},
   "outputs": [],
   "source": [
    "from pathlib import Path"
   ]
  },
  {
   "cell_type": "code",
   "execution_count": 121,
   "id": "3d222b10-4b92-4f47-b9bc-dbeb0f590521",
   "metadata": {},
   "outputs": [
    {
     "data": {
      "text/plain": [
       "PosixPath('/home/cathu/Documents/ENSAE/Projet_Catherine_Christelle')"
      ]
     },
     "execution_count": 121,
     "metadata": {},
     "output_type": "execute_result"
    }
   ],
   "source": [
    "Path.cwd()"
   ]
  },
  {
   "cell_type": "markdown",
   "id": "b4af1cba-c2ec-4e6e-88f6-63fd594aefac",
   "metadata": {},
   "source": [
    "## Les aménagements cyclables en Ile de France"
   ]
  },
  {
   "cell_type": "code",
   "execution_count": 122,
   "id": "4908c666-5241-4c8a-978e-35dba98de9e3",
   "metadata": {},
   "outputs": [],
   "source": [
    "a_velo= gpd.read_file('amenagements-velo-en-ile-de-france.geojson')"
   ]
  },
  {
   "cell_type": "code",
   "execution_count": 5,
   "id": "b385b74f-dbc1-4ca3-9c8b-ab0eb859c3c9",
   "metadata": {},
   "outputs": [
    {
     "data": {
      "text/plain": [
       "112217"
      ]
     },
     "execution_count": 5,
     "metadata": {},
     "output_type": "execute_result"
    }
   ],
   "source": [
    "# Nombre d'entrées\n",
    "a_velo.shape[0]"
   ]
  },
  {
   "cell_type": "code",
   "execution_count": 6,
   "id": "c372bc2a-af9b-4bad-a55a-35dfdc0f4f8f",
   "metadata": {},
   "outputs": [
    {
     "data": {
      "text/plain": [
       "<Geographic 2D CRS: EPSG:4326>\n",
       "Name: WGS 84\n",
       "Axis Info [ellipsoidal]:\n",
       "- Lat[north]: Geodetic latitude (degree)\n",
       "- Lon[east]: Geodetic longitude (degree)\n",
       "Area of Use:\n",
       "- name: World.\n",
       "- bounds: (-180.0, -90.0, 180.0, 90.0)\n",
       "Datum: World Geodetic System 1984 ensemble\n",
       "- Ellipsoid: WGS 84\n",
       "- Prime Meridian: Greenwich"
      ]
     },
     "execution_count": 6,
     "metadata": {},
     "output_type": "execute_result"
    }
   ],
   "source": [
    "a_velo.crs"
   ]
  },
  {
   "cell_type": "markdown",
   "id": "3e64b3e3-fb3e-4425-a6da-992fd6541a20",
   "metadata": {},
   "source": [
    "Un préalable au calcul des surfaces est le choix du système de projection adéquat. Dans notre cas , il s'agit de convertir les données au système de projection Lambert 93 qui est le plus approprié."
   ]
  },
  {
   "cell_type": "code",
   "execution_count": 7,
   "id": "493e84dc-7add-4efa-9e93-f58b9db017be",
   "metadata": {},
   "outputs": [
    {
     "data": {
      "text/plain": [
       "count    112217.000000\n",
       "mean        126.315959\n",
       "std         174.519817\n",
       "min           0.000000\n",
       "25%          24.000000\n",
       "50%          70.000000\n",
       "75%         161.000000\n",
       "max        3984.000000\n",
       "Name: longueur, dtype: float64"
      ]
     },
     "execution_count": 7,
     "metadata": {},
     "output_type": "execute_result"
    }
   ],
   "source": [
    "a_velo['longueur'].describe()"
   ]
  },
  {
   "cell_type": "code",
   "execution_count": 8,
   "id": "df8c8ffb-1933-4927-b51e-6ad67422bab1",
   "metadata": {},
   "outputs": [
    {
     "data": {
      "text/html": [
       "<div>\n",
       "<style scoped>\n",
       "    .dataframe tbody tr th:only-of-type {\n",
       "        vertical-align: middle;\n",
       "    }\n",
       "\n",
       "    .dataframe tbody tr th {\n",
       "        vertical-align: top;\n",
       "    }\n",
       "\n",
       "    .dataframe thead th {\n",
       "        text-align: right;\n",
       "    }\n",
       "</style>\n",
       "<table border=\"1\" class=\"dataframe\">\n",
       "  <thead>\n",
       "    <tr style=\"text-align: right;\">\n",
       "      <th></th>\n",
       "      <th>osm_id</th>\n",
       "      <th>nom_com</th>\n",
       "      <th>sens_voit</th>\n",
       "      <th>ag</th>\n",
       "      <th>panneaux</th>\n",
       "      <th>moyenn_ech</th>\n",
       "      <th>revetement</th>\n",
       "      <th>highway</th>\n",
       "      <th>insee_com</th>\n",
       "      <th>nom_voie</th>\n",
       "      <th>longueur</th>\n",
       "      <th>petite_ech</th>\n",
       "      <th>nv</th>\n",
       "      <th>ad</th>\n",
       "      <th>geometry</th>\n",
       "    </tr>\n",
       "  </thead>\n",
       "  <tbody>\n",
       "    <tr>\n",
       "      <th>100698</th>\n",
       "      <td>792297373.0</td>\n",
       "      <td>Mézières-sur-Seine</td>\n",
       "      <td>UNIQUE</td>\n",
       "      <td>None</td>\n",
       "      <td>None</td>\n",
       "      <td>22</td>\n",
       "      <td>asphalt</td>\n",
       "      <td>secondary</td>\n",
       "      <td>78402</td>\n",
       "      <td>Route de Paris à Cherbourg</td>\n",
       "      <td>23</td>\n",
       "      <td>2</td>\n",
       "      <td>None</td>\n",
       "      <td>bande uni</td>\n",
       "      <td>LINESTRING (1.79807 48.96214, 1.79776 48.96217)</td>\n",
       "    </tr>\n",
       "  </tbody>\n",
       "</table>\n",
       "</div>"
      ],
      "text/plain": [
       "             osm_id             nom_com sens_voit    ag panneaux moyenn_ech  \\\n",
       "100698  792297373.0  Mézières-sur-Seine    UNIQUE  None     None         22   \n",
       "\n",
       "       revetement    highway insee_com                    nom_voie  longueur  \\\n",
       "100698    asphalt  secondary     78402  Route de Paris à Cherbourg        23   \n",
       "\n",
       "       petite_ech    nv         ad  \\\n",
       "100698          2  None  bande uni   \n",
       "\n",
       "                                               geometry  \n",
       "100698  LINESTRING (1.79807 48.96214, 1.79776 48.96217)  "
      ]
     },
     "execution_count": 8,
     "metadata": {},
     "output_type": "execute_result"
    }
   ],
   "source": [
    "a_velo.sample(n=1)"
   ]
  },
  {
   "cell_type": "markdown",
   "id": "7410d9dc-0385-4b87-8d44-0e953c284b56",
   "metadata": {},
   "source": [
    "Pour le moment, nous travaillons sans les données de géolocalisation qui ne sont pas nécessaires aux calculs. Nous créons pour cela une nouvelle dataframe"
   ]
  },
  {
   "cell_type": "code",
   "execution_count": 9,
   "id": "a9b63cd7-a94e-4074-bb76-aba70a1d05fb",
   "metadata": {},
   "outputs": [],
   "source": [
    "col_to_keep = [\"nom_com\", \"sens_voit\", \"ag\", \"panneaux\", \"revetement\", \"highway\", \"insee_com\", \"longueur\", \"nv\", \"ad\"] "
   ]
  },
  {
   "cell_type": "code",
   "execution_count": 52,
   "id": "006d4d0c-352a-4eb7-b372-9d95f319e85c",
   "metadata": {},
   "outputs": [
    {
     "name": "stdout",
     "output_type": "stream",
     "text": [
      "         osm_id            nom_com sens_voit                              ag  \\\n",
      "0  4.014620e+08            Chelles    DOUBLE                            None   \n",
      "1  4.048666e+08   La Queue-en-Brie        NC  chemin service site propre uni   \n",
      "2  1.154304e+09            Lésigny        NC                  voie verte uni   \n",
      "3  3.300503e+08  Pontault-Combault    UNIQUE                       DSC bande   \n",
      "4  1.104033e+09   Champs-sur-Marne    UNIQUE                            None   \n",
      "\n",
      "  panneaux moyenn_ech revetement      highway insee_com  \\\n",
      "0     None         32       None      service     77108   \n",
      "1     None         11       None        track     94060   \n",
      "2     None         11    asphalt         path     77249   \n",
      "3     None         22       None  residential     77373   \n",
      "4     None         22    asphalt  residential     77083   \n",
      "\n",
      "                     nom_voie  longueur petite_ech            nv  \\\n",
      "0  Rue de la Mare Longue Noue        24          3     limite 30   \n",
      "1             Allée Jacquette        39          1   hors voirie   \n",
      "2                        None         5          1   hors voirie   \n",
      "3          Rue de la Chaussée        85          2  unclassified   \n",
      "4         Place Pablo Picasso         8          2  unclassified   \n",
      "\n",
      "                               ad  \\\n",
      "0                            None   \n",
      "1  chemin service site propre uni   \n",
      "2                  voie verte uni   \n",
      "3                            None   \n",
      "4                       bande uni   \n",
      "\n",
      "                                            geometry  qual_hw  qual_nv  \\\n",
      "0  LINESTRING (2.60486 48.89065, 2.60460 48.89061...        1      NaN   \n",
      "1    LINESTRING (2.60049 48.77164, 2.60036 48.77198)        1      NaN   \n",
      "2    LINESTRING (2.60844 48.74126, 2.60848 48.74130)        1      NaN   \n",
      "3  LINESTRING (2.60422 48.78336, 2.60419 48.78331...        2      2.0   \n",
      "4    LINESTRING (2.60568 48.84171, 2.60557 48.84170)        2      2.0   \n",
      "\n",
      "   longueur_pond_hw  longueur_pond_nv  \n",
      "0             30.00               NaN  \n",
      "1             48.75               NaN  \n",
      "2              6.25               NaN  \n",
      "3             85.00              85.0  \n",
      "4              8.00               8.0  \n"
     ]
    }
   ],
   "source": [
    "# df_a_velo = a_velo[col_to_keep].copy()\n",
    "\n",
    "df_a_velo = a_velo\n",
    "\n",
    "print(df_a_velo.head())"
   ]
  },
  {
   "cell_type": "markdown",
   "id": "4ba613ff-36c3-47e4-aa16-ce1011d318d1",
   "metadata": {},
   "source": [
    "### Toutes les pistes ne se valent pas : création de variables d'étude pour les aménagements cyclables"
   ]
  },
  {
   "cell_type": "markdown",
   "id": "85088bbf-6925-47ae-b388-4e0c8f09836b",
   "metadata": {},
   "source": [
    "Nous souhaitons étudier la répartition géograhique des aménagements cyclables et particulièrement leur densité en mètre par habitants. Toutefois, l'ensemble des pistes cyclables n'est pas de la même \"qualité\" : séparée de la route ou non, sens inverse de la circulation, type de revêtement, etc. Pour prendre en compte la qualité des aménagements cyclables, nous pouvons donner des coefficients aux mètres de pistes selon ces différents critères lors du calcul du nombre total de mètres aménagés par commune. Nous allons proposer plusieurs méthodes de calcul selon ces critères."
   ]
  },
  {
   "cell_type": "code",
   "execution_count": 80,
   "id": "41410030-c28d-4471-9f72-39ef5d8294db",
   "metadata": {},
   "outputs": [
    {
     "name": "stdout",
     "output_type": "stream",
     "text": [
      "['DOUBLE' 'NC' 'UNIQUE']\n",
      "[None 'chemin service site propre uni' 'voie verte uni' 'DSC bande'\n",
      " 'autre chemin velo uni' 'piste uni' 'DSC' 'piste trottoir uni'\n",
      " 'bande uni' 'cheminement trottoir uni' 'goulotte' 'chemin dedie uni'\n",
      " 'chaucidou' 'cheminement uni' 'DSC piste' 'voie bus uni' 'piste bi'\n",
      " 'bande bi' 'shoulder uni']\n",
      "[None 'asphalt' 'compacted' 'concrete' 'unpaved' 'wood' 'paving_stones'\n",
      " 'ground' 'sett' 'gravel' 'sand' 'paved' 'fine_gravel' 'dirt'\n",
      " 'cobblestone' 'concrete:plates' 'concrete:lanes' 'grass'\n",
      " 'cobblestone:flattened' 'metal' 'pebblestone' 'unhewn_cobblestone'\n",
      " 'bricks' 'tartan' 'pavés' 'vegecol' 'artificial_turf' 'grass_paver'\n",
      " 'earth' 'bitume' 'à_définir' 'rock']\n",
      "['service' 'track' 'path' 'residential' 'footway' 'cycleway' 'secondary'\n",
      " 'tertiary' 'living_street' 'unclassified' 'pedestrian' 'steps' 'primary'\n",
      " 'primary_link' 'secondary_link' 'tertiary_link' 'trunk_link'\n",
      " 'motorway_link']\n",
      "['limite 30' 'hors voirie' 'unclassified' 'z20' 'rue pietonne' 'z30'\n",
      " 'escalier velo' 'velorue' 'velo interdit']\n",
      "[None 'chemin service site propre uni' 'voie verte uni' 'bande uni'\n",
      " 'autre chemin velo uni' 'piste uni' 'piste trottoir uni'\n",
      " 'cheminement trottoir uni' 'goulotte' 'chemin dedie uni' 'chaucidou'\n",
      " 'cheminement uni' 'voie bus uni' 'piste bi' 'bande bi' 'DSC' 'DSC bande'\n",
      " 'shoulder uni']\n"
     ]
    }
   ],
   "source": [
    "print(df_a_velo[\"sens_voit\"].unique())\n",
    "print(df_a_velo[\"ag\"].unique())\n",
    "print(df_a_velo[\"revetement\"].unique())\n",
    "print(df_a_velo[\"highway\"].unique())\n",
    "print(df_a_velo[\"nv\"].unique())\n",
    "print(df_a_velo[\"ad\"].unique())"
   ]
  },
  {
   "cell_type": "code",
   "execution_count": 12,
   "id": "5e159e6b-11bd-40f8-87f0-e74d47bf2e37",
   "metadata": {},
   "outputs": [
    {
     "data": {
      "text/plain": [
       "0"
      ]
     },
     "execution_count": 12,
     "metadata": {},
     "output_type": "execute_result"
    }
   ],
   "source": [
    "df_a_velo['sens_voit'].isna().sum()"
   ]
  },
  {
   "cell_type": "code",
   "execution_count": 13,
   "id": "7d772fa6-c217-4ca1-8192-245825a0203d",
   "metadata": {},
   "outputs": [
    {
     "data": {
      "text/plain": [
       "68312"
      ]
     },
     "execution_count": 13,
     "metadata": {},
     "output_type": "execute_result"
    }
   ],
   "source": [
    "df_a_velo['ag'].isna().sum()"
   ]
  },
  {
   "cell_type": "code",
   "execution_count": 14,
   "id": "2f17de1a-d26b-470d-be7d-4ff09eae8705",
   "metadata": {},
   "outputs": [
    {
     "data": {
      "text/plain": [
       "38711"
      ]
     },
     "execution_count": 14,
     "metadata": {},
     "output_type": "execute_result"
    }
   ],
   "source": [
    "df_a_velo['revetement'].isna().sum()"
   ]
  },
  {
   "cell_type": "code",
   "execution_count": 15,
   "id": "613705ca-1a9a-4298-906c-51f71bd4c1d8",
   "metadata": {},
   "outputs": [
    {
     "data": {
      "text/plain": [
       "0"
      ]
     },
     "execution_count": 15,
     "metadata": {},
     "output_type": "execute_result"
    }
   ],
   "source": [
    "df_a_velo['highway'].isna().sum()"
   ]
  },
  {
   "cell_type": "code",
   "execution_count": 79,
   "id": "32876a74-5705-4cc5-a6de-554050ce794e",
   "metadata": {},
   "outputs": [
    {
     "data": {
      "text/plain": [
       "0"
      ]
     },
     "execution_count": 79,
     "metadata": {},
     "output_type": "execute_result"
    }
   ],
   "source": [
    "df_a_velo['nv'].isna().sum()"
   ]
  },
  {
   "cell_type": "code",
   "execution_count": 17,
   "id": "c70a222a-16e6-4954-bf32-5bce8ada24c6",
   "metadata": {},
   "outputs": [
    {
     "data": {
      "text/plain": [
       "68522"
      ]
     },
     "execution_count": 17,
     "metadata": {},
     "output_type": "execute_result"
    }
   ],
   "source": [
    "df_a_velo['ad'].isna().sum()"
   ]
  },
  {
   "cell_type": "code",
   "execution_count": 75,
   "id": "2c7f7d86",
   "metadata": {},
   "outputs": [
    {
     "name": "stdout",
     "output_type": "stream",
     "text": [
      "9548\n",
      "4025\n"
     ]
    }
   ],
   "source": [
    "print(df_a_velo['highway'].value_counts().get('unclassified', 0))"
   ]
  },
  {
   "cell_type": "code",
   "execution_count": 77,
   "id": "68d39ecb-96fd-430e-a380-7a89d860f485",
   "metadata": {
    "jupyter": {
     "source_hidden": true
    }
   },
   "outputs": [],
   "source": [
    "df_a_velo['adg'] = df_a_velo.apply(lambda row: row['ad'] if pd.notna(row['ad']) else (row['ag'] if pd.notna(row['ag']) else 'unclassified'), axis=1)"
   ]
  },
  {
   "cell_type": "code",
   "execution_count": 78,
   "id": "fbc9f73e-67bc-44f5-b5ea-c19fd0d7af60",
   "metadata": {},
   "outputs": [
    {
     "name": "stdout",
     "output_type": "stream",
     "text": [
      "55496\n"
     ]
    }
   ],
   "source": [
    "print(df_a_velo['adg'].value_counts().get('unclassified', 0))"
   ]
  },
  {
   "cell_type": "markdown",
   "id": "c68d7b0c-c807-448a-a978-ef357c160346",
   "metadata": {},
   "source": [
    "Seul le critère suivant ne présente pas trop de valeurs manquantes (nommées 'unclassified' dans la base) :  type de route (\"highway\", cf [documentation OpenstreeMap](https://wiki.openstreetmap.org/wiki/Key:highway) ). Les autres variables ont soit trop de valeurs manquantes soit manquent d'intérêt seule (sens des voitures). Cependant, \"highway\" est une colonne générale de catégorisation pour les données d'OpenStreetMap et manque de spécificité pour l'étude des pistes cyclables. Nous allons donc proposer deux méthodes de pondération (en plus d'une variable non pondérée) : une avec \"highway\", une avec \"adg\" (['nature de la voie'](https://opendata.stif.info/api/datasets/1.0/amenagements-velo-en-ile-de-france/attachments/metadonnees_amenagements_velo_en_ile_de_france_pdf/)), en proposant de normer les chemins dont nous n'avons pas connaissance de la qualité. Le nombre de valeurs manquantes est cependant très important, malgré notre tentative de réduire son ampleur en sommant ad et ag (ce sont les types de voies à gauche et à droite). Roulant à droite en, nous avons donner la priorité à voie à droite.\n",
    "\n",
    "Nous allons produire 3 variables : deux pondérées censées prendre en compte la qualité de la route, et une autre sans pondération, pour la longueur d'aménagements cyclables par ville. Pour prendre en compte la qualité nous trions les types de routes en leur affectant des poids selon leurs caractéristiques : bande le long d'une route ou séparation, chemin avec ou sans voiture, avec ou sans piéton, etc. Pour cela, la variable \"adg\" nous semble plus adaptée car plus précise, mais elle a le défaut de présenter énormément valeurs manquantes. Lorsque la valeur est manquante nous assignons un poids neutre (1). La comparaison des résultats avec les 2 méthodes de pondération ou la méthode sans pondération pourra aussi nous renseigner sur la qualité de notre catégorisation."
   ]
  },
  {
   "cell_type": "code",
   "execution_count": 81,
   "id": "ebb90855-0b9c-40eb-9d0b-2295c637b0a5",
   "metadata": {},
   "outputs": [
    {
     "name": "stdout",
     "output_type": "stream",
     "text": [
      "['unclassified' 'chemin service site propre uni' 'voie verte uni'\n",
      " 'DSC bande' 'bande uni' 'autre chemin velo uni' 'piste uni' 'DSC'\n",
      " 'piste trottoir uni' 'cheminement trottoir uni' 'goulotte'\n",
      " 'chemin dedie uni' 'chaucidou' 'cheminement uni' 'voie bus uni'\n",
      " 'DSC piste' 'piste bi' 'bande bi' 'shoulder uni']\n"
     ]
    }
   ],
   "source": [
    "print(df_a_velo[\"adg\"].unique())"
   ]
  },
  {
   "cell_type": "code",
   "execution_count": 99,
   "id": "fb4ead7b-76e1-4a59-9fe8-50445aba1e20",
   "metadata": {},
   "outputs": [],
   "source": [
    "highway_quality_mapping = {\n",
    "    'service': 1,\n",
    "    'track': 1,\n",
    "    'path': 1,\n",
    "    'trunk_link': 1,\n",
    "    'motorway_link': 1,\n",
    "    'residential': 2,\n",
    "    'footway': 2,\n",
    "    'cycleway': 2,\n",
    "    'primary': 2,    \n",
    "    'primary_link': 2,\n",
    "    'unclassified': 2,\n",
    "    'secondary': 3,\n",
    "    'tertiary': 3,\n",
    "    'secondary_link': 3,\n",
    "    'tertiary_link': 3,\n",
    "    'living_street': 3,\n",
    "    'pedestrian': 4,\n",
    "    'steps': 4\n",
    "}\n",
    "\n",
    "\n",
    "adg_quality_mapping = {\n",
    "    'chemin service site propre uni': 1,\n",
    "    'chemin dedie uni': 1,\n",
    "    'voie verte uni': 1,\n",
    "    'autre chemin velo uni': 1,\n",
    "    'piste bi' : 1,\n",
    "    'piste uni': 1,\n",
    "    'bande uni': 2,\n",
    "    'bande bi' : 2,\n",
    "    'unclassified': 2,\n",
    "    'cheminement trottoir uni' : 3,\n",
    "    'piste trottoir uni': 3,\n",
    "    'chaucidou': 3,\n",
    "    'cheminement uni': 3,\n",
    "    'shoulder uni' : 3,\n",
    "    'voie bus uni': 4,\n",
    "    'goulotte': 4,\n",
    "    'DSC': 4,\n",
    "    'DSC bande' : 4,\n",
    "    'DSC piste' : 4\n",
    "}"
   ]
  },
  {
   "cell_type": "code",
   "execution_count": 100,
   "id": "95e6b101-619c-4400-8c60-58b5524957ad",
   "metadata": {},
   "outputs": [],
   "source": [
    "df_a_velo['qual_hw'] = df_a_velo['highway'].map(highway_quality_mapping)\n",
    "\n",
    "df_a_velo['qual_adg'] = df_a_velo['adg'].map(adg_quality_mapping)"
   ]
  },
  {
   "cell_type": "code",
   "execution_count": 101,
   "id": "e932b078-6a16-44fb-b465-5e450e4dd115",
   "metadata": {},
   "outputs": [],
   "source": [
    "quality_weights = {\n",
    "    1: 1.25,\n",
    "    2: 1.,\n",
    "    3: 0.75,\n",
    "    4: 0.5\n",
    "}"
   ]
  },
  {
   "cell_type": "code",
   "execution_count": 102,
   "id": "f76f4fa9-f081-46fd-8ab2-e227dc5c0788",
   "metadata": {},
   "outputs": [],
   "source": [
    "# Nouvelle colonne pour la longueur pondérée highway\n",
    "\n",
    "df_a_velo['longueur_pond_hw'] = df_a_velo['longueur'] * df_a_velo['qual_hw'].map(quality_weights)\n",
    "\n",
    "# Nouvelle colonne pour la longueur pondérée nature voie\n",
    "\n",
    "df_a_velo['longueur_pond_adg'] = df_a_velo['longueur'] * df_a_velo['qual_adg'].map(quality_weights)"
   ]
  },
  {
   "cell_type": "code",
   "execution_count": 105,
   "id": "d1f4237c-43f7-479b-a47a-33ad13aa0fa1",
   "metadata": {
    "scrolled": true
   },
   "outputs": [
    {
     "name": "stdout",
     "output_type": "stream",
     "text": [
      "14028145.5\n"
     ]
    }
   ],
   "source": [
    "total_longueur_pond_hw = df_a_velo['longueur_pond_hw'].sum()\n",
    "print(total_longueur_pond_hw) #longueur totale de l'échantillon avec majoration pondérée"
   ]
  },
  {
   "cell_type": "code",
   "execution_count": 106,
   "id": "d00b516b",
   "metadata": {},
   "outputs": [
    {
     "name": "stdout",
     "output_type": "stream",
     "text": [
      "14382204.5\n"
     ]
    }
   ],
   "source": [
    "total_longueur_pond_nv = df_a_velo['longueur_pond_adg'].sum()\n",
    "print(total_longueur_pond_nv) #longueur totale de l'échantillon avec majoration pondérée"
   ]
  },
  {
   "cell_type": "code",
   "execution_count": 107,
   "id": "fc5b75ca-dbc8-46cd-861e-f032a2a69dde",
   "metadata": {},
   "outputs": [
    {
     "name": "stdout",
     "output_type": "stream",
     "text": [
      "14174798\n"
     ]
    }
   ],
   "source": [
    "total_longueur = df_a_velo['longueur'].sum()\n",
    "print(total_longueur)"
   ]
  },
  {
   "cell_type": "code",
   "execution_count": 108,
   "id": "5f4b6e12-5582-46a4-84de-5a1c60a820ee",
   "metadata": {},
   "outputs": [],
   "source": [
    "total_longueur_commune = df_a_velo.groupby(['nom_com', 'insee_com'])['longueur'].sum().reset_index()"
   ]
  },
  {
   "cell_type": "code",
   "execution_count": 109,
   "id": "46ae551f-4b7e-403e-aa17-7137d8f936e9",
   "metadata": {},
   "outputs": [],
   "source": [
    "total_longueur_pond_hw_commune = df_a_velo.groupby(['nom_com', 'insee_com'])['longueur_pond_hw'].sum().reset_index()"
   ]
  },
  {
   "cell_type": "code",
   "execution_count": 110,
   "id": "d5c3d61a-d0d4-4407-993c-bda3fdbcedc8",
   "metadata": {},
   "outputs": [],
   "source": [
    "total_longueur_pond_adg_commune = df_a_velo.groupby(['nom_com', 'insee_com'])['longueur_pond_adg'].sum().reset_index()"
   ]
  },
  {
   "cell_type": "code",
   "execution_count": 111,
   "id": "d5fe954d-49db-4c0c-ba03-4d469edc7c1e",
   "metadata": {},
   "outputs": [],
   "source": [
    "df_amenagements = pd.merge(total_longueur_commune, total_longueur_pond_hw_commune, on=['nom_com', 'insee_com'], suffixes=('_non_pond', '_pond_hw'))"
   ]
  },
  {
   "cell_type": "code",
   "execution_count": 112,
   "id": "17cdfa01-f702-418a-824d-e835b9978952",
   "metadata": {},
   "outputs": [],
   "source": [
    "df_amenagements = pd.merge(df_amenagements, total_longueur_pond_adg_commune, on=['nom_com', 'insee_com'], suffixes=(None, '_pond_adg'))"
   ]
  },
  {
   "cell_type": "code",
   "execution_count": 113,
   "id": "c4a7279f-6940-44fd-8944-31b0d828f7c2",
   "metadata": {},
   "outputs": [
    {
     "data": {
      "text/html": [
       "<div>\n",
       "<style scoped>\n",
       "    .dataframe tbody tr th:only-of-type {\n",
       "        vertical-align: middle;\n",
       "    }\n",
       "\n",
       "    .dataframe tbody tr th {\n",
       "        vertical-align: top;\n",
       "    }\n",
       "\n",
       "    .dataframe thead th {\n",
       "        text-align: right;\n",
       "    }\n",
       "</style>\n",
       "<table border=\"1\" class=\"dataframe\">\n",
       "  <thead>\n",
       "    <tr style=\"text-align: right;\">\n",
       "      <th></th>\n",
       "      <th>nom_com</th>\n",
       "      <th>insee_com</th>\n",
       "      <th>longueur</th>\n",
       "      <th>longueur_pond_hw</th>\n",
       "      <th>longueur_pond_adg</th>\n",
       "    </tr>\n",
       "  </thead>\n",
       "  <tbody>\n",
       "    <tr>\n",
       "      <th>267</th>\n",
       "      <td>Dammarie-les-Lys</td>\n",
       "      <td>77152</td>\n",
       "      <td>30862</td>\n",
       "      <td>31861.25</td>\n",
       "      <td>33337.50</td>\n",
       "    </tr>\n",
       "    <tr>\n",
       "      <th>929</th>\n",
       "      <td>Villaines-sous-Bois</td>\n",
       "      <td>95660</td>\n",
       "      <td>3260</td>\n",
       "      <td>3084.00</td>\n",
       "      <td>3305.75</td>\n",
       "    </tr>\n",
       "    <tr>\n",
       "      <th>86</th>\n",
       "      <td>Beynes</td>\n",
       "      <td>78062</td>\n",
       "      <td>27886</td>\n",
       "      <td>27517.00</td>\n",
       "      <td>27924.50</td>\n",
       "    </tr>\n",
       "    <tr>\n",
       "      <th>138</th>\n",
       "      <td>Brunoy</td>\n",
       "      <td>91114</td>\n",
       "      <td>30180</td>\n",
       "      <td>29856.00</td>\n",
       "      <td>31480.50</td>\n",
       "    </tr>\n",
       "    <tr>\n",
       "      <th>602</th>\n",
       "      <td>Montlignon</td>\n",
       "      <td>95426</td>\n",
       "      <td>10993</td>\n",
       "      <td>11361.25</td>\n",
       "      <td>12168.50</td>\n",
       "    </tr>\n",
       "    <tr>\n",
       "      <th>713</th>\n",
       "      <td>Pringy</td>\n",
       "      <td>77378</td>\n",
       "      <td>785</td>\n",
       "      <td>904.00</td>\n",
       "      <td>942.25</td>\n",
       "    </tr>\n",
       "    <tr>\n",
       "      <th>784</th>\n",
       "      <td>Saint-Lambert</td>\n",
       "      <td>78561</td>\n",
       "      <td>6022</td>\n",
       "      <td>6116.50</td>\n",
       "      <td>6197.50</td>\n",
       "    </tr>\n",
       "    <tr>\n",
       "      <th>94</th>\n",
       "      <td>Boinvilliers</td>\n",
       "      <td>78072</td>\n",
       "      <td>1855</td>\n",
       "      <td>1909.75</td>\n",
       "      <td>1855.00</td>\n",
       "    </tr>\n",
       "    <tr>\n",
       "      <th>889</th>\n",
       "      <td>Ussy-sur-Marne</td>\n",
       "      <td>77478</td>\n",
       "      <td>146</td>\n",
       "      <td>182.50</td>\n",
       "      <td>182.50</td>\n",
       "    </tr>\n",
       "    <tr>\n",
       "      <th>588</th>\n",
       "      <td>Montcourt-Fromonville</td>\n",
       "      <td>77302</td>\n",
       "      <td>4734</td>\n",
       "      <td>5337.00</td>\n",
       "      <td>4711.00</td>\n",
       "    </tr>\n",
       "  </tbody>\n",
       "</table>\n",
       "</div>"
      ],
      "text/plain": [
       "                   nom_com insee_com  longueur  longueur_pond_hw  \\\n",
       "267       Dammarie-les-Lys     77152     30862          31861.25   \n",
       "929    Villaines-sous-Bois     95660      3260           3084.00   \n",
       "86                  Beynes     78062     27886          27517.00   \n",
       "138                 Brunoy     91114     30180          29856.00   \n",
       "602             Montlignon     95426     10993          11361.25   \n",
       "713                 Pringy     77378       785            904.00   \n",
       "784          Saint-Lambert     78561      6022           6116.50   \n",
       "94            Boinvilliers     78072      1855           1909.75   \n",
       "889         Ussy-sur-Marne     77478       146            182.50   \n",
       "588  Montcourt-Fromonville     77302      4734           5337.00   \n",
       "\n",
       "     longueur_pond_adg  \n",
       "267           33337.50  \n",
       "929            3305.75  \n",
       "86            27924.50  \n",
       "138           31480.50  \n",
       "602           12168.50  \n",
       "713             942.25  \n",
       "784            6197.50  \n",
       "94             1855.00  \n",
       "889             182.50  \n",
       "588            4711.00  "
      ]
     },
     "execution_count": 113,
     "metadata": {},
     "output_type": "execute_result"
    }
   ],
   "source": [
    "df_amenagements.sample(10)"
   ]
  },
  {
   "cell_type": "code",
   "execution_count": 114,
   "id": "46b09c0d-f367-4a91-922b-3601348b60d8",
   "metadata": {},
   "outputs": [],
   "source": [
    "df_amenagements['difference_hw'] = df_amenagements['longueur_pond_hw'] - df_amenagements['longueur']\n",
    "df_amenagements['difference_adg'] = df_amenagements['longueur_pond_adg'] - df_amenagements['longueur']"
   ]
  },
  {
   "cell_type": "markdown",
   "id": "4bf5f5fb-e6ad-49d5-a47c-287934484acc",
   "metadata": {},
   "source": [
    "Nous avons créé nos trois indicateurs par commune : longueur et longueur pondérée (adg et hw) par commune, mais nous avons perdu de l'information dans cette opération puisque nous perdons de ce fait les coordonnées exactes des aménagements. Cependant, pour l'étude de la densité, cela pourra aussi s'avérer utile. Surtout nous avons besoin de ces indicateurs pour le travail économétrique que nous souhaitons mener, où nous considérons alors les communes comme des individus, et la longueur des pistes cyclables comme nous variable d'intérêt. Cependant, avant de passer à la modélisation économétrique pour tenter d'expliquer le développement des aménagements dans les différentes communes, nous souhaitons représenter et analyser spatialement la répartition des aménagements, leur densité (par habitant), leur densité (par kilomètre) et notamment compléter ces analyses grâce à la disponibilité des données du Vélib."
   ]
  },
  {
   "cell_type": "markdown",
   "id": "948540f6-cdef-458b-8031-42306908c4da",
   "metadata": {},
   "source": [
    "## Les vélibs en Ile de France"
   ]
  },
  {
   "cell_type": "code",
   "execution_count": 115,
   "id": "3b714fe5-0271-4851-9c34-ab3c73ad95bd",
   "metadata": {},
   "outputs": [],
   "source": [
    "url2 = \"https://opendata.paris.fr/explore/dataset/velib-emplacement-des-stations/download/?format=geojson&timezone=Europe/Berlin&lang=fr\""
   ]
  },
  {
   "cell_type": "code",
   "execution_count": 116,
   "id": "a0a36b02-aac1-41ce-b9a4-4bead9c0d18f",
   "metadata": {},
   "outputs": [],
   "source": [
    "velib = gpd.read_file(url2)"
   ]
  },
  {
   "cell_type": "code",
   "execution_count": 123,
   "id": "a03c0b00-0912-48bf-a80a-fdacc7d17423",
   "metadata": {},
   "outputs": [
    {
     "data": {
      "text/html": [
       "<div>\n",
       "<style scoped>\n",
       "    .dataframe tbody tr th:only-of-type {\n",
       "        vertical-align: middle;\n",
       "    }\n",
       "\n",
       "    .dataframe tbody tr th {\n",
       "        vertical-align: top;\n",
       "    }\n",
       "\n",
       "    .dataframe thead th {\n",
       "        text-align: right;\n",
       "    }\n",
       "</style>\n",
       "<table border=\"1\" class=\"dataframe\">\n",
       "  <thead>\n",
       "    <tr style=\"text-align: right;\">\n",
       "      <th></th>\n",
       "      <th>capacity</th>\n",
       "      <th>name</th>\n",
       "      <th>stationcode</th>\n",
       "      <th>geometry</th>\n",
       "    </tr>\n",
       "  </thead>\n",
       "  <tbody>\n",
       "    <tr>\n",
       "      <th>1093</th>\n",
       "      <td>50</td>\n",
       "      <td>Dom-Pérignon - Gravelle</td>\n",
       "      <td>12119</td>\n",
       "      <td>POINT (2.40988 48.82548)</td>\n",
       "    </tr>\n",
       "    <tr>\n",
       "      <th>28</th>\n",
       "      <td>43</td>\n",
       "      <td>Boulets - Faubourg Saint-Antoine</td>\n",
       "      <td>11010</td>\n",
       "      <td>POINT (2.39175 48.84926)</td>\n",
       "    </tr>\n",
       "    <tr>\n",
       "      <th>1123</th>\n",
       "      <td>34</td>\n",
       "      <td>Sommerard - Saint-Jacques</td>\n",
       "      <td>5002</td>\n",
       "      <td>POINT (2.34502 48.85031)</td>\n",
       "    </tr>\n",
       "    <tr>\n",
       "      <th>38</th>\n",
       "      <td>33</td>\n",
       "      <td>Saint-Fargeau - Mortier</td>\n",
       "      <td>20117</td>\n",
       "      <td>POINT (2.40791 48.87267)</td>\n",
       "    </tr>\n",
       "    <tr>\n",
       "      <th>857</th>\n",
       "      <td>30</td>\n",
       "      <td>Quai de l'Oise - Aisne</td>\n",
       "      <td>19128</td>\n",
       "      <td>POINT (2.38337 48.89062)</td>\n",
       "    </tr>\n",
       "    <tr>\n",
       "      <th>735</th>\n",
       "      <td>30</td>\n",
       "      <td>Gare de Robinson</td>\n",
       "      <td>23303</td>\n",
       "      <td>POINT (2.28183 48.77993)</td>\n",
       "    </tr>\n",
       "    <tr>\n",
       "      <th>990</th>\n",
       "      <td>33</td>\n",
       "      <td>Vistule - Choisy</td>\n",
       "      <td>13113</td>\n",
       "      <td>POINT (2.36157 48.82366)</td>\n",
       "    </tr>\n",
       "    <tr>\n",
       "      <th>98</th>\n",
       "      <td>30</td>\n",
       "      <td>Gare RER de Gentilly</td>\n",
       "      <td>42504</td>\n",
       "      <td>POINT (2.34103 48.81428)</td>\n",
       "    </tr>\n",
       "    <tr>\n",
       "      <th>815</th>\n",
       "      <td>33</td>\n",
       "      <td>Rossini - Laffitte</td>\n",
       "      <td>9022</td>\n",
       "      <td>POINT (2.33798 48.87335)</td>\n",
       "    </tr>\n",
       "    <tr>\n",
       "      <th>156</th>\n",
       "      <td>17</td>\n",
       "      <td>Galilée - Vernet</td>\n",
       "      <td>8003</td>\n",
       "      <td>POINT (2.29854 48.87172)</td>\n",
       "    </tr>\n",
       "    <tr>\n",
       "      <th>1375</th>\n",
       "      <td>33</td>\n",
       "      <td>Mairie de Clamart</td>\n",
       "      <td>21401</td>\n",
       "      <td>POINT (2.26215 48.80061)</td>\n",
       "    </tr>\n",
       "    <tr>\n",
       "      <th>1434</th>\n",
       "      <td>29</td>\n",
       "      <td>Quai Marcel Boyer - Victor Hugo</td>\n",
       "      <td>42011</td>\n",
       "      <td>POINT (2.39204 48.82256)</td>\n",
       "    </tr>\n",
       "    <tr>\n",
       "      <th>15</th>\n",
       "      <td>33</td>\n",
       "      <td>Faustin Hélie - Desbordes-Valmore</td>\n",
       "      <td>16111</td>\n",
       "      <td>POINT (2.27652 48.85940)</td>\n",
       "    </tr>\n",
       "    <tr>\n",
       "      <th>400</th>\n",
       "      <td>27</td>\n",
       "      <td>Mairie du 7ème</td>\n",
       "      <td>7102</td>\n",
       "      <td>POINT (2.31927 48.85780)</td>\n",
       "    </tr>\n",
       "    <tr>\n",
       "      <th>6</th>\n",
       "      <td>39</td>\n",
       "      <td>Panthéon - Valette</td>\n",
       "      <td>5032</td>\n",
       "      <td>POINT (2.34650 48.84702)</td>\n",
       "    </tr>\n",
       "  </tbody>\n",
       "</table>\n",
       "</div>"
      ],
      "text/plain": [
       "      capacity                               name stationcode  \\\n",
       "1093        50            Dom-Pérignon - Gravelle       12119   \n",
       "28          43   Boulets - Faubourg Saint-Antoine       11010   \n",
       "1123        34          Sommerard - Saint-Jacques        5002   \n",
       "38          33            Saint-Fargeau - Mortier       20117   \n",
       "857         30             Quai de l'Oise - Aisne       19128   \n",
       "735         30                   Gare de Robinson       23303   \n",
       "990         33                   Vistule - Choisy       13113   \n",
       "98          30               Gare RER de Gentilly       42504   \n",
       "815         33                 Rossini - Laffitte        9022   \n",
       "156         17                   Galilée - Vernet        8003   \n",
       "1375        33                  Mairie de Clamart       21401   \n",
       "1434        29    Quai Marcel Boyer - Victor Hugo       42011   \n",
       "15          33  Faustin Hélie - Desbordes-Valmore       16111   \n",
       "400         27                     Mairie du 7ème        7102   \n",
       "6           39                 Panthéon - Valette        5032   \n",
       "\n",
       "                      geometry  \n",
       "1093  POINT (2.40988 48.82548)  \n",
       "28    POINT (2.39175 48.84926)  \n",
       "1123  POINT (2.34502 48.85031)  \n",
       "38    POINT (2.40791 48.87267)  \n",
       "857   POINT (2.38337 48.89062)  \n",
       "735   POINT (2.28183 48.77993)  \n",
       "990   POINT (2.36157 48.82366)  \n",
       "98    POINT (2.34103 48.81428)  \n",
       "815   POINT (2.33798 48.87335)  \n",
       "156   POINT (2.29854 48.87172)  \n",
       "1375  POINT (2.26215 48.80061)  \n",
       "1434  POINT (2.39204 48.82256)  \n",
       "15    POINT (2.27652 48.85940)  \n",
       "400   POINT (2.31927 48.85780)  \n",
       "6     POINT (2.34650 48.84702)  "
      ]
     },
     "execution_count": 123,
     "metadata": {},
     "output_type": "execute_result"
    }
   ],
   "source": [
    "velib.sample(n=15)"
   ]
  },
  {
   "cell_type": "code",
   "execution_count": 126,
   "id": "a70dc736-10c9-446f-953c-2dd2acb8d5da",
   "metadata": {},
   "outputs": [],
   "source": [
    "# Initialiser le géocodeur Nominatim\n",
    "geolocator = Nominatim(user_agent=\"my_geocoder\")\n",
    "\n",
    "# Fonction pour obtenir le code postal à partir des coordonnées\n",
    "def get_postal_code(point):\n",
    "    location = geolocator.reverse((point.y, point.x), language='fr')\n",
    "    if location and location.raw.get('address', {}).get('postcode'):\n",
    "        return location.raw['address']['postcode']\n",
    "    else:\n",
    "        return None"
   ]
  },
  {
   "cell_type": "code",
   "execution_count": null,
   "id": "9ce6b214-b915-4eac-a1d8-61bb37ae76fd",
   "metadata": {},
   "outputs": [],
   "source": [
    "velib['code_postal'] = velib['geometry'].apply(get_postal_code)"
   ]
  },
  {
   "cell_type": "markdown",
   "id": "192ebff7-b4c4-4a1e-9163-912e03c65bca",
   "metadata": {},
   "source": [
    "## Données et ressources nécessaires pour l'étude spatiale"
   ]
  },
  {
   "cell_type": "code",
   "execution_count": null,
   "id": "dec6b68e-5d8e-41e3-8dcc-bff3715affec",
   "metadata": {},
   "outputs": [],
   "source": [
    "communes = download_vectorfile_url_all(\n",
    "    crs = 4326,\n",
    "    borders=\"COMMUNE_ARRONDISSEMENT\",\n",
    "    values = [\"75\",\"77\",\"78\",\"91\", \"92\", \"93\", \"94\",\"95\"],\n",
    "    vectorfile_format=\"topojson\",\n",
    "    filter_by=\"DEPARTEMENT\",\n",
    "    source=\"EXPRESS-COG-CARTO-TERRITOIRE\",\n",
    "    year=2022)"
   ]
  },
  {
   "cell_type": "markdown",
   "id": "f0c3d002-4c38-49b0-9a94-e01ca5afb9bf",
   "metadata": {},
   "source": [
    "Un préalable au calcul des surfaces est le choix du système de projection adéquat. Dans notre cas , il s'agit de convertir les données au système de projection Lambert 93 qui est le plus approprié."
   ]
  },
  {
   "cell_type": "code",
   "execution_count": null,
   "id": "96cd02f8-c592-4e76-8f10-dbb71c42c153",
   "metadata": {},
   "outputs": [],
   "source": [
    "communes['surface'] = communes.to_crs(2154).area"
   ]
  },
  {
   "cell_type": "code",
   "execution_count": null,
   "id": "a31acc6a-2b4e-4e10-84c6-464c871021ef",
   "metadata": {},
   "outputs": [],
   "source": [
    "communes.sort_values('surface', ascending = False)"
   ]
  },
  {
   "cell_type": "code",
   "execution_count": null,
   "id": "46319b27-576e-4315-89b2-88d51f8481ac",
   "metadata": {},
   "outputs": [],
   "source": [
    "communes.rename(columns={'INSEE_COG': 'insee_com'}, inplace=True)"
   ]
  },
  {
   "cell_type": "code",
   "execution_count": null,
   "id": "6a959414-63f6-48b6-bfaf-3e6a82e25bc3",
   "metadata": {},
   "outputs": [],
   "source": []
  },
  {
   "cell_type": "markdown",
   "id": "1e2843f2-8e0f-4689-8dfa-8335e50f1b2a",
   "metadata": {},
   "source": [
    "## Données socio-démographiques sur l'Ile de France"
   ]
  },
  {
   "cell_type": "code",
   "execution_count": null,
   "id": "3a89ac86-a3e6-45cd-99cc-aba24e1f6b6f",
   "metadata": {},
   "outputs": [],
   "source": []
  },
  {
   "cell_type": "markdown",
   "id": "e7b665c1-dade-4516-9bca-6a74f9ccdd9c",
   "metadata": {},
   "source": [
    "## Données complémentaires : accidents de la route, transports écologiques alternatifs (réseau ferré, bus)"
   ]
  },
  {
   "cell_type": "code",
   "execution_count": null,
   "id": "cc9e5e36-4bff-4982-a8f8-402de53a77d9",
   "metadata": {},
   "outputs": [],
   "source": []
  },
  {
   "cell_type": "markdown",
   "id": "776adae0-cd20-4e78-a449-4208c8a4f535",
   "metadata": {},
   "source": [
    "## Base finale avec la longueur, les indicateurs géographiques, et les variables socio-démographiques"
   ]
  },
  {
   "cell_type": "code",
   "execution_count": null,
   "id": "a460309c-a99e-413f-ad69-4eabb7558ebd",
   "metadata": {},
   "outputs": [],
   "source": [
    "base = communes[['insee_com', 'POPULATION', 'surface', 'geometry']].merge(y, how='outer', on='insee_com')"
   ]
  },
  {
   "cell_type": "code",
   "execution_count": null,
   "id": "ef37b08d-399b-4db2-a451-a07bc62b8c29",
   "metadata": {},
   "outputs": [],
   "source": [
    "base.groupby('insee_com').sum(numeric_only = True).sort_values('longueur', ascending = False)"
   ]
  },
  {
   "cell_type": "code",
   "execution_count": null,
   "id": "d83a9ca2-4140-41f5-9d2e-8675f4913676",
   "metadata": {},
   "outputs": [],
   "source": [
    "base = gpd.GeoDataFrame(base, geometry='geometry')"
   ]
  },
  {
   "cell_type": "markdown",
   "id": "52581fe8-fdd5-4a30-8792-4caa6f97ac84",
   "metadata": {},
   "source": [
    "# Analyse descriptive et spatiale"
   ]
  },
  {
   "cell_type": "markdown",
   "id": "eea05933-f6a2-4132-870a-cf78cf79a278",
   "metadata": {},
   "source": [
    "## Répartition spatiale des aménagements cyclables : piste cyclable et station vélib"
   ]
  },
  {
   "cell_type": "code",
   "execution_count": null,
   "id": "a3dd38b8-7853-466d-8cfe-ec865da36011",
   "metadata": {},
   "outputs": [],
   "source": [
    "# Répartition des stations vélib\n",
    "\n",
    "fig,ax = plt.subplots(figsize=(10, 10))\n",
    "velib.plot(ax = ax, color = 'green')\n",
    "com.plot(ax = ax, zorder=1, edgecolor = \"black\", facecolor=\"none\")\n",
    "ax.set_axis_off()"
   ]
  },
  {
   "cell_type": "code",
   "execution_count": null,
   "id": "8fc9f443-c419-480b-8afc-d73e1621e9c7",
   "metadata": {},
   "outputs": [],
   "source": [
    "# Emplacement des pistes cycables (point)\n",
    "\n",
    "fig,ax = plt.subplots(figsize=(10, 10))\n",
    "a_velo.plot(ax = ax, color = 'red', alpha = 0.4, zorder=2)\n",
    "communes.plot(ax = ax, zorder=1, edgecolor = \"black\", facecolor=\"none\")\n",
    "ax.set_axis_off()"
   ]
  },
  {
   "cell_type": "code",
   "execution_count": null,
   "id": "de12d67c-a44d-4c4e-9d40-e8193b5503b8",
   "metadata": {},
   "outputs": [],
   "source": [
    "# Répartition des pistes cyclabes en île de France\n",
    "\n",
    "fig, ax = plt.subplots(figsize=(10, 10))\n",
    "dissolved = base.dissolve(by='insee_com', aggfunc='sum').reset_index()\n",
    "dissolved.plot(ax=ax, column=\"longueur\", legend=True)\n",
    "ax.set_axis_off()\n",
    "legend = ax.get_legend()\n",
    "plt.show()"
   ]
  },
  {
   "cell_type": "markdown",
   "id": "ec85ae56-220f-45cb-a9f9-3e548c3aacab",
   "metadata": {},
   "source": [
    "### Statistiques descriptives sur les pistes cyclables"
   ]
  },
  {
   "cell_type": "code",
   "execution_count": null,
   "id": "b49c4627-2c5e-4ad5-9cdc-970a18418c62",
   "metadata": {},
   "outputs": [],
   "source": [
    "df_amenagements.describe()"
   ]
  },
  {
   "cell_type": "code",
   "execution_count": null,
   "id": "dce4c82d-8f56-4d43-88a7-8457bf868f0e",
   "metadata": {},
   "outputs": [],
   "source": [
    "sns.scatterplot(df_amenagements['longueur'])\n",
    "plt.title('Distribution des pistes cyclables dans les communes')"
   ]
  },
  {
   "cell_type": "code",
   "execution_count": null,
   "id": "8a465509-c9f9-4e2c-9647-24949d504dce",
   "metadata": {},
   "outputs": [],
   "source": []
  }
 ],
 "metadata": {
  "kernelspec": {
   "display_name": "Python 3 (ipykernel)",
   "language": "python",
   "name": "python3"
  },
  "language_info": {
   "codemirror_mode": {
    "name": "ipython",
    "version": 3
   },
   "file_extension": ".py",
   "mimetype": "text/x-python",
   "name": "python",
   "nbconvert_exporter": "python",
   "pygments_lexer": "ipython3",
   "version": "3.10.12"
  }
 },
 "nbformat": 4,
 "nbformat_minor": 5
}
