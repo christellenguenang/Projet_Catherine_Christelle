{
 "cells": [
  {
   "cell_type": "markdown",
   "id": "8bf964b0-43a9-4bc0-98b1-6044506719f1",
   "metadata": {},
   "source": [
    "# Récupération et traitement des données"
   ]
  },
  {
   "cell_type": "code",
   "execution_count": 119,
   "id": "f95ff90b-914c-4361-a2de-dde6ce37d865",
   "metadata": {},
   "outputs": [],
   "source": [
    "import pandas as pd\n",
    "import seaborn as sns\n",
    "import numpy as np\n",
    "import matplotlib.pyplot as plt\n",
    "import geopandas as gpd\n",
    "import contextily as ctx\n",
    "import pynsee as yns\n",
    "import requests\n",
    "from shapely.geometry import Point\n",
    "from geopy.geocoders import Nominatim\n",
    "from cartiflette.s3 import download_vectorfile_url_all"
   ]
  },
  {
   "cell_type": "code",
   "execution_count": 120,
   "id": "2dc72e9f-1aa1-42e0-8d72-1029337c1ab1",
   "metadata": {},
   "outputs": [],
   "source": [
    "from pathlib import Path"
   ]
  },
  {
   "cell_type": "code",
   "execution_count": 121,
   "id": "3d222b10-4b92-4f47-b9bc-dbeb0f590521",
   "metadata": {},
   "outputs": [
    {
     "data": {
      "text/plain": [
       "PosixPath('/home/cathu/Documents/ENSAE/Projet_Catherine_Christelle')"
      ]
     },
     "execution_count": 121,
     "metadata": {},
     "output_type": "execute_result"
    }
   ],
   "source": [
    "Path.cwd()"
   ]
  },
  {
   "cell_type": "markdown",
   "id": "b4af1cba-c2ec-4e6e-88f6-63fd594aefac",
   "metadata": {},
   "source": [
    "## Les aménagements cyclables en Ile de France"
   ]
  },
  {
   "cell_type": "code",
   "execution_count": 122,
   "id": "4908c666-5241-4c8a-978e-35dba98de9e3",
   "metadata": {},
   "outputs": [],
   "source": [
    "a_velo= gpd.read_file('amenagements-velo-en-ile-de-france.geojson')"
   ]
  },
  {
   "cell_type": "code",
   "execution_count": 5,
   "id": "b385b74f-dbc1-4ca3-9c8b-ab0eb859c3c9",
   "metadata": {},
   "outputs": [
    {
     "data": {
      "text/plain": [
       "112217"
      ]
     },
     "execution_count": 5,
     "metadata": {},
     "output_type": "execute_result"
    }
   ],
   "source": [
    "# Nombre d'entrées\n",
    "a_velo.shape[0]"
   ]
  },
  {
   "cell_type": "code",
   "execution_count": 6,
   "id": "c372bc2a-af9b-4bad-a55a-35dfdc0f4f8f",
   "metadata": {},
   "outputs": [
    {
     "data": {
      "text/plain": [
       "<Geographic 2D CRS: EPSG:4326>\n",
       "Name: WGS 84\n",
       "Axis Info [ellipsoidal]:\n",
       "- Lat[north]: Geodetic latitude (degree)\n",
       "- Lon[east]: Geodetic longitude (degree)\n",
       "Area of Use:\n",
       "- name: World.\n",
       "- bounds: (-180.0, -90.0, 180.0, 90.0)\n",
       "Datum: World Geodetic System 1984 ensemble\n",
       "- Ellipsoid: WGS 84\n",
       "- Prime Meridian: Greenwich"
      ]
     },
     "execution_count": 6,
     "metadata": {},
     "output_type": "execute_result"
    }
   ],
   "source": [
    "a_velo.crs"
   ]
  },
  {
   "cell_type": "markdown",
   "id": "3e64b3e3-fb3e-4425-a6da-992fd6541a20",
   "metadata": {},
   "source": [
    "Un préalable au calcul des surfaces est le choix du système de projection adéquat. Dans notre cas , il s'agit de convertir les données au système de projection Lambert 93 qui est le plus approprié."
   ]
  },
  {
   "cell_type": "code",
   "execution_count": 7,
   "id": "493e84dc-7add-4efa-9e93-f58b9db017be",
   "metadata": {},
   "outputs": [
    {
     "data": {
      "text/plain": [
       "count    112217.000000\n",
       "mean        126.315959\n",
       "std         174.519817\n",
       "min           0.000000\n",
       "25%          24.000000\n",
       "50%          70.000000\n",
       "75%         161.000000\n",
       "max        3984.000000\n",
       "Name: longueur, dtype: float64"
      ]
     },
     "execution_count": 7,
     "metadata": {},
     "output_type": "execute_result"
    }
   ],
   "source": [
    "a_velo['longueur'].describe()"
   ]
  },
  {
   "cell_type": "code",
   "execution_count": 8,
   "id": "df8c8ffb-1933-4927-b51e-6ad67422bab1",
   "metadata": {},
   "outputs": [
    {
     "data": {
      "text/html": [
       "<div>\n",
       "<style scoped>\n",
       "    .dataframe tbody tr th:only-of-type {\n",
       "        vertical-align: middle;\n",
       "    }\n",
       "\n",
       "    .dataframe tbody tr th {\n",
       "        vertical-align: top;\n",
       "    }\n",
       "\n",
       "    .dataframe thead th {\n",
       "        text-align: right;\n",
       "    }\n",
       "</style>\n",
       "<table border=\"1\" class=\"dataframe\">\n",
       "  <thead>\n",
       "    <tr style=\"text-align: right;\">\n",
       "      <th></th>\n",
       "      <th>osm_id</th>\n",
       "      <th>nom_com</th>\n",
       "      <th>sens_voit</th>\n",
       "      <th>ag</th>\n",
       "      <th>panneaux</th>\n",
       "      <th>moyenn_ech</th>\n",
       "      <th>revetement</th>\n",
       "      <th>highway</th>\n",
       "      <th>insee_com</th>\n",
       "      <th>nom_voie</th>\n",
       "      <th>longueur</th>\n",
       "      <th>petite_ech</th>\n",
       "      <th>nv</th>\n",
       "      <th>ad</th>\n",
       "      <th>geometry</th>\n",
       "    </tr>\n",
       "  </thead>\n",
       "  <tbody>\n",
       "    <tr>\n",
       "      <th>100698</th>\n",
       "      <td>792297373.0</td>\n",
       "      <td>Mézières-sur-Seine</td>\n",
       "      <td>UNIQUE</td>\n",
       "      <td>None</td>\n",
       "      <td>None</td>\n",
       "      <td>22</td>\n",
       "      <td>asphalt</td>\n",
       "      <td>secondary</td>\n",
       "      <td>78402</td>\n",
       "      <td>Route de Paris à Cherbourg</td>\n",
       "      <td>23</td>\n",
       "      <td>2</td>\n",
       "      <td>None</td>\n",
       "      <td>bande uni</td>\n",
       "      <td>LINESTRING (1.79807 48.96214, 1.79776 48.96217)</td>\n",
       "    </tr>\n",
       "  </tbody>\n",
       "</table>\n",
       "</div>"
      ],
      "text/plain": [
       "             osm_id             nom_com sens_voit    ag panneaux moyenn_ech  \\\n",
       "100698  792297373.0  Mézières-sur-Seine    UNIQUE  None     None         22   \n",
       "\n",
       "       revetement    highway insee_com                    nom_voie  longueur  \\\n",
       "100698    asphalt  secondary     78402  Route de Paris à Cherbourg        23   \n",
       "\n",
       "       petite_ech    nv         ad  \\\n",
       "100698          2  None  bande uni   \n",
       "\n",
       "                                               geometry  \n",
       "100698  LINESTRING (1.79807 48.96214, 1.79776 48.96217)  "
      ]
     },
     "execution_count": 8,
     "metadata": {},
     "output_type": "execute_result"
    }
   ],
   "source": [
    "a_velo.sample(n=1)"
   ]
  },
  {
   "cell_type": "markdown",
   "id": "7410d9dc-0385-4b87-8d44-0e953c284b56",
   "metadata": {},
   "source": [
    "Pour le moment, nous travaillons sans les données de géolocalisation qui ne sont pas nécessaires aux calculs. Nous créons pour cela une nouvelle dataframe"
   ]
  },
  {
   "cell_type": "code",
   "execution_count": 9,
   "id": "a9b63cd7-a94e-4074-bb76-aba70a1d05fb",
   "metadata": {},
   "outputs": [],
   "source": [
    "col_to_keep = [\"nom_com\", \"sens_voit\", \"ag\", \"panneaux\", \"revetement\", \"highway\", \"insee_com\", \"longueur\", \"nv\", \"ad\"] "
   ]
  },
  {
   "cell_type": "code",
   "execution_count": 52,
   "id": "006d4d0c-352a-4eb7-b372-9d95f319e85c",
   "metadata": {},
   "outputs": [
    {
     "name": "stdout",
     "output_type": "stream",
     "text": [
      "         osm_id            nom_com sens_voit                              ag  \\\n",
      "0  4.014620e+08            Chelles    DOUBLE                            None   \n",
      "1  4.048666e+08   La Queue-en-Brie        NC  chemin service site propre uni   \n",
      "2  1.154304e+09            Lésigny        NC                  voie verte uni   \n",
      "3  3.300503e+08  Pontault-Combault    UNIQUE                       DSC bande   \n",
      "4  1.104033e+09   Champs-sur-Marne    UNIQUE                            None   \n",
      "\n",
      "  panneaux moyenn_ech revetement      highway insee_com  \\\n",
      "0     None         32       None      service     77108   \n",
      "1     None         11       None        track     94060   \n",
      "2     None         11    asphalt         path     77249   \n",
      "3     None         22       None  residential     77373   \n",
      "4     None         22    asphalt  residential     77083   \n",
      "\n",
      "                     nom_voie  longueur petite_ech            nv  \\\n",
      "0  Rue de la Mare Longue Noue        24          3     limite 30   \n",
      "1             Allée Jacquette        39          1   hors voirie   \n",
      "2                        None         5          1   hors voirie   \n",
      "3          Rue de la Chaussée        85          2  unclassified   \n",
      "4         Place Pablo Picasso         8          2  unclassified   \n",
      "\n",
      "                               ad  \\\n",
      "0                            None   \n",
      "1  chemin service site propre uni   \n",
      "2                  voie verte uni   \n",
      "3                            None   \n",
      "4                       bande uni   \n",
      "\n",
      "                                            geometry  qual_hw  qual_nv  \\\n",
      "0  LINESTRING (2.60486 48.89065, 2.60460 48.89061...        1      NaN   \n",
      "1    LINESTRING (2.60049 48.77164, 2.60036 48.77198)        1      NaN   \n",
      "2    LINESTRING (2.60844 48.74126, 2.60848 48.74130)        1      NaN   \n",
      "3  LINESTRING (2.60422 48.78336, 2.60419 48.78331...        2      2.0   \n",
      "4    LINESTRING (2.60568 48.84171, 2.60557 48.84170)        2      2.0   \n",
      "\n",
      "   longueur_pond_hw  longueur_pond_nv  \n",
      "0             30.00               NaN  \n",
      "1             48.75               NaN  \n",
      "2              6.25               NaN  \n",
      "3             85.00              85.0  \n",
      "4              8.00               8.0  \n"
     ]
    }
   ],
   "source": [
    "# df_a_velo = a_velo[col_to_keep].copy()\n",
    "\n",
    "df_a_velo = a_velo\n",
    "\n",
    "print(df_a_velo.head())"
   ]
  },
  {
   "cell_type": "markdown",
   "id": "4ba613ff-36c3-47e4-aa16-ce1011d318d1",
   "metadata": {},
   "source": [
    "### Toutes les pistes ne se valent pas : création de variables d'étude pour les aménagements cyclables"
   ]
  },
  {
   "cell_type": "markdown",
   "id": "85088bbf-6925-47ae-b388-4e0c8f09836b",
   "metadata": {},
   "source": [
    "Nous souhaitons étudier la répartition géograhique des aménagements cyclables et particulièrement leur densité en mètre par habitants. Toutefois, l'ensemble des pistes cyclables n'est pas de la même \"qualité\" : séparée de la route ou non, sens inverse de la circulation, type de revêtement, etc. Pour prendre en compte la qualité des aménagements cyclables, nous pouvons donner des coefficients aux mètres de pistes selon ces différents critères lors du calcul du nombre total de mètres aménagés par commune. Nous allons proposer plusieurs méthodes de calcul selon ces critères."
   ]
  },
  {
   "cell_type": "code",
   "execution_count": 80,
   "id": "41410030-c28d-4471-9f72-39ef5d8294db",
   "metadata": {},
   "outputs": [
    {
     "name": "stdout",
     "output_type": "stream",
     "text": [
      "['DOUBLE' 'NC' 'UNIQUE']\n",
      "[None 'chemin service site propre uni' 'voie verte uni' 'DSC bande'\n",
      " 'autre chemin velo uni' 'piste uni' 'DSC' 'piste trottoir uni'\n",
      " 'bande uni' 'cheminement trottoir uni' 'goulotte' 'chemin dedie uni'\n",
      " 'chaucidou' 'cheminement uni' 'DSC piste' 'voie bus uni' 'piste bi'\n",
      " 'bande bi' 'shoulder uni']\n",
      "[None 'asphalt' 'compacted' 'concrete' 'unpaved' 'wood' 'paving_stones'\n",
      " 'ground' 'sett' 'gravel' 'sand' 'paved' 'fine_gravel' 'dirt'\n",
      " 'cobblestone' 'concrete:plates' 'concrete:lanes' 'grass'\n",
      " 'cobblestone:flattened' 'metal' 'pebblestone' 'unhewn_cobblestone'\n",
      " 'bricks' 'tartan' 'pavés' 'vegecol' 'artificial_turf' 'grass_paver'\n",
      " 'earth' 'bitume' 'à_définir' 'rock']\n",
      "['service' 'track' 'path' 'residential' 'footway' 'cycleway' 'secondary'\n",
      " 'tertiary' 'living_street' 'unclassified' 'pedestrian' 'steps' 'primary'\n",
      " 'primary_link' 'secondary_link' 'tertiary_link' 'trunk_link'\n",
      " 'motorway_link']\n",
      "['limite 30' 'hors voirie' 'unclassified' 'z20' 'rue pietonne' 'z30'\n",
      " 'escalier velo' 'velorue' 'velo interdit']\n",
      "[None 'chemin service site propre uni' 'voie verte uni' 'bande uni'\n",
      " 'autre chemin velo uni' 'piste uni' 'piste trottoir uni'\n",
      " 'cheminement trottoir uni' 'goulotte' 'chemin dedie uni' 'chaucidou'\n",
      " 'cheminement uni' 'voie bus uni' 'piste bi' 'bande bi' 'DSC' 'DSC bande'\n",
      " 'shoulder uni']\n"
     ]
    }
   ],
   "source": [
    "print(df_a_velo[\"sens_voit\"].unique())\n",
    "print(df_a_velo[\"ag\"].unique())\n",
    "print(df_a_velo[\"revetement\"].unique())\n",
    "print(df_a_velo[\"highway\"].unique())\n",
    "print(df_a_velo[\"nv\"].unique())\n",
    "print(df_a_velo[\"ad\"].unique())"
   ]
  },
  {
   "cell_type": "code",
   "execution_count": 12,
   "id": "5e159e6b-11bd-40f8-87f0-e74d47bf2e37",
   "metadata": {},
   "outputs": [
    {
     "data": {
      "text/plain": [
       "0"
      ]
     },
     "execution_count": 12,
     "metadata": {},
     "output_type": "execute_result"
    }
   ],
   "source": [
    "df_a_velo['sens_voit'].isna().sum()"
   ]
  },
  {
   "cell_type": "code",
   "execution_count": 13,
   "id": "7d772fa6-c217-4ca1-8192-245825a0203d",
   "metadata": {},
   "outputs": [
    {
     "data": {
      "text/plain": [
       "68312"
      ]
     },
     "execution_count": 13,
     "metadata": {},
     "output_type": "execute_result"
    }
   ],
   "source": [
    "df_a_velo['ag'].isna().sum()"
   ]
  },
  {
   "cell_type": "code",
   "execution_count": 14,
   "id": "2f17de1a-d26b-470d-be7d-4ff09eae8705",
   "metadata": {},
   "outputs": [
    {
     "data": {
      "text/plain": [
       "38711"
      ]
     },
     "execution_count": 14,
     "metadata": {},
     "output_type": "execute_result"
    }
   ],
   "source": [
    "df_a_velo['revetement'].isna().sum()"
   ]
  },
  {
   "cell_type": "code",
   "execution_count": 15,
   "id": "613705ca-1a9a-4298-906c-51f71bd4c1d8",
   "metadata": {},
   "outputs": [
    {
     "data": {
      "text/plain": [
       "0"
      ]
     },
     "execution_count": 15,
     "metadata": {},
     "output_type": "execute_result"
    }
   ],
   "source": [
    "df_a_velo['highway'].isna().sum()"
   ]
  },
  {
   "cell_type": "code",
   "execution_count": 79,
   "id": "32876a74-5705-4cc5-a6de-554050ce794e",
   "metadata": {},
   "outputs": [
    {
     "data": {
      "text/plain": [
       "0"
      ]
     },
     "execution_count": 79,
     "metadata": {},
     "output_type": "execute_result"
    }
   ],
   "source": [
    "df_a_velo['nv'].isna().sum()"
   ]
  },
  {
   "cell_type": "code",
   "execution_count": 17,
   "id": "c70a222a-16e6-4954-bf32-5bce8ada24c6",
   "metadata": {},
   "outputs": [
    {
     "data": {
      "text/plain": [
       "68522"
      ]
     },
     "execution_count": 17,
     "metadata": {},
     "output_type": "execute_result"
    }
   ],
   "source": [
    "df_a_velo['ad'].isna().sum()"
   ]
  },
  {
   "cell_type": "code",
   "execution_count": 75,
   "id": "2c7f7d86",
   "metadata": {},
   "outputs": [
    {
     "name": "stdout",
     "output_type": "stream",
     "text": [
      "9548\n",
      "4025\n"
     ]
    }
   ],
   "source": [
    "print(df_a_velo['highway'].value_counts().get('unclassified', 0))"
   ]
  },
  {
   "cell_type": "code",
   "execution_count": 77,
   "id": "68d39ecb-96fd-430e-a380-7a89d860f485",
   "metadata": {
    "jupyter": {
     "source_hidden": true
    }
   },
   "outputs": [],
   "source": [
    "df_a_velo['adg'] = df_a_velo.apply(lambda row: row['ad'] if pd.notna(row['ad']) else (row['ag'] if pd.notna(row['ag']) else 'unclassified'), axis=1)"
   ]
  },
  {
   "cell_type": "code",
   "execution_count": 78,
   "id": "fbc9f73e-67bc-44f5-b5ea-c19fd0d7af60",
   "metadata": {},
   "outputs": [
    {
     "name": "stdout",
     "output_type": "stream",
     "text": [
      "55496\n"
     ]
    }
   ],
   "source": [
    "print(df_a_velo['adg'].value_counts().get('unclassified', 0))"
   ]
  },
  {
   "cell_type": "markdown",
   "id": "c68d7b0c-c807-448a-a978-ef357c160346",
   "metadata": {},
   "source": [
    "Seul le critère suivant ne présente pas trop de valeurs manquantes (nommées 'unclassified' dans la base) :  type de route (\"highway\", cf [documentation OpenstreeMap](https://wiki.openstreetmap.org/wiki/Key:highway) ). Les autres variables ont soit trop de valeurs manquantes soit manquent d'intérêt seule (sens des voitures). Cependant, \"highway\" est une colonne générale de catégorisation pour les données d'OpenStreetMap et manque de spécificité pour l'étude des pistes cyclables. Nous allons donc proposer deux méthodes de pondération (en plus d'une variable non pondérée) : une avec \"highway\", une avec \"adg\" (['nature de la voie'](https://opendata.stif.info/api/datasets/1.0/amenagements-velo-en-ile-de-france/attachments/metadonnees_amenagements_velo_en_ile_de_france_pdf/)), en proposant de normer les chemins dont nous n'avons pas connaissance de la qualité. Le nombre de valeurs manquantes est cependant très important, malgré notre tentative de réduire son ampleur en sommant ad et ag (ce sont les types de voies à gauche et à droite). Roulant à droite en, nous avons donner la priorité à voie à droite.\n",
    "\n",
    "Nous allons produire 3 variables : deux pondérées censées prendre en compte la qualité de la route, et une autre sans pondération, pour la longueur d'aménagements cyclables par ville. Pour prendre en compte la qualité nous trions les types de routes en leur affectant des poids selon leurs caractéristiques : bande le long d'une route ou séparation, chemin avec ou sans voiture, avec ou sans piéton, etc. Pour cela, la variable \"adg\" nous semble plus adaptée car plus précise, mais elle a le défaut de présenter énormément valeurs manquantes. Lorsque la valeur est manquante nous assignons un poids neutre (1). La comparaison des résultats avec les 2 méthodes de pondération ou la méthode sans pondération pourra aussi nous renseigner sur la qualité de notre catégorisation."
   ]
  },
  {
   "cell_type": "code",
   "execution_count": 81,
   "id": "ebb90855-0b9c-40eb-9d0b-2295c637b0a5",
   "metadata": {},
   "outputs": [
    {
     "name": "stdout",
     "output_type": "stream",
     "text": [
      "['unclassified' 'chemin service site propre uni' 'voie verte uni'\n",
      " 'DSC bande' 'bande uni' 'autre chemin velo uni' 'piste uni' 'DSC'\n",
      " 'piste trottoir uni' 'cheminement trottoir uni' 'goulotte'\n",
      " 'chemin dedie uni' 'chaucidou' 'cheminement uni' 'voie bus uni'\n",
      " 'DSC piste' 'piste bi' 'bande bi' 'shoulder uni']\n"
     ]
    }
   ],
   "source": [
    "print(df_a_velo[\"adg\"].unique())"
   ]
  },
  {
   "cell_type": "code",
   "execution_count": 99,
   "id": "fb4ead7b-76e1-4a59-9fe8-50445aba1e20",
   "metadata": {},
   "outputs": [],
   "source": [
    "highway_quality_mapping = {\n",
    "    'service': 1,\n",
    "    'track': 1,\n",
    "    'path': 1,\n",
    "    'trunk_link': 1,\n",
    "    'motorway_link': 1,\n",
    "    'residential': 2,\n",
    "    'footway': 2,\n",
    "    'cycleway': 2,\n",
    "    'primary': 2,    \n",
    "    'primary_link': 2,\n",
    "    'unclassified': 2,\n",
    "    'secondary': 3,\n",
    "    'tertiary': 3,\n",
    "    'secondary_link': 3,\n",
    "    'tertiary_link': 3,\n",
    "    'living_street': 3,\n",
    "    'pedestrian': 4,\n",
    "    'steps': 4\n",
    "}\n",
    "\n",
    "\n",
    "adg_quality_mapping = {\n",
    "    'chemin service site propre uni': 1,\n",
    "    'chemin dedie uni': 1,\n",
    "    'voie verte uni': 1,\n",
    "    'autre chemin velo uni': 1,\n",
    "    'piste bi' : 1,\n",
    "    'piste uni': 1,\n",
    "    'bande uni': 2,\n",
    "    'bande bi' : 2,\n",
    "    'unclassified': 2,\n",
    "    'cheminement trottoir uni' : 3,\n",
    "    'piste trottoir uni': 3,\n",
    "    'chaucidou': 3,\n",
    "    'cheminement uni': 3,\n",
    "    'shoulder uni' : 3,\n",
    "    'voie bus uni': 4,\n",
    "    'goulotte': 4,\n",
    "    'DSC': 4,\n",
    "    'DSC bande' : 4,\n",
    "    'DSC piste' : 4\n",
    "}"
   ]
  },
  {
   "cell_type": "code",
   "execution_count": 100,
   "id": "95e6b101-619c-4400-8c60-58b5524957ad",
   "metadata": {},
   "outputs": [],
   "source": [
    "df_a_velo['qual_hw'] = df_a_velo['highway'].map(highway_quality_mapping)\n",
    "\n",
    "df_a_velo['qual_adg'] = df_a_velo['adg'].map(adg_quality_mapping)"
   ]
  },
  {
   "cell_type": "code",
   "execution_count": 101,
   "id": "e932b078-6a16-44fb-b465-5e450e4dd115",
   "metadata": {},
   "outputs": [],
   "source": [
    "quality_weights = {\n",
    "    1: 1.25,\n",
    "    2: 1.,\n",
    "    3: 0.75,\n",
    "    4: 0.5\n",
    "}"
   ]
  },
  {
   "cell_type": "code",
   "execution_count": 102,
   "id": "f76f4fa9-f081-46fd-8ab2-e227dc5c0788",
   "metadata": {},
   "outputs": [],
   "source": [
    "# Nouvelle colonne pour la longueur pondérée highway\n",
    "\n",
    "df_a_velo['longueur_pond_hw'] = df_a_velo['longueur'] * df_a_velo['qual_hw'].map(quality_weights)\n",
    "\n",
    "# Nouvelle colonne pour la longueur pondérée nature voie\n",
    "\n",
    "df_a_velo['longueur_pond_adg'] = df_a_velo['longueur'] * df_a_velo['qual_adg'].map(quality_weights)"
   ]
  },
  {
   "cell_type": "code",
   "execution_count": 105,
   "id": "d1f4237c-43f7-479b-a47a-33ad13aa0fa1",
   "metadata": {
    "scrolled": true
   },
   "outputs": [
    {
     "name": "stdout",
     "output_type": "stream",
     "text": [
      "14028145.5\n"
     ]
    }
   ],
   "source": [
    "total_longueur_pond_hw = df_a_velo['longueur_pond_hw'].sum()\n",
    "print(total_longueur_pond_hw) #longueur totale de l'échantillon avec majoration pondérée"
   ]
  },
  {
   "cell_type": "code",
   "execution_count": 106,
   "id": "d00b516b",
   "metadata": {},
   "outputs": [
    {
     "name": "stdout",
     "output_type": "stream",
     "text": [
      "14382204.5\n"
     ]
    }
   ],
   "source": [
    "total_longueur_pond_nv = df_a_velo['longueur_pond_adg'].sum()\n",
    "print(total_longueur_pond_nv) #longueur totale de l'échantillon avec majoration pondérée"
   ]
  },
  {
   "cell_type": "code",
   "execution_count": 107,
   "id": "fc5b75ca-dbc8-46cd-861e-f032a2a69dde",
   "metadata": {},
   "outputs": [
    {
     "name": "stdout",
     "output_type": "stream",
     "text": [
      "14174798\n"
     ]
    }
   ],
   "source": [
    "total_longueur = df_a_velo['longueur'].sum()\n",
    "print(total_longueur)"
   ]
  },
  {
   "cell_type": "code",
   "execution_count": 108,
   "id": "5f4b6e12-5582-46a4-84de-5a1c60a820ee",
   "metadata": {},
   "outputs": [],
   "source": [
    "total_longueur_commune = df_a_velo.groupby(['nom_com', 'insee_com'])['longueur'].sum().reset_index()"
   ]
  },
  {
   "cell_type": "code",
   "execution_count": 109,
   "id": "46ae551f-4b7e-403e-aa17-7137d8f936e9",
   "metadata": {},
   "outputs": [],
   "source": [
    "total_longueur_pond_hw_commune = df_a_velo.groupby(['nom_com', 'insee_com'])['longueur_pond_hw'].sum().reset_index()"
   ]
  },
  {
   "cell_type": "code",
   "execution_count": 110,
   "id": "d5c3d61a-d0d4-4407-993c-bda3fdbcedc8",
   "metadata": {},
   "outputs": [],
   "source": [
    "total_longueur_pond_adg_commune = df_a_velo.groupby(['nom_com', 'insee_com'])['longueur_pond_adg'].sum().reset_index()"
   ]
  },
  {
   "cell_type": "code",
   "execution_count": 111,
   "id": "d5fe954d-49db-4c0c-ba03-4d469edc7c1e",
   "metadata": {},
   "outputs": [],
   "source": [
    "df_amenagements = pd.merge(total_longueur_commune, total_longueur_pond_hw_commune, on=['nom_com', 'insee_com'], suffixes=('_non_pond', '_pond_hw'))"
   ]
  },
  {
   "cell_type": "code",
   "execution_count": 112,
   "id": "17cdfa01-f702-418a-824d-e835b9978952",
   "metadata": {},
   "outputs": [],
   "source": [
    "df_amenagements = pd.merge(df_amenagements, total_longueur_pond_adg_commune, on=['nom_com', 'insee_com'], suffixes=(None, '_pond_adg'))"
   ]
  },
  {
   "cell_type": "code",
   "execution_count": 113,
   "id": "c4a7279f-6940-44fd-8944-31b0d828f7c2",
   "metadata": {},
   "outputs": [
    {
     "data": {
      "text/html": [
       "<div>\n",
       "<style scoped>\n",
       "    .dataframe tbody tr th:only-of-type {\n",
       "        vertical-align: middle;\n",
       "    }\n",
       "\n",
       "    .dataframe tbody tr th {\n",
       "        vertical-align: top;\n",
       "    }\n",
       "\n",
       "    .dataframe thead th {\n",
       "        text-align: right;\n",
       "    }\n",
       "</style>\n",
       "<table border=\"1\" class=\"dataframe\">\n",
       "  <thead>\n",
       "    <tr style=\"text-align: right;\">\n",
       "      <th></th>\n",
       "      <th>nom_com</th>\n",
       "      <th>insee_com</th>\n",
       "      <th>longueur</th>\n",
       "      <th>longueur_pond_hw</th>\n",
       "      <th>longueur_pond_adg</th>\n",
       "    </tr>\n",
       "  </thead>\n",
       "  <tbody>\n",
       "    <tr>\n",
       "      <th>267</th>\n",
       "      <td>Dammarie-les-Lys</td>\n",
       "      <td>77152</td>\n",
       "      <td>30862</td>\n",
       "      <td>31861.25</td>\n",
       "      <td>33337.50</td>\n",
       "    </tr>\n",
       "    <tr>\n",
       "      <th>929</th>\n",
       "      <td>Villaines-sous-Bois</td>\n",
       "      <td>95660</td>\n",
       "      <td>3260</td>\n",
       "      <td>3084.00</td>\n",
       "      <td>3305.75</td>\n",
       "    </tr>\n",
       "    <tr>\n",
       "      <th>86</th>\n",
       "      <td>Beynes</td>\n",
       "      <td>78062</td>\n",
       "      <td>27886</td>\n",
       "      <td>27517.00</td>\n",
       "      <td>27924.50</td>\n",
       "    </tr>\n",
       "    <tr>\n",
       "      <th>138</th>\n",
       "      <td>Brunoy</td>\n",
       "      <td>91114</td>\n",
       "      <td>30180</td>\n",
       "      <td>29856.00</td>\n",
       "      <td>31480.50</td>\n",
       "    </tr>\n",
       "    <tr>\n",
       "      <th>602</th>\n",
       "      <td>Montlignon</td>\n",
       "      <td>95426</td>\n",
       "      <td>10993</td>\n",
       "      <td>11361.25</td>\n",
       "      <td>12168.50</td>\n",
       "    </tr>\n",
       "    <tr>\n",
       "      <th>713</th>\n",
       "      <td>Pringy</td>\n",
       "      <td>77378</td>\n",
       "      <td>785</td>\n",
       "      <td>904.00</td>\n",
       "      <td>942.25</td>\n",
       "    </tr>\n",
       "    <tr>\n",
       "      <th>784</th>\n",
       "      <td>Saint-Lambert</td>\n",
       "      <td>78561</td>\n",
       "      <td>6022</td>\n",
       "      <td>6116.50</td>\n",
       "      <td>6197.50</td>\n",
       "    </tr>\n",
       "    <tr>\n",
       "      <th>94</th>\n",
       "      <td>Boinvilliers</td>\n",
       "      <td>78072</td>\n",
       "      <td>1855</td>\n",
       "      <td>1909.75</td>\n",
       "      <td>1855.00</td>\n",
       "    </tr>\n",
       "    <tr>\n",
       "      <th>889</th>\n",
       "      <td>Ussy-sur-Marne</td>\n",
       "      <td>77478</td>\n",
       "      <td>146</td>\n",
       "      <td>182.50</td>\n",
       "      <td>182.50</td>\n",
       "    </tr>\n",
       "    <tr>\n",
       "      <th>588</th>\n",
       "      <td>Montcourt-Fromonville</td>\n",
       "      <td>77302</td>\n",
       "      <td>4734</td>\n",
       "      <td>5337.00</td>\n",
       "      <td>4711.00</td>\n",
       "    </tr>\n",
       "  </tbody>\n",
       "</table>\n",
       "</div>"
      ],
      "text/plain": [
       "                   nom_com insee_com  longueur  longueur_pond_hw  \\\n",
       "267       Dammarie-les-Lys     77152     30862          31861.25   \n",
       "929    Villaines-sous-Bois     95660      3260           3084.00   \n",
       "86                  Beynes     78062     27886          27517.00   \n",
       "138                 Brunoy     91114     30180          29856.00   \n",
       "602             Montlignon     95426     10993          11361.25   \n",
       "713                 Pringy     77378       785            904.00   \n",
       "784          Saint-Lambert     78561      6022           6116.50   \n",
       "94            Boinvilliers     78072      1855           1909.75   \n",
       "889         Ussy-sur-Marne     77478       146            182.50   \n",
       "588  Montcourt-Fromonville     77302      4734           5337.00   \n",
       "\n",
       "     longueur_pond_adg  \n",
       "267           33337.50  \n",
       "929            3305.75  \n",
       "86            27924.50  \n",
       "138           31480.50  \n",
       "602           12168.50  \n",
       "713             942.25  \n",
       "784            6197.50  \n",
       "94             1855.00  \n",
       "889             182.50  \n",
       "588            4711.00  "
      ]
     },
     "execution_count": 113,
     "metadata": {},
     "output_type": "execute_result"
    }
   ],
   "source": [
    "df_amenagements.sample(10)"
   ]
  },
  {
   "cell_type": "code",
   "execution_count": 114,
   "id": "46b09c0d-f367-4a91-922b-3601348b60d8",
   "metadata": {},
   "outputs": [],
   "source": [
    "df_amenagements['difference_hw'] = df_amenagements['longueur_pond_hw'] - df_amenagements['longueur']\n",
    "df_amenagements['difference_adg'] = df_amenagements['longueur_pond_adg'] - df_amenagements['longueur']"
   ]
  },
  {
   "cell_type": "markdown",
   "id": "4bf5f5fb-e6ad-49d5-a47c-287934484acc",
   "metadata": {},
   "source": [
    "Nous avons créé nos trois indicateurs par commune : longueur et longueur pondérée (adg et hw) par commune, mais nous avons perdu de l'information dans cette opération puisque nous perdons de ce fait les coordonnées exactes des aménagements. Cependant, pour l'étude de la densité, cela pourra aussi s'avérer utile. Surtout nous avons besoin de ces indicateurs pour le travail économétrique que nous souhaitons mener, où nous considérons alors les communes comme des individus, et la longueur des pistes cyclables comme nous variable d'intérêt. Cependant, avant de passer à la modélisation économétrique pour tenter d'expliquer le développement des aménagements dans les différentes communes, nous souhaitons représenter et analyser spatialement la répartition des aménagements, leur densité (par habitant), leur densité (par kilomètre) et notamment compléter ces analyses grâce à la disponibilité des données du Vélib."
   ]
  },
  {
   "cell_type": "markdown",
   "id": "192ebff7-b4c4-4a1e-9163-912e03c65bca",
   "metadata": {},
   "source": [
    "## Données et ressources nécessaires pour l'étude spatiale"
   ]
  },
  {
   "cell_type": "code",
   "execution_count": 134,
   "id": "dec6b68e-5d8e-41e3-8dcc-bff3715affec",
   "metadata": {},
   "outputs": [
    {
     "name": "stdout",
     "output_type": "stream",
     "text": [
      "https://minio.lab.sspcloud.fr/projet-cartiflette/diffusion/shapefiles-test1/year=2022/administrative_level=COMMUNE_ARRONDISSEMENT/crs=4326/DEPARTEMENT=75/vectorfile_format=topojson/provider=IGN/source=EXPRESS-COG-CARTO-TERRITOIRE/raw.topojson\n"
     ]
    },
    {
     "name": "stderr",
     "output_type": "stream",
     "text": [
      "Downloading: : 40.1kiB [00:00, 1.24MiB/s]\n"
     ]
    },
    {
     "name": "stdout",
     "output_type": "stream",
     "text": [
      "https://minio.lab.sspcloud.fr/projet-cartiflette/diffusion/shapefiles-test1/year=2022/administrative_level=COMMUNE_ARRONDISSEMENT/crs=4326/DEPARTEMENT=77/vectorfile_format=topojson/provider=IGN/source=EXPRESS-COG-CARTO-TERRITOIRE/raw.topojson\n"
     ]
    },
    {
     "name": "stderr",
     "output_type": "stream",
     "text": [
      "Downloading: : 1.57MiB [00:01, 1.10MiB/s]\n"
     ]
    },
    {
     "name": "stdout",
     "output_type": "stream",
     "text": [
      "https://minio.lab.sspcloud.fr/projet-cartiflette/diffusion/shapefiles-test1/year=2022/administrative_level=COMMUNE_ARRONDISSEMENT/crs=4326/DEPARTEMENT=78/vectorfile_format=topojson/provider=IGN/source=EXPRESS-COG-CARTO-TERRITOIRE/raw.topojson\n"
     ]
    },
    {
     "name": "stderr",
     "output_type": "stream",
     "text": [
      "Downloading: : 581kiB [00:00, 600kiB/s] \n"
     ]
    },
    {
     "name": "stdout",
     "output_type": "stream",
     "text": [
      "https://minio.lab.sspcloud.fr/projet-cartiflette/diffusion/shapefiles-test1/year=2022/administrative_level=COMMUNE_ARRONDISSEMENT/crs=4326/DEPARTEMENT=91/vectorfile_format=topojson/provider=IGN/source=EXPRESS-COG-CARTO-TERRITOIRE/raw.topojson\n"
     ]
    },
    {
     "name": "stderr",
     "output_type": "stream",
     "text": [
      "Downloading: : 483kiB [00:00, 951kiB/s] \n"
     ]
    },
    {
     "name": "stdout",
     "output_type": "stream",
     "text": [
      "https://minio.lab.sspcloud.fr/projet-cartiflette/diffusion/shapefiles-test1/year=2022/administrative_level=COMMUNE_ARRONDISSEMENT/crs=4326/DEPARTEMENT=92/vectorfile_format=topojson/provider=IGN/source=EXPRESS-COG-CARTO-TERRITOIRE/raw.topojson\n"
     ]
    },
    {
     "name": "stderr",
     "output_type": "stream",
     "text": [
      "Downloading: : 63.0kiB [00:00, 1.12MiB/s]\n"
     ]
    },
    {
     "name": "stdout",
     "output_type": "stream",
     "text": [
      "https://minio.lab.sspcloud.fr/projet-cartiflette/diffusion/shapefiles-test1/year=2022/administrative_level=COMMUNE_ARRONDISSEMENT/crs=4326/DEPARTEMENT=93/vectorfile_format=topojson/provider=IGN/source=EXPRESS-COG-CARTO-TERRITOIRE/raw.topojson\n"
     ]
    },
    {
     "name": "stderr",
     "output_type": "stream",
     "text": [
      "Downloading: : 120kiB [00:00, 947kiB/s]\n"
     ]
    },
    {
     "name": "stdout",
     "output_type": "stream",
     "text": [
      "https://minio.lab.sspcloud.fr/projet-cartiflette/diffusion/shapefiles-test1/year=2022/administrative_level=COMMUNE_ARRONDISSEMENT/crs=4326/DEPARTEMENT=94/vectorfile_format=topojson/provider=IGN/source=EXPRESS-COG-CARTO-TERRITOIRE/raw.topojson\n"
     ]
    },
    {
     "name": "stderr",
     "output_type": "stream",
     "text": [
      "Downloading: : 111kiB [00:00, 1.22MiB/s]\n"
     ]
    },
    {
     "name": "stdout",
     "output_type": "stream",
     "text": [
      "https://minio.lab.sspcloud.fr/projet-cartiflette/diffusion/shapefiles-test1/year=2022/administrative_level=COMMUNE_ARRONDISSEMENT/crs=4326/DEPARTEMENT=95/vectorfile_format=topojson/provider=IGN/source=EXPRESS-COG-CARTO-TERRITOIRE/raw.topojson\n"
     ]
    },
    {
     "name": "stderr",
     "output_type": "stream",
     "text": [
      "Downloading: : 372kiB [00:00, 1.26MiB/s]\n"
     ]
    }
   ],
   "source": [
    "communes = download_vectorfile_url_all(\n",
    "    crs = 4326,\n",
    "    borders=\"COMMUNE_ARRONDISSEMENT\",\n",
    "    values = [\"75\",\"77\",\"78\",\"91\", \"92\", \"93\", \"94\",\"95\"],\n",
    "    vectorfile_format=\"topojson\",\n",
    "    filter_by=\"DEPARTEMENT\",\n",
    "    source=\"EXPRESS-COG-CARTO-TERRITOIRE\",\n",
    "    year=2022)"
   ]
  },
  {
   "cell_type": "markdown",
   "id": "f0c3d002-4c38-49b0-9a94-e01ca5afb9bf",
   "metadata": {},
   "source": [
    "Un préalable au calcul des surfaces est le choix du système de projection adéquat. Dans notre cas , il s'agit de convertir les données au système de projection Lambert 93 qui est le plus approprié."
   ]
  },
  {
   "cell_type": "code",
   "execution_count": 143,
   "id": "96cd02f8-c592-4e76-8f10-dbb71c42c153",
   "metadata": {},
   "outputs": [],
   "source": [
    "communes['surface'] = communes.to_crs(2154).area"
   ]
  },
  {
   "cell_type": "code",
   "execution_count": 144,
   "id": "a31acc6a-2b4e-4e10-84c6-464c871021ef",
   "metadata": {},
   "outputs": [
    {
     "data": {
      "text/html": [
       "<div>\n",
       "<style scoped>\n",
       "    .dataframe tbody tr th:only-of-type {\n",
       "        vertical-align: middle;\n",
       "    }\n",
       "\n",
       "    .dataframe tbody tr th {\n",
       "        vertical-align: top;\n",
       "    }\n",
       "\n",
       "    .dataframe thead th {\n",
       "        text-align: right;\n",
       "    }\n",
       "</style>\n",
       "<table border=\"1\" class=\"dataframe\">\n",
       "  <thead>\n",
       "    <tr style=\"text-align: right;\">\n",
       "      <th></th>\n",
       "      <th>id</th>\n",
       "      <th>ID</th>\n",
       "      <th>NOM</th>\n",
       "      <th>NOM_M</th>\n",
       "      <th>INSEE_COM</th>\n",
       "      <th>STATUT</th>\n",
       "      <th>POPULATION</th>\n",
       "      <th>INSEE_CAN</th>\n",
       "      <th>INSEE_ARR</th>\n",
       "      <th>INSEE_DEP</th>\n",
       "      <th>INSEE_REG</th>\n",
       "      <th>SIREN_EPCI</th>\n",
       "      <th>source</th>\n",
       "      <th>INSEE_COG</th>\n",
       "      <th>geometry</th>\n",
       "      <th>surface</th>\n",
       "    </tr>\n",
       "  </thead>\n",
       "  <tbody>\n",
       "    <tr>\n",
       "      <th>111</th>\n",
       "      <td>COMMUNE_0000000009739723</td>\n",
       "      <td>None</td>\n",
       "      <td>Fontainebleau</td>\n",
       "      <td>FONTAINEBLEAU</td>\n",
       "      <td>77186</td>\n",
       "      <td>Sous-préfecture</td>\n",
       "      <td>15696</td>\n",
       "      <td>07</td>\n",
       "      <td>4</td>\n",
       "      <td>77</td>\n",
       "      <td>11</td>\n",
       "      <td>200072346</td>\n",
       "      <td>IGN:EXPRESS-COG-CARTO-TERRITOIRE</td>\n",
       "      <td>77186</td>\n",
       "      <td>POLYGON ((2.74740 48.48329, 2.74783 48.48327, ...</td>\n",
       "      <td>1.722864e+08</td>\n",
       "    </tr>\n",
       "    <tr>\n",
       "      <th>148</th>\n",
       "      <td>COMMUNE_0000002200276627</td>\n",
       "      <td>None</td>\n",
       "      <td>Saint-Germain-en-Laye</td>\n",
       "      <td>SAINT-GERMAIN-EN-LAYE</td>\n",
       "      <td>78551</td>\n",
       "      <td>Sous-préfecture</td>\n",
       "      <td>44806</td>\n",
       "      <td>16</td>\n",
       "      <td>3</td>\n",
       "      <td>78</td>\n",
       "      <td>11</td>\n",
       "      <td>200058519</td>\n",
       "      <td>IGN:EXPRESS-COG-CARTO-TERRITOIRE</td>\n",
       "      <td>78551</td>\n",
       "      <td>POLYGON ((2.07077 48.94649, 2.07138 48.94676, ...</td>\n",
       "      <td>5.313401e+07</td>\n",
       "    </tr>\n",
       "    <tr>\n",
       "      <th>135</th>\n",
       "      <td>COMMUNE_0000002200276622</td>\n",
       "      <td>None</td>\n",
       "      <td>Chenoise-Cucharmoy</td>\n",
       "      <td>CHENOISE-CUCHARMOY</td>\n",
       "      <td>77109</td>\n",
       "      <td>Commune simple</td>\n",
       "      <td>1640</td>\n",
       "      <td>18</td>\n",
       "      <td>3</td>\n",
       "      <td>77</td>\n",
       "      <td>11</td>\n",
       "      <td>200037133</td>\n",
       "      <td>IGN:EXPRESS-COG-CARTO-TERRITOIRE</td>\n",
       "      <td>77109</td>\n",
       "      <td>POLYGON ((3.13963 48.59977, 3.13951 48.59983, ...</td>\n",
       "      <td>4.874811e+07</td>\n",
       "    </tr>\n",
       "    <tr>\n",
       "      <th>229</th>\n",
       "      <td>COMMUNE_0000000009738401</td>\n",
       "      <td>None</td>\n",
       "      <td>Sonchamp</td>\n",
       "      <td>SONCHAMP</td>\n",
       "      <td>78601</td>\n",
       "      <td>Commune simple</td>\n",
       "      <td>1600</td>\n",
       "      <td>14</td>\n",
       "      <td>2</td>\n",
       "      <td>78</td>\n",
       "      <td>11</td>\n",
       "      <td>200073344</td>\n",
       "      <td>IGN:EXPRESS-COG-CARTO-TERRITOIRE</td>\n",
       "      <td>78601</td>\n",
       "      <td>POLYGON ((1.83232 48.56349, 1.83260 48.56506, ...</td>\n",
       "      <td>4.634931e+07</td>\n",
       "    </tr>\n",
       "    <tr>\n",
       "      <th>152</th>\n",
       "      <td>COMMUNE_0000000009739738</td>\n",
       "      <td>None</td>\n",
       "      <td>Étampes</td>\n",
       "      <td>ETAMPES</td>\n",
       "      <td>91223</td>\n",
       "      <td>Sous-préfecture</td>\n",
       "      <td>25629</td>\n",
       "      <td>08</td>\n",
       "      <td>1</td>\n",
       "      <td>91</td>\n",
       "      <td>11</td>\n",
       "      <td>200017846</td>\n",
       "      <td>IGN:EXPRESS-COG-CARTO-TERRITOIRE</td>\n",
       "      <td>91223</td>\n",
       "      <td>POLYGON ((2.23350 48.39672, 2.23293 48.39656, ...</td>\n",
       "      <td>4.596232e+07</td>\n",
       "    </tr>\n",
       "    <tr>\n",
       "      <th>...</th>\n",
       "      <td>...</td>\n",
       "      <td>...</td>\n",
       "      <td>...</td>\n",
       "      <td>...</td>\n",
       "      <td>...</td>\n",
       "      <td>...</td>\n",
       "      <td>...</td>\n",
       "      <td>...</td>\n",
       "      <td>...</td>\n",
       "      <td>...</td>\n",
       "      <td>...</td>\n",
       "      <td>...</td>\n",
       "      <td>...</td>\n",
       "      <td>...</td>\n",
       "      <td>...</td>\n",
       "      <td>...</td>\n",
       "    </tr>\n",
       "    <tr>\n",
       "      <th>13</th>\n",
       "      <td>COMMUNE_0000000009736527</td>\n",
       "      <td>None</td>\n",
       "      <td>Saint-Mandé</td>\n",
       "      <td>SAINT-MANDE</td>\n",
       "      <td>94067</td>\n",
       "      <td>Commune simple</td>\n",
       "      <td>22377</td>\n",
       "      <td>23</td>\n",
       "      <td>2</td>\n",
       "      <td>94</td>\n",
       "      <td>11</td>\n",
       "      <td>200054781/200057941</td>\n",
       "      <td>IGN:EXPRESS-COG-CARTO-TERRITOIRE</td>\n",
       "      <td>94067</td>\n",
       "      <td>POLYGON ((2.41900 48.84939, 2.41900 48.84935, ...</td>\n",
       "      <td>9.057590e+05</td>\n",
       "    </tr>\n",
       "    <tr>\n",
       "      <th>155</th>\n",
       "      <td>COMMUNE_0000000009734016</td>\n",
       "      <td>None</td>\n",
       "      <td>Gouzangrez</td>\n",
       "      <td>GOUZANGREZ</td>\n",
       "      <td>95282</td>\n",
       "      <td>Commune simple</td>\n",
       "      <td>160</td>\n",
       "      <td>16</td>\n",
       "      <td>3</td>\n",
       "      <td>95</td>\n",
       "      <td>11</td>\n",
       "      <td>200035970</td>\n",
       "      <td>IGN:EXPRESS-COG-CARTO-TERRITOIRE</td>\n",
       "      <td>95282</td>\n",
       "      <td>POLYGON ((1.90588 49.11131, 1.90559 49.11143, ...</td>\n",
       "      <td>7.725902e+05</td>\n",
       "    </tr>\n",
       "    <tr>\n",
       "      <th>181</th>\n",
       "      <td>COMMUNE_0000000009735023</td>\n",
       "      <td>None</td>\n",
       "      <td>Margency</td>\n",
       "      <td>MARGENCY</td>\n",
       "      <td>95369</td>\n",
       "      <td>Commune simple</td>\n",
       "      <td>2846</td>\n",
       "      <td>15</td>\n",
       "      <td>2</td>\n",
       "      <td>95</td>\n",
       "      <td>11</td>\n",
       "      <td>200056380</td>\n",
       "      <td>IGN:EXPRESS-COG-CARTO-TERRITOIRE</td>\n",
       "      <td>95369</td>\n",
       "      <td>POLYGON ((2.29014 48.99680, 2.28979 48.99688, ...</td>\n",
       "      <td>7.250545e+05</td>\n",
       "    </tr>\n",
       "    <tr>\n",
       "      <th>11</th>\n",
       "      <td>COMMUNE_0000000009736027</td>\n",
       "      <td>None</td>\n",
       "      <td>Le Pré-Saint-Gervais</td>\n",
       "      <td>LE PRE-SAINT-GERVAIS</td>\n",
       "      <td>93061</td>\n",
       "      <td>Commune simple</td>\n",
       "      <td>17351</td>\n",
       "      <td>15</td>\n",
       "      <td>1</td>\n",
       "      <td>93</td>\n",
       "      <td>11</td>\n",
       "      <td>200054781/200057875</td>\n",
       "      <td>IGN:EXPRESS-COG-CARTO-TERRITOIRE</td>\n",
       "      <td>93061</td>\n",
       "      <td>POLYGON ((2.41151 48.88322, 2.41148 48.88315, ...</td>\n",
       "      <td>7.027441e+05</td>\n",
       "    </tr>\n",
       "    <tr>\n",
       "      <th>20</th>\n",
       "      <td>COMMUNE_0000000009735012</td>\n",
       "      <td>None</td>\n",
       "      <td>Vaudherland</td>\n",
       "      <td>VAUDHERLAND</td>\n",
       "      <td>95633</td>\n",
       "      <td>Commune simple</td>\n",
       "      <td>98</td>\n",
       "      <td>21</td>\n",
       "      <td>2</td>\n",
       "      <td>95</td>\n",
       "      <td>11</td>\n",
       "      <td>200055655</td>\n",
       "      <td>IGN:EXPRESS-COG-CARTO-TERRITOIRE</td>\n",
       "      <td>95633</td>\n",
       "      <td>POLYGON ((2.48575 48.99933, 2.48549 48.99941, ...</td>\n",
       "      <td>9.722876e+04</td>\n",
       "    </tr>\n",
       "  </tbody>\n",
       "</table>\n",
       "<p>1287 rows × 16 columns</p>\n",
       "</div>"
      ],
      "text/plain": [
       "                           id    ID                    NOM  \\\n",
       "111  COMMUNE_0000000009739723  None          Fontainebleau   \n",
       "148  COMMUNE_0000002200276627  None  Saint-Germain-en-Laye   \n",
       "135  COMMUNE_0000002200276622  None     Chenoise-Cucharmoy   \n",
       "229  COMMUNE_0000000009738401  None               Sonchamp   \n",
       "152  COMMUNE_0000000009739738  None                Étampes   \n",
       "..                        ...   ...                    ...   \n",
       "13   COMMUNE_0000000009736527  None            Saint-Mandé   \n",
       "155  COMMUNE_0000000009734016  None             Gouzangrez   \n",
       "181  COMMUNE_0000000009735023  None               Margency   \n",
       "11   COMMUNE_0000000009736027  None   Le Pré-Saint-Gervais   \n",
       "20   COMMUNE_0000000009735012  None            Vaudherland   \n",
       "\n",
       "                     NOM_M INSEE_COM           STATUT  POPULATION INSEE_CAN  \\\n",
       "111          FONTAINEBLEAU     77186  Sous-préfecture       15696        07   \n",
       "148  SAINT-GERMAIN-EN-LAYE     78551  Sous-préfecture       44806        16   \n",
       "135     CHENOISE-CUCHARMOY     77109   Commune simple        1640        18   \n",
       "229               SONCHAMP     78601   Commune simple        1600        14   \n",
       "152                ETAMPES     91223  Sous-préfecture       25629        08   \n",
       "..                     ...       ...              ...         ...       ...   \n",
       "13             SAINT-MANDE     94067   Commune simple       22377        23   \n",
       "155             GOUZANGREZ     95282   Commune simple         160        16   \n",
       "181               MARGENCY     95369   Commune simple        2846        15   \n",
       "11    LE PRE-SAINT-GERVAIS     93061   Commune simple       17351        15   \n",
       "20             VAUDHERLAND     95633   Commune simple          98        21   \n",
       "\n",
       "    INSEE_ARR INSEE_DEP INSEE_REG           SIREN_EPCI  \\\n",
       "111         4        77        11            200072346   \n",
       "148         3        78        11            200058519   \n",
       "135         3        77        11            200037133   \n",
       "229         2        78        11            200073344   \n",
       "152         1        91        11            200017846   \n",
       "..        ...       ...       ...                  ...   \n",
       "13          2        94        11  200054781/200057941   \n",
       "155         3        95        11            200035970   \n",
       "181         2        95        11            200056380   \n",
       "11          1        93        11  200054781/200057875   \n",
       "20          2        95        11            200055655   \n",
       "\n",
       "                               source INSEE_COG  \\\n",
       "111  IGN:EXPRESS-COG-CARTO-TERRITOIRE     77186   \n",
       "148  IGN:EXPRESS-COG-CARTO-TERRITOIRE     78551   \n",
       "135  IGN:EXPRESS-COG-CARTO-TERRITOIRE     77109   \n",
       "229  IGN:EXPRESS-COG-CARTO-TERRITOIRE     78601   \n",
       "152  IGN:EXPRESS-COG-CARTO-TERRITOIRE     91223   \n",
       "..                                ...       ...   \n",
       "13   IGN:EXPRESS-COG-CARTO-TERRITOIRE     94067   \n",
       "155  IGN:EXPRESS-COG-CARTO-TERRITOIRE     95282   \n",
       "181  IGN:EXPRESS-COG-CARTO-TERRITOIRE     95369   \n",
       "11   IGN:EXPRESS-COG-CARTO-TERRITOIRE     93061   \n",
       "20   IGN:EXPRESS-COG-CARTO-TERRITOIRE     95633   \n",
       "\n",
       "                                              geometry       surface  \n",
       "111  POLYGON ((2.74740 48.48329, 2.74783 48.48327, ...  1.722864e+08  \n",
       "148  POLYGON ((2.07077 48.94649, 2.07138 48.94676, ...  5.313401e+07  \n",
       "135  POLYGON ((3.13963 48.59977, 3.13951 48.59983, ...  4.874811e+07  \n",
       "229  POLYGON ((1.83232 48.56349, 1.83260 48.56506, ...  4.634931e+07  \n",
       "152  POLYGON ((2.23350 48.39672, 2.23293 48.39656, ...  4.596232e+07  \n",
       "..                                                 ...           ...  \n",
       "13   POLYGON ((2.41900 48.84939, 2.41900 48.84935, ...  9.057590e+05  \n",
       "155  POLYGON ((1.90588 49.11131, 1.90559 49.11143, ...  7.725902e+05  \n",
       "181  POLYGON ((2.29014 48.99680, 2.28979 48.99688, ...  7.250545e+05  \n",
       "11   POLYGON ((2.41151 48.88322, 2.41148 48.88315, ...  7.027441e+05  \n",
       "20   POLYGON ((2.48575 48.99933, 2.48549 48.99941, ...  9.722876e+04  \n",
       "\n",
       "[1287 rows x 16 columns]"
      ]
     },
     "execution_count": 144,
     "metadata": {},
     "output_type": "execute_result"
    }
   ],
   "source": [
    "communes.sort_values('surface', ascending = False)"
   ]
  },
  {
   "cell_type": "code",
   "execution_count": 145,
   "id": "46319b27-576e-4315-89b2-88d51f8481ac",
   "metadata": {},
   "outputs": [],
   "source": [
    "communes.rename(columns={'INSEE_COG': 'insee_com'}, inplace=True)"
   ]
  },
  {
   "cell_type": "code",
   "execution_count": 146,
   "id": "6a959414-63f6-48b6-bfaf-3e6a82e25bc3",
   "metadata": {},
   "outputs": [
    {
     "data": {
      "text/html": [
       "<div>\n",
       "<style scoped>\n",
       "    .dataframe tbody tr th:only-of-type {\n",
       "        vertical-align: middle;\n",
       "    }\n",
       "\n",
       "    .dataframe tbody tr th {\n",
       "        vertical-align: top;\n",
       "    }\n",
       "\n",
       "    .dataframe thead th {\n",
       "        text-align: right;\n",
       "    }\n",
       "</style>\n",
       "<table border=\"1\" class=\"dataframe\">\n",
       "  <thead>\n",
       "    <tr style=\"text-align: right;\">\n",
       "      <th></th>\n",
       "      <th>id</th>\n",
       "      <th>ID</th>\n",
       "      <th>NOM</th>\n",
       "      <th>NOM_M</th>\n",
       "      <th>INSEE_COM</th>\n",
       "      <th>STATUT</th>\n",
       "      <th>POPULATION</th>\n",
       "      <th>INSEE_CAN</th>\n",
       "      <th>INSEE_ARR</th>\n",
       "      <th>INSEE_DEP</th>\n",
       "      <th>INSEE_REG</th>\n",
       "      <th>SIREN_EPCI</th>\n",
       "      <th>source</th>\n",
       "      <th>insee_com</th>\n",
       "      <th>geometry</th>\n",
       "      <th>surface</th>\n",
       "    </tr>\n",
       "  </thead>\n",
       "  <tbody>\n",
       "    <tr>\n",
       "      <th>357</th>\n",
       "      <td>COMMUNE_0000000009735982</td>\n",
       "      <td>None</td>\n",
       "      <td>Crécy-la-Chapelle</td>\n",
       "      <td>CRECY-LA-CHAPELLE</td>\n",
       "      <td>77142</td>\n",
       "      <td>Commune simple</td>\n",
       "      <td>4713</td>\n",
       "      <td>21</td>\n",
       "      <td>1</td>\n",
       "      <td>77</td>\n",
       "      <td>11</td>\n",
       "      <td>200090504</td>\n",
       "      <td>IGN:EXPRESS-COG-CARTO-TERRITOIRE</td>\n",
       "      <td>77142</td>\n",
       "      <td>POLYGON ((2.95975 48.86247, 2.95987 48.86239, ...</td>\n",
       "      <td>1.545597e+07</td>\n",
       "    </tr>\n",
       "    <tr>\n",
       "      <th>128</th>\n",
       "      <td>COMMUNE_0000000009735544</td>\n",
       "      <td>None</td>\n",
       "      <td>Aulnay-sur-Mauldre</td>\n",
       "      <td>AULNAY-SUR-MAULDRE</td>\n",
       "      <td>78033</td>\n",
       "      <td>Commune simple</td>\n",
       "      <td>1142</td>\n",
       "      <td>01</td>\n",
       "      <td>1</td>\n",
       "      <td>78</td>\n",
       "      <td>11</td>\n",
       "      <td>200059889</td>\n",
       "      <td>IGN:EXPRESS-COG-CARTO-TERRITOIRE</td>\n",
       "      <td>78033</td>\n",
       "      <td>POLYGON ((1.82898 48.92671, 1.82885 48.92688, ...</td>\n",
       "      <td>2.238844e+06</td>\n",
       "    </tr>\n",
       "    <tr>\n",
       "      <th>22</th>\n",
       "      <td>COMMUNE_0000000009739737</td>\n",
       "      <td>None</td>\n",
       "      <td>Ormoy-la-Rivière</td>\n",
       "      <td>ORMOY-LA-RIVIERE</td>\n",
       "      <td>91469</td>\n",
       "      <td>Commune simple</td>\n",
       "      <td>911</td>\n",
       "      <td>08</td>\n",
       "      <td>1</td>\n",
       "      <td>91</td>\n",
       "      <td>11</td>\n",
       "      <td>200017846</td>\n",
       "      <td>IGN:EXPRESS-COG-CARTO-TERRITOIRE</td>\n",
       "      <td>91469</td>\n",
       "      <td>POLYGON ((2.20315 48.39544, 2.20289 48.39414, ...</td>\n",
       "      <td>1.047494e+07</td>\n",
       "    </tr>\n",
       "    <tr>\n",
       "      <th>398</th>\n",
       "      <td>COMMUNE_0000000009738342</td>\n",
       "      <td>None</td>\n",
       "      <td>Vieux-Champagne</td>\n",
       "      <td>VIEUX-CHAMPAGNE</td>\n",
       "      <td>77496</td>\n",
       "      <td>Commune simple</td>\n",
       "      <td>189</td>\n",
       "      <td>14</td>\n",
       "      <td>3</td>\n",
       "      <td>77</td>\n",
       "      <td>11</td>\n",
       "      <td>247700701</td>\n",
       "      <td>IGN:EXPRESS-COG-CARTO-TERRITOIRE</td>\n",
       "      <td>77496</td>\n",
       "      <td>POLYGON ((3.16787 48.57744, 3.16756 48.57745, ...</td>\n",
       "      <td>8.911260e+06</td>\n",
       "    </tr>\n",
       "    <tr>\n",
       "      <th>279</th>\n",
       "      <td>COMMUNE_0000000009737914</td>\n",
       "      <td>None</td>\n",
       "      <td>Ozouer-le-Voulgis</td>\n",
       "      <td>OZOUER-LE-VOULGIS</td>\n",
       "      <td>77352</td>\n",
       "      <td>Commune simple</td>\n",
       "      <td>1921</td>\n",
       "      <td>08</td>\n",
       "      <td>2</td>\n",
       "      <td>77</td>\n",
       "      <td>11</td>\n",
       "      <td>200070779</td>\n",
       "      <td>IGN:EXPRESS-COG-CARTO-TERRITOIRE</td>\n",
       "      <td>77352</td>\n",
       "      <td>POLYGON ((2.80024 48.68516, 2.80037 48.68493, ...</td>\n",
       "      <td>1.135592e+07</td>\n",
       "    </tr>\n",
       "    <tr>\n",
       "      <th>193</th>\n",
       "      <td>COMMUNE_0000000009735543</td>\n",
       "      <td>None</td>\n",
       "      <td>Bazemont</td>\n",
       "      <td>BAZEMONT</td>\n",
       "      <td>78049</td>\n",
       "      <td>Commune simple</td>\n",
       "      <td>1649</td>\n",
       "      <td>01</td>\n",
       "      <td>3</td>\n",
       "      <td>78</td>\n",
       "      <td>11</td>\n",
       "      <td>200034130</td>\n",
       "      <td>IGN:EXPRESS-COG-CARTO-TERRITOIRE</td>\n",
       "      <td>78049</td>\n",
       "      <td>POLYGON ((1.88315 48.91710, 1.88312 48.91710, ...</td>\n",
       "      <td>6.709576e+06</td>\n",
       "    </tr>\n",
       "    <tr>\n",
       "      <th>138</th>\n",
       "      <td>COMMUNE_0000000009736562</td>\n",
       "      <td>None</td>\n",
       "      <td>Villepreux</td>\n",
       "      <td>VILLEPREUX</td>\n",
       "      <td>78674</td>\n",
       "      <td>Commune simple</td>\n",
       "      <td>11003</td>\n",
       "      <td>15</td>\n",
       "      <td>4</td>\n",
       "      <td>78</td>\n",
       "      <td>11</td>\n",
       "      <td>200058782</td>\n",
       "      <td>IGN:EXPRESS-COG-CARTO-TERRITOIRE</td>\n",
       "      <td>78674</td>\n",
       "      <td>POLYGON ((2.04170 48.84300, 2.03866 48.84139, ...</td>\n",
       "      <td>1.046625e+07</td>\n",
       "    </tr>\n",
       "    <tr>\n",
       "      <th>70</th>\n",
       "      <td>COMMUNE_0000000009737955</td>\n",
       "      <td>None</td>\n",
       "      <td>Briis-sous-Forges</td>\n",
       "      <td>BRIIS-SOUS-FORGES</td>\n",
       "      <td>91111</td>\n",
       "      <td>Commune simple</td>\n",
       "      <td>3342</td>\n",
       "      <td>05</td>\n",
       "      <td>3</td>\n",
       "      <td>91</td>\n",
       "      <td>11</td>\n",
       "      <td>249100074</td>\n",
       "      <td>IGN:EXPRESS-COG-CARTO-TERRITOIRE</td>\n",
       "      <td>91111</td>\n",
       "      <td>POLYGON ((2.11967 48.65196, 2.11985 48.65201, ...</td>\n",
       "      <td>1.116746e+07</td>\n",
       "    </tr>\n",
       "    <tr>\n",
       "      <th>3</th>\n",
       "      <td>COMMUNE_0000000009735498</td>\n",
       "      <td>None</td>\n",
       "      <td>Livry-Gargan</td>\n",
       "      <td>LIVRY-GARGAN</td>\n",
       "      <td>93046</td>\n",
       "      <td>Commune simple</td>\n",
       "      <td>45692</td>\n",
       "      <td>11</td>\n",
       "      <td>2</td>\n",
       "      <td>93</td>\n",
       "      <td>11</td>\n",
       "      <td>200054781/200058790</td>\n",
       "      <td>IGN:EXPRESS-COG-CARTO-TERRITOIRE</td>\n",
       "      <td>93046</td>\n",
       "      <td>POLYGON ((2.56443 48.92809, 2.56426 48.92786, ...</td>\n",
       "      <td>7.372933e+06</td>\n",
       "    </tr>\n",
       "    <tr>\n",
       "      <th>179</th>\n",
       "      <td>COMMUNE_0000000009737910</td>\n",
       "      <td>None</td>\n",
       "      <td>Beauvoir</td>\n",
       "      <td>BEAUVOIR</td>\n",
       "      <td>77029</td>\n",
       "      <td>Commune simple</td>\n",
       "      <td>192</td>\n",
       "      <td>14</td>\n",
       "      <td>2</td>\n",
       "      <td>77</td>\n",
       "      <td>11</td>\n",
       "      <td>200070779</td>\n",
       "      <td>IGN:EXPRESS-COG-CARTO-TERRITOIRE</td>\n",
       "      <td>77029</td>\n",
       "      <td>POLYGON ((2.84873 48.65522, 2.84875 48.65521, ...</td>\n",
       "      <td>3.957711e+06</td>\n",
       "    </tr>\n",
       "  </tbody>\n",
       "</table>\n",
       "</div>"
      ],
      "text/plain": [
       "                           id    ID                 NOM               NOM_M  \\\n",
       "357  COMMUNE_0000000009735982  None   Crécy-la-Chapelle   CRECY-LA-CHAPELLE   \n",
       "128  COMMUNE_0000000009735544  None  Aulnay-sur-Mauldre  AULNAY-SUR-MAULDRE   \n",
       "22   COMMUNE_0000000009739737  None    Ormoy-la-Rivière    ORMOY-LA-RIVIERE   \n",
       "398  COMMUNE_0000000009738342  None     Vieux-Champagne     VIEUX-CHAMPAGNE   \n",
       "279  COMMUNE_0000000009737914  None   Ozouer-le-Voulgis   OZOUER-LE-VOULGIS   \n",
       "193  COMMUNE_0000000009735543  None            Bazemont            BAZEMONT   \n",
       "138  COMMUNE_0000000009736562  None          Villepreux          VILLEPREUX   \n",
       "70   COMMUNE_0000000009737955  None   Briis-sous-Forges   BRIIS-SOUS-FORGES   \n",
       "3    COMMUNE_0000000009735498  None        Livry-Gargan        LIVRY-GARGAN   \n",
       "179  COMMUNE_0000000009737910  None            Beauvoir            BEAUVOIR   \n",
       "\n",
       "    INSEE_COM          STATUT  POPULATION INSEE_CAN INSEE_ARR INSEE_DEP  \\\n",
       "357     77142  Commune simple        4713        21         1        77   \n",
       "128     78033  Commune simple        1142        01         1        78   \n",
       "22      91469  Commune simple         911        08         1        91   \n",
       "398     77496  Commune simple         189        14         3        77   \n",
       "279     77352  Commune simple        1921        08         2        77   \n",
       "193     78049  Commune simple        1649        01         3        78   \n",
       "138     78674  Commune simple       11003        15         4        78   \n",
       "70      91111  Commune simple        3342        05         3        91   \n",
       "3       93046  Commune simple       45692        11         2        93   \n",
       "179     77029  Commune simple         192        14         2        77   \n",
       "\n",
       "    INSEE_REG           SIREN_EPCI                            source  \\\n",
       "357        11            200090504  IGN:EXPRESS-COG-CARTO-TERRITOIRE   \n",
       "128        11            200059889  IGN:EXPRESS-COG-CARTO-TERRITOIRE   \n",
       "22         11            200017846  IGN:EXPRESS-COG-CARTO-TERRITOIRE   \n",
       "398        11            247700701  IGN:EXPRESS-COG-CARTO-TERRITOIRE   \n",
       "279        11            200070779  IGN:EXPRESS-COG-CARTO-TERRITOIRE   \n",
       "193        11            200034130  IGN:EXPRESS-COG-CARTO-TERRITOIRE   \n",
       "138        11            200058782  IGN:EXPRESS-COG-CARTO-TERRITOIRE   \n",
       "70         11            249100074  IGN:EXPRESS-COG-CARTO-TERRITOIRE   \n",
       "3          11  200054781/200058790  IGN:EXPRESS-COG-CARTO-TERRITOIRE   \n",
       "179        11            200070779  IGN:EXPRESS-COG-CARTO-TERRITOIRE   \n",
       "\n",
       "    insee_com                                           geometry       surface  \n",
       "357     77142  POLYGON ((2.95975 48.86247, 2.95987 48.86239, ...  1.545597e+07  \n",
       "128     78033  POLYGON ((1.82898 48.92671, 1.82885 48.92688, ...  2.238844e+06  \n",
       "22      91469  POLYGON ((2.20315 48.39544, 2.20289 48.39414, ...  1.047494e+07  \n",
       "398     77496  POLYGON ((3.16787 48.57744, 3.16756 48.57745, ...  8.911260e+06  \n",
       "279     77352  POLYGON ((2.80024 48.68516, 2.80037 48.68493, ...  1.135592e+07  \n",
       "193     78049  POLYGON ((1.88315 48.91710, 1.88312 48.91710, ...  6.709576e+06  \n",
       "138     78674  POLYGON ((2.04170 48.84300, 2.03866 48.84139, ...  1.046625e+07  \n",
       "70      91111  POLYGON ((2.11967 48.65196, 2.11985 48.65201, ...  1.116746e+07  \n",
       "3       93046  POLYGON ((2.56443 48.92809, 2.56426 48.92786, ...  7.372933e+06  \n",
       "179     77029  POLYGON ((2.84873 48.65522, 2.84875 48.65521, ...  3.957711e+06  "
      ]
     },
     "execution_count": 146,
     "metadata": {},
     "output_type": "execute_result"
    }
   ],
   "source": [
    "communes.sample(n=10)"
   ]
  },
  {
   "cell_type": "markdown",
   "id": "948540f6-cdef-458b-8031-42306908c4da",
   "metadata": {},
   "source": [
    "## Les vélibs en Ile de France"
   ]
  },
  {
   "cell_type": "code",
   "execution_count": 115,
   "id": "3b714fe5-0271-4851-9c34-ab3c73ad95bd",
   "metadata": {},
   "outputs": [],
   "source": [
    "url2 = \"https://opendata.paris.fr/explore/dataset/velib-emplacement-des-stations/download/?format=geojson&timezone=Europe/Berlin&lang=fr\""
   ]
  },
  {
   "cell_type": "code",
   "execution_count": 116,
   "id": "a0a36b02-aac1-41ce-b9a4-4bead9c0d18f",
   "metadata": {},
   "outputs": [],
   "source": [
    "velib = gpd.read_file(url2)"
   ]
  },
  {
   "cell_type": "code",
   "execution_count": 123,
   "id": "a03c0b00-0912-48bf-a80a-fdacc7d17423",
   "metadata": {},
   "outputs": [
    {
     "data": {
      "text/html": [
       "<div>\n",
       "<style scoped>\n",
       "    .dataframe tbody tr th:only-of-type {\n",
       "        vertical-align: middle;\n",
       "    }\n",
       "\n",
       "    .dataframe tbody tr th {\n",
       "        vertical-align: top;\n",
       "    }\n",
       "\n",
       "    .dataframe thead th {\n",
       "        text-align: right;\n",
       "    }\n",
       "</style>\n",
       "<table border=\"1\" class=\"dataframe\">\n",
       "  <thead>\n",
       "    <tr style=\"text-align: right;\">\n",
       "      <th></th>\n",
       "      <th>capacity</th>\n",
       "      <th>name</th>\n",
       "      <th>stationcode</th>\n",
       "      <th>geometry</th>\n",
       "    </tr>\n",
       "  </thead>\n",
       "  <tbody>\n",
       "    <tr>\n",
       "      <th>1093</th>\n",
       "      <td>50</td>\n",
       "      <td>Dom-Pérignon - Gravelle</td>\n",
       "      <td>12119</td>\n",
       "      <td>POINT (2.40988 48.82548)</td>\n",
       "    </tr>\n",
       "    <tr>\n",
       "      <th>28</th>\n",
       "      <td>43</td>\n",
       "      <td>Boulets - Faubourg Saint-Antoine</td>\n",
       "      <td>11010</td>\n",
       "      <td>POINT (2.39175 48.84926)</td>\n",
       "    </tr>\n",
       "    <tr>\n",
       "      <th>1123</th>\n",
       "      <td>34</td>\n",
       "      <td>Sommerard - Saint-Jacques</td>\n",
       "      <td>5002</td>\n",
       "      <td>POINT (2.34502 48.85031)</td>\n",
       "    </tr>\n",
       "    <tr>\n",
       "      <th>38</th>\n",
       "      <td>33</td>\n",
       "      <td>Saint-Fargeau - Mortier</td>\n",
       "      <td>20117</td>\n",
       "      <td>POINT (2.40791 48.87267)</td>\n",
       "    </tr>\n",
       "    <tr>\n",
       "      <th>857</th>\n",
       "      <td>30</td>\n",
       "      <td>Quai de l'Oise - Aisne</td>\n",
       "      <td>19128</td>\n",
       "      <td>POINT (2.38337 48.89062)</td>\n",
       "    </tr>\n",
       "    <tr>\n",
       "      <th>735</th>\n",
       "      <td>30</td>\n",
       "      <td>Gare de Robinson</td>\n",
       "      <td>23303</td>\n",
       "      <td>POINT (2.28183 48.77993)</td>\n",
       "    </tr>\n",
       "    <tr>\n",
       "      <th>990</th>\n",
       "      <td>33</td>\n",
       "      <td>Vistule - Choisy</td>\n",
       "      <td>13113</td>\n",
       "      <td>POINT (2.36157 48.82366)</td>\n",
       "    </tr>\n",
       "    <tr>\n",
       "      <th>98</th>\n",
       "      <td>30</td>\n",
       "      <td>Gare RER de Gentilly</td>\n",
       "      <td>42504</td>\n",
       "      <td>POINT (2.34103 48.81428)</td>\n",
       "    </tr>\n",
       "    <tr>\n",
       "      <th>815</th>\n",
       "      <td>33</td>\n",
       "      <td>Rossini - Laffitte</td>\n",
       "      <td>9022</td>\n",
       "      <td>POINT (2.33798 48.87335)</td>\n",
       "    </tr>\n",
       "    <tr>\n",
       "      <th>156</th>\n",
       "      <td>17</td>\n",
       "      <td>Galilée - Vernet</td>\n",
       "      <td>8003</td>\n",
       "      <td>POINT (2.29854 48.87172)</td>\n",
       "    </tr>\n",
       "    <tr>\n",
       "      <th>1375</th>\n",
       "      <td>33</td>\n",
       "      <td>Mairie de Clamart</td>\n",
       "      <td>21401</td>\n",
       "      <td>POINT (2.26215 48.80061)</td>\n",
       "    </tr>\n",
       "    <tr>\n",
       "      <th>1434</th>\n",
       "      <td>29</td>\n",
       "      <td>Quai Marcel Boyer - Victor Hugo</td>\n",
       "      <td>42011</td>\n",
       "      <td>POINT (2.39204 48.82256)</td>\n",
       "    </tr>\n",
       "    <tr>\n",
       "      <th>15</th>\n",
       "      <td>33</td>\n",
       "      <td>Faustin Hélie - Desbordes-Valmore</td>\n",
       "      <td>16111</td>\n",
       "      <td>POINT (2.27652 48.85940)</td>\n",
       "    </tr>\n",
       "    <tr>\n",
       "      <th>400</th>\n",
       "      <td>27</td>\n",
       "      <td>Mairie du 7ème</td>\n",
       "      <td>7102</td>\n",
       "      <td>POINT (2.31927 48.85780)</td>\n",
       "    </tr>\n",
       "    <tr>\n",
       "      <th>6</th>\n",
       "      <td>39</td>\n",
       "      <td>Panthéon - Valette</td>\n",
       "      <td>5032</td>\n",
       "      <td>POINT (2.34650 48.84702)</td>\n",
       "    </tr>\n",
       "  </tbody>\n",
       "</table>\n",
       "</div>"
      ],
      "text/plain": [
       "      capacity                               name stationcode  \\\n",
       "1093        50            Dom-Pérignon - Gravelle       12119   \n",
       "28          43   Boulets - Faubourg Saint-Antoine       11010   \n",
       "1123        34          Sommerard - Saint-Jacques        5002   \n",
       "38          33            Saint-Fargeau - Mortier       20117   \n",
       "857         30             Quai de l'Oise - Aisne       19128   \n",
       "735         30                   Gare de Robinson       23303   \n",
       "990         33                   Vistule - Choisy       13113   \n",
       "98          30               Gare RER de Gentilly       42504   \n",
       "815         33                 Rossini - Laffitte        9022   \n",
       "156         17                   Galilée - Vernet        8003   \n",
       "1375        33                  Mairie de Clamart       21401   \n",
       "1434        29    Quai Marcel Boyer - Victor Hugo       42011   \n",
       "15          33  Faustin Hélie - Desbordes-Valmore       16111   \n",
       "400         27                     Mairie du 7ème        7102   \n",
       "6           39                 Panthéon - Valette        5032   \n",
       "\n",
       "                      geometry  \n",
       "1093  POINT (2.40988 48.82548)  \n",
       "28    POINT (2.39175 48.84926)  \n",
       "1123  POINT (2.34502 48.85031)  \n",
       "38    POINT (2.40791 48.87267)  \n",
       "857   POINT (2.38337 48.89062)  \n",
       "735   POINT (2.28183 48.77993)  \n",
       "990   POINT (2.36157 48.82366)  \n",
       "98    POINT (2.34103 48.81428)  \n",
       "815   POINT (2.33798 48.87335)  \n",
       "156   POINT (2.29854 48.87172)  \n",
       "1375  POINT (2.26215 48.80061)  \n",
       "1434  POINT (2.39204 48.82256)  \n",
       "15    POINT (2.27652 48.85940)  \n",
       "400   POINT (2.31927 48.85780)  \n",
       "6     POINT (2.34650 48.84702)  "
      ]
     },
     "execution_count": 123,
     "metadata": {},
     "output_type": "execute_result"
    }
   ],
   "source": [
    "velib.sample(n=15)"
   ]
  },
  {
   "cell_type": "code",
   "execution_count": 129,
   "id": "d23ef726",
   "metadata": {},
   "outputs": [],
   "source": [
    "gdf_velib = velib"
   ]
  },
  {
   "cell_type": "code",
   "execution_count": 132,
   "id": "a09bc8d7-3942-409c-9c12-669946e1e866",
   "metadata": {},
   "outputs": [
    {
     "data": {
      "text/html": [
       "<div>\n",
       "<style scoped>\n",
       "    .dataframe tbody tr th:only-of-type {\n",
       "        vertical-align: middle;\n",
       "    }\n",
       "\n",
       "    .dataframe tbody tr th {\n",
       "        vertical-align: top;\n",
       "    }\n",
       "\n",
       "    .dataframe thead th {\n",
       "        text-align: right;\n",
       "    }\n",
       "</style>\n",
       "<table border=\"1\" class=\"dataframe\">\n",
       "  <thead>\n",
       "    <tr style=\"text-align: right;\">\n",
       "      <th></th>\n",
       "      <th>capacity</th>\n",
       "      <th>name</th>\n",
       "      <th>stationcode</th>\n",
       "      <th>geometry</th>\n",
       "    </tr>\n",
       "  </thead>\n",
       "  <tbody>\n",
       "    <tr>\n",
       "      <th>974</th>\n",
       "      <td>39</td>\n",
       "      <td>Jussieu - Fossés Saint-Bernard</td>\n",
       "      <td>5021</td>\n",
       "      <td>POINT (2.35349 48.84719)</td>\n",
       "    </tr>\n",
       "    <tr>\n",
       "      <th>63</th>\n",
       "      <td>17</td>\n",
       "      <td>Square Pierre Lazareff</td>\n",
       "      <td>2004</td>\n",
       "      <td>POINT (2.34839 48.86714)</td>\n",
       "    </tr>\n",
       "    <tr>\n",
       "      <th>1204</th>\n",
       "      <td>60</td>\n",
       "      <td>Bois de Vincennes.</td>\n",
       "      <td>12041</td>\n",
       "      <td>POINT (2.41322 48.83381)</td>\n",
       "    </tr>\n",
       "    <tr>\n",
       "      <th>702</th>\n",
       "      <td>26</td>\n",
       "      <td>Mahatma Gandhi</td>\n",
       "      <td>16123</td>\n",
       "      <td>POINT (2.26421 48.87636)</td>\n",
       "    </tr>\n",
       "    <tr>\n",
       "      <th>61</th>\n",
       "      <td>20</td>\n",
       "      <td>Joffre - Aigle</td>\n",
       "      <td>22503</td>\n",
       "      <td>POINT (2.24510 48.90403)</td>\n",
       "    </tr>\n",
       "    <tr>\n",
       "      <th>727</th>\n",
       "      <td>36</td>\n",
       "      <td>Perle - Vieille du Temple</td>\n",
       "      <td>3008</td>\n",
       "      <td>POINT (2.36112 48.86013)</td>\n",
       "    </tr>\n",
       "    <tr>\n",
       "      <th>849</th>\n",
       "      <td>51</td>\n",
       "      <td>Gare de Lyon - Van Gogh</td>\n",
       "      <td>12006</td>\n",
       "      <td>POINT (2.37045 48.84384)</td>\n",
       "    </tr>\n",
       "    <tr>\n",
       "      <th>1381</th>\n",
       "      <td>24</td>\n",
       "      <td>Jules Guesdes - Général de Gaulle</td>\n",
       "      <td>21315</td>\n",
       "      <td>POINT (2.27893 48.81931)</td>\n",
       "    </tr>\n",
       "    <tr>\n",
       "      <th>1348</th>\n",
       "      <td>35</td>\n",
       "      <td>Marignan - Champs-Elysées</td>\n",
       "      <td>8013</td>\n",
       "      <td>POINT (2.30661 48.86950)</td>\n",
       "    </tr>\n",
       "    <tr>\n",
       "      <th>150</th>\n",
       "      <td>29</td>\n",
       "      <td>George Sand - Jean de La Fontaine</td>\n",
       "      <td>16116</td>\n",
       "      <td>POINT (2.26826 48.84987)</td>\n",
       "    </tr>\n",
       "  </tbody>\n",
       "</table>\n",
       "</div>"
      ],
      "text/plain": [
       "      capacity                               name stationcode  \\\n",
       "974         39     Jussieu - Fossés Saint-Bernard        5021   \n",
       "63          17             Square Pierre Lazareff        2004   \n",
       "1204        60                 Bois de Vincennes.       12041   \n",
       "702         26                     Mahatma Gandhi       16123   \n",
       "61          20                     Joffre - Aigle       22503   \n",
       "727         36          Perle - Vieille du Temple        3008   \n",
       "849         51            Gare de Lyon - Van Gogh       12006   \n",
       "1381        24  Jules Guesdes - Général de Gaulle       21315   \n",
       "1348        35          Marignan - Champs-Elysées        8013   \n",
       "150         29  George Sand - Jean de La Fontaine       16116   \n",
       "\n",
       "                      geometry  \n",
       "974   POINT (2.35349 48.84719)  \n",
       "63    POINT (2.34839 48.86714)  \n",
       "1204  POINT (2.41322 48.83381)  \n",
       "702   POINT (2.26421 48.87636)  \n",
       "61    POINT (2.24510 48.90403)  \n",
       "727   POINT (2.36112 48.86013)  \n",
       "849   POINT (2.37045 48.84384)  \n",
       "1381  POINT (2.27893 48.81931)  \n",
       "1348  POINT (2.30661 48.86950)  \n",
       "150   POINT (2.26826 48.84987)  "
      ]
     },
     "execution_count": 132,
     "metadata": {},
     "output_type": "execute_result"
    }
   ],
   "source": [
    "gdf_velib.sample(10)"
   ]
  },
  {
   "cell_type": "markdown",
   "id": "17a0b83b-062e-468a-9c03-aaf2a288a0b7",
   "metadata": {},
   "source": [
    "On associe désormais aux stations vélib leur localisation (commune) pour créer deux nouvelles variables d'intérêt : la capacité vélib par commune (cap_com) et le nombre de stations vélib par communes (stat_com)"
   ]
  },
  {
   "cell_type": "code",
   "execution_count": 148,
   "id": "6bfae2a5-fe90-4d28-9462-84c91914ff9d",
   "metadata": {},
   "outputs": [],
   "source": [
    "# Étape 1 : Spatial join pour associer à chaque station Vélib le code commune et le nom de la commune\n",
    "gdf_velib_with_communes = gpd.sjoin(gdf_velib, communes[['id', 'NOM', 'INSEE_COM', 'geometry']], predicate='within')"
   ]
  },
  {
   "cell_type": "code",
   "execution_count": 151,
   "id": "858d492f-59c5-4865-98a3-4f89ac92a26f",
   "metadata": {},
   "outputs": [],
   "source": [
    "# Étape 2 : Créer les variables cap_com et stat_com\n",
    "df_aggregated = gdf_velib_with_communes.groupby('INSEE_COM').agg(\n",
    "    cap_com=('capacity', 'sum'),\n",
    "    stat_com=('index_right', 'count')\n",
    ").reset_index()"
   ]
  },
  {
   "cell_type": "code",
   "execution_count": 162,
   "id": "8c2383a1-f907-4a1b-ad01-869f69c13f11",
   "metadata": {},
   "outputs": [],
   "source": [
    "# Étape 3 : Merge avec le GeoDataFrame des communes\n",
    "df_velib = pd.merge(communes, df_aggregated, how='left', on='INSEE_COM')"
   ]
  },
  {
   "cell_type": "code",
   "execution_count": 163,
   "id": "69fa320a-5a7e-41f9-941d-8ba9706d18c2",
   "metadata": {},
   "outputs": [],
   "source": [
    "# Liste des colonnes à supprimer\n",
    "colonnes_a_supprimer = ['ID', 'id','INSEE_CAN', 'INSEE_ARR', 'SIREN_EPCI', 'source', 'insee_com']\n",
    "\n",
    "# Supprimer les colonnes\n",
    "df_velib = df_velib.drop(colonnes_a_supprimer, axis=1)"
   ]
  },
  {
   "cell_type": "code",
   "execution_count": 164,
   "id": "b0c9a908-cdea-4f7a-ba0a-a497e4dfe1e8",
   "metadata": {},
   "outputs": [
    {
     "data": {
      "text/html": [
       "<div>\n",
       "<style scoped>\n",
       "    .dataframe tbody tr th:only-of-type {\n",
       "        vertical-align: middle;\n",
       "    }\n",
       "\n",
       "    .dataframe tbody tr th {\n",
       "        vertical-align: top;\n",
       "    }\n",
       "\n",
       "    .dataframe thead th {\n",
       "        text-align: right;\n",
       "    }\n",
       "</style>\n",
       "<table border=\"1\" class=\"dataframe\">\n",
       "  <thead>\n",
       "    <tr style=\"text-align: right;\">\n",
       "      <th></th>\n",
       "      <th>NOM</th>\n",
       "      <th>NOM_M</th>\n",
       "      <th>INSEE_COM</th>\n",
       "      <th>STATUT</th>\n",
       "      <th>POPULATION</th>\n",
       "      <th>INSEE_DEP</th>\n",
       "      <th>INSEE_REG</th>\n",
       "      <th>geometry</th>\n",
       "      <th>surface</th>\n",
       "      <th>cap_com</th>\n",
       "      <th>stat_com</th>\n",
       "    </tr>\n",
       "  </thead>\n",
       "  <tbody>\n",
       "    <tr>\n",
       "      <th>0</th>\n",
       "      <td>Paris 3e Arrondissement</td>\n",
       "      <td>PARIS 3E ARRONDISSEMENT</td>\n",
       "      <td>75056</td>\n",
       "      <td>Capitale d'état</td>\n",
       "      <td>34025</td>\n",
       "      <td>75</td>\n",
       "      <td>11</td>\n",
       "      <td>POLYGON ((2.35016 48.86199, 2.35019 48.86203, ...</td>\n",
       "      <td>1.170282e+06</td>\n",
       "      <td>32033.0</td>\n",
       "      <td>998.0</td>\n",
       "    </tr>\n",
       "    <tr>\n",
       "      <th>1</th>\n",
       "      <td>Paris 2e Arrondissement</td>\n",
       "      <td>PARIS 2E ARRONDISSEMENT</td>\n",
       "      <td>75056</td>\n",
       "      <td>Capitale d'état</td>\n",
       "      <td>21595</td>\n",
       "      <td>75</td>\n",
       "      <td>11</td>\n",
       "      <td>POLYGON ((2.34792 48.87069, 2.34827 48.87062, ...</td>\n",
       "      <td>9.923087e+05</td>\n",
       "      <td>32033.0</td>\n",
       "      <td>998.0</td>\n",
       "    </tr>\n",
       "    <tr>\n",
       "      <th>2</th>\n",
       "      <td>Paris 4e Arrondissement</td>\n",
       "      <td>PARIS 4E ARRONDISSEMENT</td>\n",
       "      <td>75056</td>\n",
       "      <td>Capitale d'état</td>\n",
       "      <td>29131</td>\n",
       "      <td>75</td>\n",
       "      <td>11</td>\n",
       "      <td>POLYGON ((2.36849 48.85580, 2.36873 48.85482, ...</td>\n",
       "      <td>1.596122e+06</td>\n",
       "      <td>32033.0</td>\n",
       "      <td>998.0</td>\n",
       "    </tr>\n",
       "    <tr>\n",
       "      <th>3</th>\n",
       "      <td>Paris 5e Arrondissement</td>\n",
       "      <td>PARIS 5E ARRONDISSEMENT</td>\n",
       "      <td>75056</td>\n",
       "      <td>Capitale d'état</td>\n",
       "      <td>58227</td>\n",
       "      <td>75</td>\n",
       "      <td>11</td>\n",
       "      <td>POLYGON ((2.33666 48.83967, 2.33672 48.84011, ...</td>\n",
       "      <td>2.543140e+06</td>\n",
       "      <td>32033.0</td>\n",
       "      <td>998.0</td>\n",
       "    </tr>\n",
       "    <tr>\n",
       "      <th>4</th>\n",
       "      <td>Paris 6e Arrondissement</td>\n",
       "      <td>PARIS 6E ARRONDISSEMENT</td>\n",
       "      <td>75056</td>\n",
       "      <td>Capitale d'état</td>\n",
       "      <td>40303</td>\n",
       "      <td>75</td>\n",
       "      <td>11</td>\n",
       "      <td>POLYGON ((2.33292 48.85934, 2.33339 48.85924, ...</td>\n",
       "      <td>2.152364e+06</td>\n",
       "      <td>32033.0</td>\n",
       "      <td>998.0</td>\n",
       "    </tr>\n",
       "  </tbody>\n",
       "</table>\n",
       "</div>"
      ],
      "text/plain": [
       "                       NOM                    NOM_M INSEE_COM  \\\n",
       "0  Paris 3e Arrondissement  PARIS 3E ARRONDISSEMENT     75056   \n",
       "1  Paris 2e Arrondissement  PARIS 2E ARRONDISSEMENT     75056   \n",
       "2  Paris 4e Arrondissement  PARIS 4E ARRONDISSEMENT     75056   \n",
       "3  Paris 5e Arrondissement  PARIS 5E ARRONDISSEMENT     75056   \n",
       "4  Paris 6e Arrondissement  PARIS 6E ARRONDISSEMENT     75056   \n",
       "\n",
       "            STATUT  POPULATION INSEE_DEP INSEE_REG  \\\n",
       "0  Capitale d'état       34025        75        11   \n",
       "1  Capitale d'état       21595        75        11   \n",
       "2  Capitale d'état       29131        75        11   \n",
       "3  Capitale d'état       58227        75        11   \n",
       "4  Capitale d'état       40303        75        11   \n",
       "\n",
       "                                            geometry       surface  cap_com  \\\n",
       "0  POLYGON ((2.35016 48.86199, 2.35019 48.86203, ...  1.170282e+06  32033.0   \n",
       "1  POLYGON ((2.34792 48.87069, 2.34827 48.87062, ...  9.923087e+05  32033.0   \n",
       "2  POLYGON ((2.36849 48.85580, 2.36873 48.85482, ...  1.596122e+06  32033.0   \n",
       "3  POLYGON ((2.33666 48.83967, 2.33672 48.84011, ...  2.543140e+06  32033.0   \n",
       "4  POLYGON ((2.33292 48.85934, 2.33339 48.85924, ...  2.152364e+06  32033.0   \n",
       "\n",
       "   stat_com  \n",
       "0     998.0  \n",
       "1     998.0  \n",
       "2     998.0  \n",
       "3     998.0  \n",
       "4     998.0  "
      ]
     },
     "execution_count": 164,
     "metadata": {},
     "output_type": "execute_result"
    }
   ],
   "source": [
    "df_velib.head(5)"
   ]
  },
  {
   "cell_type": "markdown",
   "id": "eb18fcba-2a5f-4c7b-978a-fd8111342b7c",
   "metadata": {},
   "source": [
    "## Concaténation des bases d'aménagements cyclables"
   ]
  },
  {
   "cell_type": "code",
   "execution_count": 166,
   "id": "749c63ab-8246-44a6-8cff-b0c121cb7197",
   "metadata": {},
   "outputs": [
    {
     "name": "stdout",
     "output_type": "stream",
     "text": [
      "Index(['NOM', 'NOM_M', 'INSEE_COM', 'STATUT', 'POPULATION', 'INSEE_DEP',\n",
      "       'INSEE_REG', 'geometry', 'surface', 'cap_com', 'stat_com'],\n",
      "      dtype='object')\n"
     ]
    }
   ],
   "source": [
    "print(df_velib.columns)"
   ]
  },
  {
   "cell_type": "code",
   "execution_count": 167,
   "id": "2dc93786-5fd2-42a9-a884-c0e164a8248d",
   "metadata": {},
   "outputs": [
    {
     "name": "stdout",
     "output_type": "stream",
     "text": [
      "Index(['nom_com', 'insee_com', 'longueur', 'longueur_pond_hw',\n",
      "       'longueur_pond_adg', 'difference_hw', 'difference_adg'],\n",
      "      dtype='object')\n"
     ]
    }
   ],
   "source": [
    "print(df_amenagements.columns)"
   ]
  },
  {
   "cell_type": "code",
   "execution_count": 169,
   "id": "0d76f023-2742-48d0-9ae3-8b6d0ad6cd5a",
   "metadata": {},
   "outputs": [],
   "source": [
    "# Colonnes à utiliser pour la fusion\n",
    "colonnes_fusion = ['NOM', 'INSEE_COM']\n",
    "\n",
    "# Fusion des DataFrames\n",
    "df_velo = pd.merge(df_velib, df_amenagements, left_on=colonnes_fusion, right_on=['nom_com', 'insee_com'], how='outer')"
   ]
  },
  {
   "cell_type": "code",
   "execution_count": 170,
   "id": "653a6d88-3402-429d-9b54-eebe1e1a6e27",
   "metadata": {},
   "outputs": [
    {
     "data": {
      "text/html": [
       "<div>\n",
       "<style scoped>\n",
       "    .dataframe tbody tr th:only-of-type {\n",
       "        vertical-align: middle;\n",
       "    }\n",
       "\n",
       "    .dataframe tbody tr th {\n",
       "        vertical-align: top;\n",
       "    }\n",
       "\n",
       "    .dataframe thead th {\n",
       "        text-align: right;\n",
       "    }\n",
       "</style>\n",
       "<table border=\"1\" class=\"dataframe\">\n",
       "  <thead>\n",
       "    <tr style=\"text-align: right;\">\n",
       "      <th></th>\n",
       "      <th>NOM</th>\n",
       "      <th>NOM_M</th>\n",
       "      <th>INSEE_COM</th>\n",
       "      <th>STATUT</th>\n",
       "      <th>POPULATION</th>\n",
       "      <th>INSEE_DEP</th>\n",
       "      <th>INSEE_REG</th>\n",
       "      <th>geometry</th>\n",
       "      <th>surface</th>\n",
       "      <th>cap_com</th>\n",
       "      <th>stat_com</th>\n",
       "      <th>nom_com</th>\n",
       "      <th>insee_com</th>\n",
       "      <th>longueur</th>\n",
       "      <th>longueur_pond_hw</th>\n",
       "      <th>longueur_pond_adg</th>\n",
       "      <th>difference_hw</th>\n",
       "      <th>difference_adg</th>\n",
       "    </tr>\n",
       "  </thead>\n",
       "  <tbody>\n",
       "    <tr>\n",
       "      <th>1255</th>\n",
       "      <td>Mours</td>\n",
       "      <td>MOURS</td>\n",
       "      <td>95436</td>\n",
       "      <td>Commune simple</td>\n",
       "      <td>1629.0</td>\n",
       "      <td>95</td>\n",
       "      <td>11</td>\n",
       "      <td>POLYGON ((2.27931 49.12574, 2.27932 49.12571, ...</td>\n",
       "      <td>2.481698e+06</td>\n",
       "      <td>NaN</td>\n",
       "      <td>NaN</td>\n",
       "      <td>Mours</td>\n",
       "      <td>95436</td>\n",
       "      <td>1054.0</td>\n",
       "      <td>1001.75</td>\n",
       "      <td>1031.50</td>\n",
       "      <td>-52.25</td>\n",
       "      <td>-22.50</td>\n",
       "    </tr>\n",
       "    <tr>\n",
       "      <th>1159</th>\n",
       "      <td>Frouville</td>\n",
       "      <td>FROUVILLE</td>\n",
       "      <td>95258</td>\n",
       "      <td>Commune simple</td>\n",
       "      <td>349.0</td>\n",
       "      <td>95</td>\n",
       "      <td>11</td>\n",
       "      <td>POLYGON ((2.12907 49.15387, 2.12949 49.15392, ...</td>\n",
       "      <td>7.474994e+06</td>\n",
       "      <td>NaN</td>\n",
       "      <td>NaN</td>\n",
       "      <td>Frouville</td>\n",
       "      <td>95258</td>\n",
       "      <td>6012.0</td>\n",
       "      <td>5569.75</td>\n",
       "      <td>6012.00</td>\n",
       "      <td>-442.25</td>\n",
       "      <td>0.00</td>\n",
       "    </tr>\n",
       "    <tr>\n",
       "      <th>623</th>\n",
       "      <td>Boissy-sans-Avoir</td>\n",
       "      <td>BOISSY-SANS-AVOIR</td>\n",
       "      <td>78084</td>\n",
       "      <td>Commune simple</td>\n",
       "      <td>653.0</td>\n",
       "      <td>78</td>\n",
       "      <td>11</td>\n",
       "      <td>POLYGON ((1.79922 48.83137, 1.80008 48.83118, ...</td>\n",
       "      <td>4.074367e+06</td>\n",
       "      <td>NaN</td>\n",
       "      <td>NaN</td>\n",
       "      <td>Boissy-sans-Avoir</td>\n",
       "      <td>78084</td>\n",
       "      <td>810.0</td>\n",
       "      <td>793.75</td>\n",
       "      <td>810.00</td>\n",
       "      <td>-16.25</td>\n",
       "      <td>0.00</td>\n",
       "    </tr>\n",
       "    <tr>\n",
       "      <th>1298</th>\n",
       "      <td>NaN</td>\n",
       "      <td>NaN</td>\n",
       "      <td>NaN</td>\n",
       "      <td>NaN</td>\n",
       "      <td>NaN</td>\n",
       "      <td>NaN</td>\n",
       "      <td>NaN</td>\n",
       "      <td>None</td>\n",
       "      <td>NaN</td>\n",
       "      <td>NaN</td>\n",
       "      <td>NaN</td>\n",
       "      <td>20e Arrondissement</td>\n",
       "      <td>75120</td>\n",
       "      <td>112161.0</td>\n",
       "      <td>104438.00</td>\n",
       "      <td>90906.25</td>\n",
       "      <td>-7723.00</td>\n",
       "      <td>-21254.75</td>\n",
       "    </tr>\n",
       "    <tr>\n",
       "      <th>766</th>\n",
       "      <td>Grosrouvre</td>\n",
       "      <td>GROSROUVRE</td>\n",
       "      <td>78289</td>\n",
       "      <td>Commune simple</td>\n",
       "      <td>900.0</td>\n",
       "      <td>78</td>\n",
       "      <td>11</td>\n",
       "      <td>POLYGON ((1.72683 48.78652, 1.72514 48.78937, ...</td>\n",
       "      <td>1.256439e+07</td>\n",
       "      <td>NaN</td>\n",
       "      <td>NaN</td>\n",
       "      <td>Grosrouvre</td>\n",
       "      <td>78289</td>\n",
       "      <td>487.0</td>\n",
       "      <td>365.25</td>\n",
       "      <td>487.00</td>\n",
       "      <td>-121.75</td>\n",
       "      <td>0.00</td>\n",
       "    </tr>\n",
       "    <tr>\n",
       "      <th>709</th>\n",
       "      <td>Conflans-Sainte-Honorine</td>\n",
       "      <td>CONFLANS-SAINTE-HONORINE</td>\n",
       "      <td>78172</td>\n",
       "      <td>Commune simple</td>\n",
       "      <td>35536.0</td>\n",
       "      <td>78</td>\n",
       "      <td>11</td>\n",
       "      <td>POLYGON ((2.07192 48.99335, 2.07174 48.99364, ...</td>\n",
       "      <td>9.885484e+06</td>\n",
       "      <td>NaN</td>\n",
       "      <td>NaN</td>\n",
       "      <td>Conflans-Sainte-Honorine</td>\n",
       "      <td>78172</td>\n",
       "      <td>33696.0</td>\n",
       "      <td>31761.75</td>\n",
       "      <td>32990.75</td>\n",
       "      <td>-1934.25</td>\n",
       "      <td>-705.25</td>\n",
       "    </tr>\n",
       "    <tr>\n",
       "      <th>234</th>\n",
       "      <td>Fresnes-sur-Marne</td>\n",
       "      <td>FRESNES-SUR-MARNE</td>\n",
       "      <td>77196</td>\n",
       "      <td>Commune simple</td>\n",
       "      <td>971.0</td>\n",
       "      <td>77</td>\n",
       "      <td>11</td>\n",
       "      <td>POLYGON ((2.75078 48.92343, 2.75052 48.92350, ...</td>\n",
       "      <td>7.487555e+06</td>\n",
       "      <td>NaN</td>\n",
       "      <td>NaN</td>\n",
       "      <td>Fresnes-sur-Marne</td>\n",
       "      <td>77196</td>\n",
       "      <td>1678.0</td>\n",
       "      <td>1678.00</td>\n",
       "      <td>2097.50</td>\n",
       "      <td>0.00</td>\n",
       "      <td>419.50</td>\n",
       "    </tr>\n",
       "    <tr>\n",
       "      <th>1280</th>\n",
       "      <td>Villeron</td>\n",
       "      <td>VILLERON</td>\n",
       "      <td>95675</td>\n",
       "      <td>Commune simple</td>\n",
       "      <td>1506.0</td>\n",
       "      <td>95</td>\n",
       "      <td>11</td>\n",
       "      <td>POLYGON ((2.54995 49.05321, 2.54977 49.05322, ...</td>\n",
       "      <td>5.627301e+06</td>\n",
       "      <td>NaN</td>\n",
       "      <td>NaN</td>\n",
       "      <td>Villeron</td>\n",
       "      <td>95675</td>\n",
       "      <td>608.0</td>\n",
       "      <td>505.00</td>\n",
       "      <td>665.00</td>\n",
       "      <td>-103.00</td>\n",
       "      <td>57.00</td>\n",
       "    </tr>\n",
       "    <tr>\n",
       "      <th>595</th>\n",
       "      <td>Bouafle</td>\n",
       "      <td>BOUAFLE</td>\n",
       "      <td>78090</td>\n",
       "      <td>Commune simple</td>\n",
       "      <td>2194.0</td>\n",
       "      <td>78</td>\n",
       "      <td>11</td>\n",
       "      <td>POLYGON ((1.88490 48.94046, 1.88459 48.94164, ...</td>\n",
       "      <td>6.962755e+06</td>\n",
       "      <td>NaN</td>\n",
       "      <td>NaN</td>\n",
       "      <td>Bouafle</td>\n",
       "      <td>78090</td>\n",
       "      <td>14898.0</td>\n",
       "      <td>14709.75</td>\n",
       "      <td>15163.50</td>\n",
       "      <td>-188.25</td>\n",
       "      <td>265.50</td>\n",
       "    </tr>\n",
       "    <tr>\n",
       "      <th>586</th>\n",
       "      <td>Carrières-sous-Poissy</td>\n",
       "      <td>CARRIERES-SOUS-POISSY</td>\n",
       "      <td>78123</td>\n",
       "      <td>Commune simple</td>\n",
       "      <td>16641.0</td>\n",
       "      <td>78</td>\n",
       "      <td>11</td>\n",
       "      <td>POLYGON ((2.04931 48.95873, 2.04944 48.95766, ...</td>\n",
       "      <td>7.275577e+06</td>\n",
       "      <td>NaN</td>\n",
       "      <td>NaN</td>\n",
       "      <td>Carrières-sous-Poissy</td>\n",
       "      <td>78123</td>\n",
       "      <td>28058.0</td>\n",
       "      <td>27376.25</td>\n",
       "      <td>30415.25</td>\n",
       "      <td>-681.75</td>\n",
       "      <td>2357.25</td>\n",
       "    </tr>\n",
       "    <tr>\n",
       "      <th>44</th>\n",
       "      <td>Ocquerre</td>\n",
       "      <td>OCQUERRE</td>\n",
       "      <td>77343</td>\n",
       "      <td>Commune simple</td>\n",
       "      <td>392.0</td>\n",
       "      <td>77</td>\n",
       "      <td>11</td>\n",
       "      <td>POLYGON ((3.06313 49.01500, 3.06158 49.01668, ...</td>\n",
       "      <td>1.016727e+07</td>\n",
       "      <td>NaN</td>\n",
       "      <td>NaN</td>\n",
       "      <td>NaN</td>\n",
       "      <td>NaN</td>\n",
       "      <td>NaN</td>\n",
       "      <td>NaN</td>\n",
       "      <td>NaN</td>\n",
       "      <td>NaN</td>\n",
       "      <td>NaN</td>\n",
       "    </tr>\n",
       "    <tr>\n",
       "      <th>316</th>\n",
       "      <td>Rubelles</td>\n",
       "      <td>RUBELLES</td>\n",
       "      <td>77394</td>\n",
       "      <td>Commune simple</td>\n",
       "      <td>2831.0</td>\n",
       "      <td>77</td>\n",
       "      <td>11</td>\n",
       "      <td>POLYGON ((2.66697 48.55878, 2.66698 48.55878, ...</td>\n",
       "      <td>3.915460e+06</td>\n",
       "      <td>NaN</td>\n",
       "      <td>NaN</td>\n",
       "      <td>Rubelles</td>\n",
       "      <td>77394</td>\n",
       "      <td>2566.0</td>\n",
       "      <td>2775.50</td>\n",
       "      <td>2775.50</td>\n",
       "      <td>209.50</td>\n",
       "      <td>209.50</td>\n",
       "    </tr>\n",
       "    <tr>\n",
       "      <th>463</th>\n",
       "      <td>Rozay-en-Brie</td>\n",
       "      <td>ROZAY-EN-BRIE</td>\n",
       "      <td>77393</td>\n",
       "      <td>Commune simple</td>\n",
       "      <td>2808.0</td>\n",
       "      <td>77</td>\n",
       "      <td>11</td>\n",
       "      <td>POLYGON ((2.97375 48.67148, 2.97365 48.67149, ...</td>\n",
       "      <td>3.160525e+06</td>\n",
       "      <td>NaN</td>\n",
       "      <td>NaN</td>\n",
       "      <td>Rozay-en-Brie</td>\n",
       "      <td>77393</td>\n",
       "      <td>1231.0</td>\n",
       "      <td>1297.25</td>\n",
       "      <td>1297.25</td>\n",
       "      <td>66.25</td>\n",
       "      <td>66.25</td>\n",
       "    </tr>\n",
       "    <tr>\n",
       "      <th>401</th>\n",
       "      <td>Marchémoret</td>\n",
       "      <td>MARCHEMORET</td>\n",
       "      <td>77273</td>\n",
       "      <td>Commune simple</td>\n",
       "      <td>583.0</td>\n",
       "      <td>77</td>\n",
       "      <td>11</td>\n",
       "      <td>POLYGON ((2.71912 49.04778, 2.71911 49.04779, ...</td>\n",
       "      <td>7.034859e+06</td>\n",
       "      <td>NaN</td>\n",
       "      <td>NaN</td>\n",
       "      <td>NaN</td>\n",
       "      <td>NaN</td>\n",
       "      <td>NaN</td>\n",
       "      <td>NaN</td>\n",
       "      <td>NaN</td>\n",
       "      <td>NaN</td>\n",
       "      <td>NaN</td>\n",
       "    </tr>\n",
       "    <tr>\n",
       "      <th>123</th>\n",
       "      <td>Bouleurs</td>\n",
       "      <td>BOULEURS</td>\n",
       "      <td>77047</td>\n",
       "      <td>Commune simple</td>\n",
       "      <td>1680.0</td>\n",
       "      <td>77</td>\n",
       "      <td>11</td>\n",
       "      <td>POLYGON ((2.88169 48.86926, 2.88114 48.86973, ...</td>\n",
       "      <td>8.202847e+06</td>\n",
       "      <td>NaN</td>\n",
       "      <td>NaN</td>\n",
       "      <td>NaN</td>\n",
       "      <td>NaN</td>\n",
       "      <td>NaN</td>\n",
       "      <td>NaN</td>\n",
       "      <td>NaN</td>\n",
       "      <td>NaN</td>\n",
       "      <td>NaN</td>\n",
       "    </tr>\n",
       "  </tbody>\n",
       "</table>\n",
       "</div>"
      ],
      "text/plain": [
       "                           NOM                     NOM_M INSEE_COM  \\\n",
       "1255                     Mours                     MOURS     95436   \n",
       "1159                 Frouville                 FROUVILLE     95258   \n",
       "623          Boissy-sans-Avoir         BOISSY-SANS-AVOIR     78084   \n",
       "1298                       NaN                       NaN       NaN   \n",
       "766                 Grosrouvre                GROSROUVRE     78289   \n",
       "709   Conflans-Sainte-Honorine  CONFLANS-SAINTE-HONORINE     78172   \n",
       "234          Fresnes-sur-Marne         FRESNES-SUR-MARNE     77196   \n",
       "1280                  Villeron                  VILLERON     95675   \n",
       "595                    Bouafle                   BOUAFLE     78090   \n",
       "586      Carrières-sous-Poissy     CARRIERES-SOUS-POISSY     78123   \n",
       "44                    Ocquerre                  OCQUERRE     77343   \n",
       "316                   Rubelles                  RUBELLES     77394   \n",
       "463              Rozay-en-Brie             ROZAY-EN-BRIE     77393   \n",
       "401                Marchémoret               MARCHEMORET     77273   \n",
       "123                   Bouleurs                  BOULEURS     77047   \n",
       "\n",
       "              STATUT  POPULATION INSEE_DEP INSEE_REG  \\\n",
       "1255  Commune simple      1629.0        95        11   \n",
       "1159  Commune simple       349.0        95        11   \n",
       "623   Commune simple       653.0        78        11   \n",
       "1298             NaN         NaN       NaN       NaN   \n",
       "766   Commune simple       900.0        78        11   \n",
       "709   Commune simple     35536.0        78        11   \n",
       "234   Commune simple       971.0        77        11   \n",
       "1280  Commune simple      1506.0        95        11   \n",
       "595   Commune simple      2194.0        78        11   \n",
       "586   Commune simple     16641.0        78        11   \n",
       "44    Commune simple       392.0        77        11   \n",
       "316   Commune simple      2831.0        77        11   \n",
       "463   Commune simple      2808.0        77        11   \n",
       "401   Commune simple       583.0        77        11   \n",
       "123   Commune simple      1680.0        77        11   \n",
       "\n",
       "                                               geometry       surface  \\\n",
       "1255  POLYGON ((2.27931 49.12574, 2.27932 49.12571, ...  2.481698e+06   \n",
       "1159  POLYGON ((2.12907 49.15387, 2.12949 49.15392, ...  7.474994e+06   \n",
       "623   POLYGON ((1.79922 48.83137, 1.80008 48.83118, ...  4.074367e+06   \n",
       "1298                                               None           NaN   \n",
       "766   POLYGON ((1.72683 48.78652, 1.72514 48.78937, ...  1.256439e+07   \n",
       "709   POLYGON ((2.07192 48.99335, 2.07174 48.99364, ...  9.885484e+06   \n",
       "234   POLYGON ((2.75078 48.92343, 2.75052 48.92350, ...  7.487555e+06   \n",
       "1280  POLYGON ((2.54995 49.05321, 2.54977 49.05322, ...  5.627301e+06   \n",
       "595   POLYGON ((1.88490 48.94046, 1.88459 48.94164, ...  6.962755e+06   \n",
       "586   POLYGON ((2.04931 48.95873, 2.04944 48.95766, ...  7.275577e+06   \n",
       "44    POLYGON ((3.06313 49.01500, 3.06158 49.01668, ...  1.016727e+07   \n",
       "316   POLYGON ((2.66697 48.55878, 2.66698 48.55878, ...  3.915460e+06   \n",
       "463   POLYGON ((2.97375 48.67148, 2.97365 48.67149, ...  3.160525e+06   \n",
       "401   POLYGON ((2.71912 49.04778, 2.71911 49.04779, ...  7.034859e+06   \n",
       "123   POLYGON ((2.88169 48.86926, 2.88114 48.86973, ...  8.202847e+06   \n",
       "\n",
       "      cap_com  stat_com                   nom_com insee_com  longueur  \\\n",
       "1255      NaN       NaN                     Mours     95436    1054.0   \n",
       "1159      NaN       NaN                 Frouville     95258    6012.0   \n",
       "623       NaN       NaN         Boissy-sans-Avoir     78084     810.0   \n",
       "1298      NaN       NaN        20e Arrondissement     75120  112161.0   \n",
       "766       NaN       NaN                Grosrouvre     78289     487.0   \n",
       "709       NaN       NaN  Conflans-Sainte-Honorine     78172   33696.0   \n",
       "234       NaN       NaN         Fresnes-sur-Marne     77196    1678.0   \n",
       "1280      NaN       NaN                  Villeron     95675     608.0   \n",
       "595       NaN       NaN                   Bouafle     78090   14898.0   \n",
       "586       NaN       NaN     Carrières-sous-Poissy     78123   28058.0   \n",
       "44        NaN       NaN                       NaN       NaN       NaN   \n",
       "316       NaN       NaN                  Rubelles     77394    2566.0   \n",
       "463       NaN       NaN             Rozay-en-Brie     77393    1231.0   \n",
       "401       NaN       NaN                       NaN       NaN       NaN   \n",
       "123       NaN       NaN                       NaN       NaN       NaN   \n",
       "\n",
       "      longueur_pond_hw  longueur_pond_adg  difference_hw  difference_adg  \n",
       "1255           1001.75            1031.50         -52.25          -22.50  \n",
       "1159           5569.75            6012.00        -442.25            0.00  \n",
       "623             793.75             810.00         -16.25            0.00  \n",
       "1298         104438.00           90906.25       -7723.00       -21254.75  \n",
       "766             365.25             487.00        -121.75            0.00  \n",
       "709           31761.75           32990.75       -1934.25         -705.25  \n",
       "234            1678.00            2097.50           0.00          419.50  \n",
       "1280            505.00             665.00        -103.00           57.00  \n",
       "595           14709.75           15163.50        -188.25          265.50  \n",
       "586           27376.25           30415.25        -681.75         2357.25  \n",
       "44                 NaN                NaN            NaN             NaN  \n",
       "316            2775.50            2775.50         209.50          209.50  \n",
       "463            1297.25            1297.25          66.25           66.25  \n",
       "401                NaN                NaN            NaN             NaN  \n",
       "123                NaN                NaN            NaN             NaN  "
      ]
     },
     "execution_count": 170,
     "metadata": {},
     "output_type": "execute_result"
    }
   ],
   "source": [
    "df_velo.sample(15)"
   ]
  },
  {
   "cell_type": "code",
   "execution_count": 171,
   "id": "78976586-f775-49ae-b1ab-8aa89ed84769",
   "metadata": {},
   "outputs": [],
   "source": [
    "# On supprime les communes pour lesquelles toutes les variables d'intérêt sont manquantes\n",
    "\n",
    "# Liste des variables d'intérêt\n",
    "variables_interet = ['longueur', 'longueur_pond_hw', 'longueur_pond_adg', 'difference_hw', 'difference_adg', 'cap_com', 'stat_com']\n",
    "\n",
    "# Supprimer les lignes où toutes les variables d'intérêt sont manquantes\n",
    "df_velo = df_velo.dropna(subset=variables_interet, how='all')\n"
   ]
  },
  {
   "cell_type": "code",
   "execution_count": 174,
   "id": "9e67f8cb-a172-4bb7-a110-3acc39c7217f",
   "metadata": {},
   "outputs": [
    {
     "name": "stdout",
     "output_type": "stream",
     "text": [
      "(1026, 18)\n"
     ]
    }
   ],
   "source": [
    "print(df_velo.shape)"
   ]
  },
  {
   "cell_type": "markdown",
   "id": "05bcd72c-94c5-43b1-a6dd-b32af7afa6dd",
   "metadata": {},
   "source": [
    "Point d'étape : nous enregistrons cette base intermédiaire des vélos pour ne pas avoir à refaire toutes les étapes toujours."
   ]
  },
  {
   "cell_type": "code",
   "execution_count": null,
   "id": "a873b7a0-c9ff-4cbe-8916-90a1c5fa36bc",
   "metadata": {},
   "outputs": [],
   "source": [
    "# Sauvegarder le DataFrame au format GeoJSON\n",
    "df_velo.to_file('df_velo.geojson', driver='GeoJSON')\n"
   ]
  },
  {
   "cell_type": "markdown",
   "id": "1e2843f2-8e0f-4689-8dfa-8335e50f1b2a",
   "metadata": {},
   "source": [
    "## Données socio-démographiques sur l'Ile de France"
   ]
  },
  {
   "cell_type": "code",
   "execution_count": null,
   "id": "3a89ac86-a3e6-45cd-99cc-aba24e1f6b6f",
   "metadata": {},
   "outputs": [],
   "source": []
  },
  {
   "cell_type": "markdown",
   "id": "e7b665c1-dade-4516-9bca-6a74f9ccdd9c",
   "metadata": {},
   "source": [
    "## Données complémentaires : accidents de la route, transports écologiques alternatifs (réseau ferré, bus)"
   ]
  },
  {
   "cell_type": "code",
   "execution_count": null,
   "id": "cc9e5e36-4bff-4982-a8f8-402de53a77d9",
   "metadata": {},
   "outputs": [],
   "source": []
  },
  {
   "cell_type": "markdown",
   "id": "776adae0-cd20-4e78-a449-4208c8a4f535",
   "metadata": {},
   "source": [
    "## Base finale avec la longueur, les indicateurs géographiques, et les variables socio-démographiques"
   ]
  },
  {
   "cell_type": "code",
   "execution_count": null,
   "id": "a460309c-a99e-413f-ad69-4eabb7558ebd",
   "metadata": {},
   "outputs": [],
   "source": [
    "base = communes[['insee_com', 'POPULATION', 'surface', 'geometry']].merge(y, how='outer', on='insee_com')"
   ]
  },
  {
   "cell_type": "code",
   "execution_count": null,
   "id": "ef37b08d-399b-4db2-a451-a07bc62b8c29",
   "metadata": {},
   "outputs": [],
   "source": [
    "base.groupby('insee_com').sum(numeric_only = True).sort_values('longueur', ascending = False)"
   ]
  },
  {
   "cell_type": "code",
   "execution_count": null,
   "id": "d83a9ca2-4140-41f5-9d2e-8675f4913676",
   "metadata": {},
   "outputs": [],
   "source": [
    "base = gpd.GeoDataFrame(base, geometry='geometry')"
   ]
  },
  {
   "cell_type": "markdown",
   "id": "52581fe8-fdd5-4a30-8792-4caa6f97ac84",
   "metadata": {},
   "source": [
    "# Analyse descriptive et spatiale"
   ]
  },
  {
   "cell_type": "markdown",
   "id": "eea05933-f6a2-4132-870a-cf78cf79a278",
   "metadata": {},
   "source": [
    "## Répartition spatiale des aménagements cyclables : piste cyclable et station vélib"
   ]
  },
  {
   "cell_type": "code",
   "execution_count": null,
   "id": "a3dd38b8-7853-466d-8cfe-ec865da36011",
   "metadata": {},
   "outputs": [],
   "source": [
    "# Répartition des stations vélib\n",
    "\n",
    "fig,ax = plt.subplots(figsize=(10, 10))\n",
    "velib.plot(ax = ax, color = 'green')\n",
    "com.plot(ax = ax, zorder=1, edgecolor = \"black\", facecolor=\"none\")\n",
    "ax.set_axis_off()"
   ]
  },
  {
   "cell_type": "code",
   "execution_count": null,
   "id": "8fc9f443-c419-480b-8afc-d73e1621e9c7",
   "metadata": {},
   "outputs": [],
   "source": [
    "# Emplacement des pistes cycables (point)\n",
    "\n",
    "fig,ax = plt.subplots(figsize=(10, 10))\n",
    "a_velo.plot(ax = ax, color = 'red', alpha = 0.4, zorder=2)\n",
    "communes.plot(ax = ax, zorder=1, edgecolor = \"black\", facecolor=\"none\")\n",
    "ax.set_axis_off()"
   ]
  },
  {
   "cell_type": "code",
   "execution_count": null,
   "id": "de12d67c-a44d-4c4e-9d40-e8193b5503b8",
   "metadata": {},
   "outputs": [],
   "source": [
    "# Répartition des pistes cyclabes en île de France\n",
    "\n",
    "fig, ax = plt.subplots(figsize=(10, 10))\n",
    "dissolved = base.dissolve(by='insee_com', aggfunc='sum').reset_index()\n",
    "dissolved.plot(ax=ax, column=\"longueur\", legend=True)\n",
    "ax.set_axis_off()\n",
    "legend = ax.get_legend()\n",
    "plt.show()"
   ]
  },
  {
   "cell_type": "markdown",
   "id": "ec85ae56-220f-45cb-a9f9-3e548c3aacab",
   "metadata": {},
   "source": [
    "### Statistiques descriptives sur les pistes cyclables"
   ]
  },
  {
   "cell_type": "code",
   "execution_count": null,
   "id": "b49c4627-2c5e-4ad5-9cdc-970a18418c62",
   "metadata": {},
   "outputs": [],
   "source": [
    "df_amenagements.describe()"
   ]
  },
  {
   "cell_type": "code",
   "execution_count": null,
   "id": "dce4c82d-8f56-4d43-88a7-8457bf868f0e",
   "metadata": {},
   "outputs": [],
   "source": [
    "sns.scatterplot(df_amenagements['longueur'])\n",
    "plt.title('Distribution des pistes cyclables dans les communes')"
   ]
  },
  {
   "cell_type": "code",
   "execution_count": null,
   "id": "8a465509-c9f9-4e2c-9647-24949d504dce",
   "metadata": {},
   "outputs": [],
   "source": []
  }
 ],
 "metadata": {
  "kernelspec": {
   "display_name": "Python 3 (ipykernel)",
   "language": "python",
   "name": "python3"
  },
  "language_info": {
   "codemirror_mode": {
    "name": "ipython",
    "version": 3
   },
   "file_extension": ".py",
   "mimetype": "text/x-python",
   "name": "python",
   "nbconvert_exporter": "python",
   "pygments_lexer": "ipython3",
   "version": "3.10.12"
  }
 },
 "nbformat": 4,
 "nbformat_minor": 5
}
