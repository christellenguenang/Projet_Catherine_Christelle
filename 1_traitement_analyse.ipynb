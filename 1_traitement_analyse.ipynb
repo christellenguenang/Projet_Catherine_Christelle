{
 "cells": [
  {
   "cell_type": "markdown",
   "id": "8bf964b0-43a9-4bc0-98b1-6044506719f1",
   "metadata": {},
   "source": [
    "# Récupération et traitement des données"
   ]
  },
  {
   "cell_type": "code",
   "execution_count": 1,
   "id": "f95ff90b-914c-4361-a2de-dde6ce37d865",
   "metadata": {},
   "outputs": [
    {
     "name": "stderr",
     "output_type": "stream",
     "text": [
      "/home/cathu/.local/lib/python3.10/site-packages/matplotlib/projections/__init__.py:63: UserWarning: Unable to import Axes3D. This may be due to multiple versions of Matplotlib being installed (e.g. as a system package and as a pip package). As a result, the 3D projection is not available.\n",
      "  warnings.warn(\"Unable to import Axes3D. This may be due to multiple versions of \"\n",
      "/usr/lib/python3/dist-packages/scipy/__init__.py:146: UserWarning: A NumPy version >=1.17.3 and <1.25.0 is required for this version of SciPy (detected version 1.26.2\n",
      "  warnings.warn(f\"A NumPy version >={np_minversion} and <{np_maxversion}\"\n"
     ]
    }
   ],
   "source": [
    "import pandas as pd\n",
    "import seaborn as sns\n",
    "import numpy as np\n",
    "import matplotlib.pyplot as plt\n",
    "import geopandas as gpd\n",
    "import contextily as ctx\n",
    "import pynsee as yns\n",
    "import requests\n",
    "from cartiflette.s3 import download_vectorfile_url_all"
   ]
  },
  {
   "cell_type": "code",
   "execution_count": 2,
   "id": "2dc72e9f-1aa1-42e0-8d72-1029337c1ab1",
   "metadata": {},
   "outputs": [],
   "source": [
    "from pathlib import Path"
   ]
  },
  {
   "cell_type": "code",
   "execution_count": 3,
   "id": "3d222b10-4b92-4f47-b9bc-dbeb0f590521",
   "metadata": {},
   "outputs": [
    {
     "data": {
      "text/plain": [
       "PosixPath('/home/cathu/Documents/ENSAE/Projet_Catherine_Christelle')"
      ]
     },
     "execution_count": 3,
     "metadata": {},
     "output_type": "execute_result"
    }
   ],
   "source": [
    "Path.cwd()"
   ]
  },
  {
   "cell_type": "markdown",
   "id": "b4af1cba-c2ec-4e6e-88f6-63fd594aefac",
   "metadata": {},
   "source": [
    "## Les aménagements cyclables en Ile de France"
   ]
  },
  {
   "cell_type": "code",
   "execution_count": 4,
   "id": "4908c666-5241-4c8a-978e-35dba98de9e3",
   "metadata": {},
   "outputs": [],
   "source": [
    "a_velo= gpd.read_file('amenagements-velo-en-ile-de-france.geojson')"
   ]
  },
  {
   "cell_type": "code",
   "execution_count": 5,
   "id": "b385b74f-dbc1-4ca3-9c8b-ab0eb859c3c9",
   "metadata": {},
   "outputs": [
    {
     "data": {
      "text/plain": [
       "112217"
      ]
     },
     "execution_count": 5,
     "metadata": {},
     "output_type": "execute_result"
    }
   ],
   "source": [
    "# Nombre d'entrées\n",
    "a_velo.shape[0]"
   ]
  },
  {
   "cell_type": "code",
   "execution_count": 6,
   "id": "c372bc2a-af9b-4bad-a55a-35dfdc0f4f8f",
   "metadata": {},
   "outputs": [
    {
     "data": {
      "text/plain": [
       "<Geographic 2D CRS: EPSG:4326>\n",
       "Name: WGS 84\n",
       "Axis Info [ellipsoidal]:\n",
       "- Lat[north]: Geodetic latitude (degree)\n",
       "- Lon[east]: Geodetic longitude (degree)\n",
       "Area of Use:\n",
       "- name: World.\n",
       "- bounds: (-180.0, -90.0, 180.0, 90.0)\n",
       "Datum: World Geodetic System 1984 ensemble\n",
       "- Ellipsoid: WGS 84\n",
       "- Prime Meridian: Greenwich"
      ]
     },
     "execution_count": 6,
     "metadata": {},
     "output_type": "execute_result"
    }
   ],
   "source": [
    "a_velo.crs"
   ]
  },
  {
   "cell_type": "markdown",
   "id": "3e64b3e3-fb3e-4425-a6da-992fd6541a20",
   "metadata": {},
   "source": [
    "Un préalable au calcul des surfaces est le choix du système de projection adéquat. Dans notre cas , il s'agit de convertir les données au système de projection Lambert 93 qui est le plus approprié."
   ]
  },
  {
   "cell_type": "code",
   "execution_count": 7,
   "id": "493e84dc-7add-4efa-9e93-f58b9db017be",
   "metadata": {},
   "outputs": [
    {
     "data": {
      "text/plain": [
       "count    112217.000000\n",
       "mean        126.315959\n",
       "std         174.519817\n",
       "min           0.000000\n",
       "25%          24.000000\n",
       "50%          70.000000\n",
       "75%         161.000000\n",
       "max        3984.000000\n",
       "Name: longueur, dtype: float64"
      ]
     },
     "execution_count": 7,
     "metadata": {},
     "output_type": "execute_result"
    }
   ],
   "source": [
    "a_velo['longueur'].describe()"
   ]
  },
  {
   "cell_type": "code",
   "execution_count": 8,
   "id": "df8c8ffb-1933-4927-b51e-6ad67422bab1",
   "metadata": {},
   "outputs": [
    {
     "data": {
      "text/html": [
       "<div>\n",
       "<style scoped>\n",
       "    .dataframe tbody tr th:only-of-type {\n",
       "        vertical-align: middle;\n",
       "    }\n",
       "\n",
       "    .dataframe tbody tr th {\n",
       "        vertical-align: top;\n",
       "    }\n",
       "\n",
       "    .dataframe thead th {\n",
       "        text-align: right;\n",
       "    }\n",
       "</style>\n",
       "<table border=\"1\" class=\"dataframe\">\n",
       "  <thead>\n",
       "    <tr style=\"text-align: right;\">\n",
       "      <th></th>\n",
       "      <th>osm_id</th>\n",
       "      <th>nom_com</th>\n",
       "      <th>sens_voit</th>\n",
       "      <th>ag</th>\n",
       "      <th>panneaux</th>\n",
       "      <th>moyenn_ech</th>\n",
       "      <th>revetement</th>\n",
       "      <th>highway</th>\n",
       "      <th>insee_com</th>\n",
       "      <th>nom_voie</th>\n",
       "      <th>longueur</th>\n",
       "      <th>petite_ech</th>\n",
       "      <th>nv</th>\n",
       "      <th>ad</th>\n",
       "      <th>geometry</th>\n",
       "    </tr>\n",
       "  </thead>\n",
       "  <tbody>\n",
       "    <tr>\n",
       "      <th>95503</th>\n",
       "      <td>71122991.0</td>\n",
       "      <td>1er Arrondissement</td>\n",
       "      <td>DOUBLE</td>\n",
       "      <td>None</td>\n",
       "      <td>None</td>\n",
       "      <td>24</td>\n",
       "      <td>asphalt</td>\n",
       "      <td>tertiary</td>\n",
       "      <td>75101</td>\n",
       "      <td>Rue Étienne Marcel</td>\n",
       "      <td>92</td>\n",
       "      <td>2</td>\n",
       "      <td>limite 30</td>\n",
       "      <td>voie bus uni</td>\n",
       "      <td>LINESTRING (2.34511 48.86480, 2.34530 48.86476...</td>\n",
       "    </tr>\n",
       "  </tbody>\n",
       "</table>\n",
       "</div>"
      ],
      "text/plain": [
       "           osm_id             nom_com sens_voit    ag panneaux moyenn_ech  \\\n",
       "95503  71122991.0  1er Arrondissement    DOUBLE  None     None         24   \n",
       "\n",
       "      revetement   highway insee_com            nom_voie  longueur petite_ech  \\\n",
       "95503    asphalt  tertiary     75101  Rue Étienne Marcel        92          2   \n",
       "\n",
       "              nv            ad  \\\n",
       "95503  limite 30  voie bus uni   \n",
       "\n",
       "                                                geometry  \n",
       "95503  LINESTRING (2.34511 48.86480, 2.34530 48.86476...  "
      ]
     },
     "execution_count": 8,
     "metadata": {},
     "output_type": "execute_result"
    }
   ],
   "source": [
    "a_velo.sample(n=1)"
   ]
  },
  {
   "cell_type": "markdown",
   "id": "7410d9dc-0385-4b87-8d44-0e953c284b56",
   "metadata": {},
   "source": [
    "Pour le moment, nous travaillons sans les données de géolocalisation qui ne sont pas nécessaires aux calculs. Nous créons pour cela une nouvelle dataframe"
   ]
  },
  {
   "cell_type": "code",
   "execution_count": 9,
   "id": "a9b63cd7-a94e-4074-bb76-aba70a1d05fb",
   "metadata": {},
   "outputs": [],
   "source": [
    "col_to_keep = [\"nom_com\", \"sens_voit\", \"ag\", \"panneaux\", \"revetement\", \"highway\", \"insee_com\", \"longueur\", \"nv\", \"ad\"] "
   ]
  },
  {
   "cell_type": "code",
   "execution_count": 10,
   "id": "006d4d0c-352a-4eb7-b372-9d95f319e85c",
   "metadata": {},
   "outputs": [
    {
     "name": "stdout",
     "output_type": "stream",
     "text": [
      "         osm_id            nom_com sens_voit                              ag  \\\n",
      "0  4.014620e+08            Chelles    DOUBLE                            None   \n",
      "1  4.048666e+08   La Queue-en-Brie        NC  chemin service site propre uni   \n",
      "2  1.154304e+09            Lésigny        NC                  voie verte uni   \n",
      "3  3.300503e+08  Pontault-Combault    UNIQUE                       DSC bande   \n",
      "4  1.104033e+09   Champs-sur-Marne    UNIQUE                            None   \n",
      "\n",
      "  panneaux moyenn_ech revetement      highway insee_com  \\\n",
      "0     None         32       None      service     77108   \n",
      "1     None         11       None        track     94060   \n",
      "2     None         11    asphalt         path     77249   \n",
      "3     None         22       None  residential     77373   \n",
      "4     None         22    asphalt  residential     77083   \n",
      "\n",
      "                     nom_voie  longueur petite_ech           nv  \\\n",
      "0  Rue de la Mare Longue Noue        24          3    limite 30   \n",
      "1             Allée Jacquette        39          1  hors voirie   \n",
      "2                        None         5          1  hors voirie   \n",
      "3          Rue de la Chaussée        85          2         None   \n",
      "4         Place Pablo Picasso         8          2         None   \n",
      "\n",
      "                               ad  \\\n",
      "0                            None   \n",
      "1  chemin service site propre uni   \n",
      "2                  voie verte uni   \n",
      "3                            None   \n",
      "4                       bande uni   \n",
      "\n",
      "                                            geometry  \n",
      "0  LINESTRING (2.60486 48.89065, 2.60460 48.89061...  \n",
      "1    LINESTRING (2.60049 48.77164, 2.60036 48.77198)  \n",
      "2    LINESTRING (2.60844 48.74126, 2.60848 48.74130)  \n",
      "3  LINESTRING (2.60422 48.78336, 2.60419 48.78331...  \n",
      "4    LINESTRING (2.60568 48.84171, 2.60557 48.84170)  \n"
     ]
    }
   ],
   "source": [
    "# df_a_velo = a_velo[col_to_keep].copy()\n",
    "\n",
    "df_a_velo = a_velo\n",
    "\n",
    "print(df_a_velo.head())"
   ]
  },
  {
   "cell_type": "markdown",
   "id": "4ba613ff-36c3-47e4-aa16-ce1011d318d1",
   "metadata": {},
   "source": [
    "### Création de variables d'étude pour les aménagements cyclables"
   ]
  },
  {
   "cell_type": "markdown",
   "id": "85088bbf-6925-47ae-b388-4e0c8f09836b",
   "metadata": {},
   "source": [
    "Nous souhaitons étudier la répartition géograhique des aménagements cyclables et particulièrement leur densité en mètre par habitants. Toutefois, l'ensemble des pistes cyclables n'est pas de la même \"qualité\" : séparée de la route ou non, sens inverse de la circulation, type de revêtement, etc. Pour prendre en compte la qualité des aménagements cyclables, nous pouvons donner des coefficients aux mètres de pistes selon ces différents critères lors du calcul du nombre total de mètres aménagés par commune. Nous allons proposer plusieurs méthodes de calcul selon ces critères."
   ]
  },
  {
   "cell_type": "code",
   "execution_count": 11,
   "id": "41410030-c28d-4471-9f72-39ef5d8294db",
   "metadata": {},
   "outputs": [
    {
     "name": "stdout",
     "output_type": "stream",
     "text": [
      "['DOUBLE' 'NC' 'UNIQUE']\n",
      "[None 'chemin service site propre uni' 'voie verte uni' 'DSC bande'\n",
      " 'autre chemin velo uni' 'piste uni' 'DSC' 'piste trottoir uni'\n",
      " 'bande uni' 'cheminement trottoir uni' 'goulotte' 'chemin dedie uni'\n",
      " 'chaucidou' 'cheminement uni' 'DSC piste' 'voie bus uni' 'piste bi'\n",
      " 'bande bi' 'shoulder uni']\n",
      "[None 'asphalt' 'compacted' 'concrete' 'unpaved' 'wood' 'paving_stones'\n",
      " 'ground' 'sett' 'gravel' 'sand' 'paved' 'fine_gravel' 'dirt'\n",
      " 'cobblestone' 'concrete:plates' 'concrete:lanes' 'grass'\n",
      " 'cobblestone:flattened' 'metal' 'pebblestone' 'unhewn_cobblestone'\n",
      " 'bricks' 'tartan' 'pavés' 'vegecol' 'artificial_turf' 'grass_paver'\n",
      " 'earth' 'bitume' 'à_définir' 'rock']\n",
      "['service' 'track' 'path' 'residential' 'footway' 'cycleway' 'secondary'\n",
      " 'tertiary' 'living_street' 'unclassified' 'pedestrian' 'steps' 'primary'\n",
      " 'primary_link' 'secondary_link' 'tertiary_link' 'trunk_link'\n",
      " 'motorway_link']\n",
      "['limite 30' 'hors voirie' None 'z20' 'rue pietonne' 'z30' 'escalier velo'\n",
      " 'velorue' 'velo interdit']\n",
      "[None 'chemin service site propre uni' 'voie verte uni' 'bande uni'\n",
      " 'autre chemin velo uni' 'piste uni' 'piste trottoir uni'\n",
      " 'cheminement trottoir uni' 'goulotte' 'chemin dedie uni' 'chaucidou'\n",
      " 'cheminement uni' 'voie bus uni' 'piste bi' 'bande bi' 'DSC' 'DSC bande'\n",
      " 'shoulder uni']\n"
     ]
    }
   ],
   "source": [
    "print(df_a_velo[\"sens_voit\"].unique())\n",
    "print(df_a_velo[\"ag\"].unique())\n",
    "print(df_a_velo[\"revetement\"].unique())\n",
    "print(df_a_velo[\"highway\"].unique())\n",
    "print(df_a_velo[\"nv\"].unique())\n",
    "print(df_a_velo[\"ad\"].unique())"
   ]
  },
  {
   "cell_type": "code",
   "execution_count": 12,
   "id": "5e159e6b-11bd-40f8-87f0-e74d47bf2e37",
   "metadata": {},
   "outputs": [
    {
     "data": {
      "text/plain": [
       "0"
      ]
     },
     "execution_count": 12,
     "metadata": {},
     "output_type": "execute_result"
    }
   ],
   "source": [
    "df_a_velo['sens_voit'].isna().sum()"
   ]
  },
  {
   "cell_type": "code",
   "execution_count": 13,
   "id": "7d772fa6-c217-4ca1-8192-245825a0203d",
   "metadata": {},
   "outputs": [
    {
     "data": {
      "text/plain": [
       "68312"
      ]
     },
     "execution_count": 13,
     "metadata": {},
     "output_type": "execute_result"
    }
   ],
   "source": [
    "df_a_velo['ag'].isna().sum()"
   ]
  },
  {
   "cell_type": "code",
   "execution_count": 14,
   "id": "2f17de1a-d26b-470d-be7d-4ff09eae8705",
   "metadata": {},
   "outputs": [
    {
     "data": {
      "text/plain": [
       "38711"
      ]
     },
     "execution_count": 14,
     "metadata": {},
     "output_type": "execute_result"
    }
   ],
   "source": [
    "df_a_velo['revetement'].isna().sum()"
   ]
  },
  {
   "cell_type": "code",
   "execution_count": 15,
   "id": "613705ca-1a9a-4298-906c-51f71bd4c1d8",
   "metadata": {},
   "outputs": [
    {
     "data": {
      "text/plain": [
       "0"
      ]
     },
     "execution_count": 15,
     "metadata": {},
     "output_type": "execute_result"
    }
   ],
   "source": [
    "df_a_velo['highway'].isna().sum()"
   ]
  },
  {
   "cell_type": "code",
   "execution_count": 16,
   "id": "32876a74-5705-4cc5-a6de-554050ce794e",
   "metadata": {},
   "outputs": [
    {
     "data": {
      "text/plain": [
       "9548"
      ]
     },
     "execution_count": 16,
     "metadata": {},
     "output_type": "execute_result"
    }
   ],
   "source": [
    "df_a_velo['nv'].isna().sum()"
   ]
  },
  {
   "cell_type": "code",
   "execution_count": 17,
   "id": "c70a222a-16e6-4954-bf32-5bce8ada24c6",
   "metadata": {},
   "outputs": [
    {
     "data": {
      "text/plain": [
       "68522"
      ]
     },
     "execution_count": 17,
     "metadata": {},
     "output_type": "execute_result"
    }
   ],
   "source": [
    "df_a_velo['ad'].isna().sum()"
   ]
  },
  {
   "cell_type": "markdown",
   "id": "c68d7b0c-c807-448a-a978-ef357c160346",
   "metadata": {},
   "source": [
    "Nous n'allons donc garder que le critères suivant :  type de route (\"highway\", cf [documentation OpenstreeMap](https://wiki.openstreetmap.org/wiki/Key:highway) ). Les autres variables ont soit trop de valeurs manquantes soit manquent d'intérêt seule (sens des voitures). Nous allons produire 2 variables : l'une pondérée avec le type de route censé refleter la qualité de la route, et une autre sans pondération, pour la longueur d'aménagements cyclables par ville."
   ]
  },
  {
   "cell_type": "code",
   "execution_count": 18,
   "id": "fb4ead7b-76e1-4a59-9fe8-50445aba1e20",
   "metadata": {},
   "outputs": [],
   "source": [
    "highway_quality_mapping = {\n",
    "    'service': 1,\n",
    "    'track': 1,\n",
    "    'path': 1,\n",
    "    'trunk_link': 1,\n",
    "    'motorway_link': 1,\n",
    "    'residential': 2,\n",
    "    'footway': 2,\n",
    "    'cycleway': 2,\n",
    "    'primary': 2,    \n",
    "    'primary_link': 2,    \n",
    "    'secondary': 3,\n",
    "    'tertiary': 3,\n",
    "    'secondary_link': 3,\n",
    "    'tertiary_link': 3,\n",
    "    'living_street': 3,\n",
    "    'unclassified': 3,\n",
    "    'pedestrian': 4,\n",
    "    'steps': 4\n",
    "}"
   ]
  },
  {
   "cell_type": "code",
   "execution_count": 19,
   "id": "95e6b101-619c-4400-8c60-58b5524957ad",
   "metadata": {},
   "outputs": [],
   "source": [
    "df_a_velo['qual'] = df_a_velo['highway'].map(highway_quality_mapping)"
   ]
  },
  {
   "cell_type": "code",
   "execution_count": 20,
   "id": "e932b078-6a16-44fb-b465-5e450e4dd115",
   "metadata": {},
   "outputs": [],
   "source": [
    "quality_weights = {\n",
    "    1: 1.25,\n",
    "    2: 1.,\n",
    "    3: 0.75,\n",
    "    4: 0.5\n",
    "}"
   ]
  },
  {
   "cell_type": "code",
   "execution_count": 21,
   "id": "f76f4fa9-f081-46fd-8ab2-e227dc5c0788",
   "metadata": {},
   "outputs": [],
   "source": [
    "# Nouvelle colonne pour la longueur pondérée\n",
    "\n",
    "df_a_velo['longueur_pond'] = df_a_velo['longueur'] * df_a_velo['qual'].map(quality_weights)"
   ]
  },
  {
   "cell_type": "code",
   "execution_count": 22,
   "id": "d1f4237c-43f7-479b-a47a-33ad13aa0fa1",
   "metadata": {},
   "outputs": [
    {
     "name": "stdout",
     "output_type": "stream",
     "text": [
      "13882578.0\n"
     ]
    }
   ],
   "source": [
    "total_longueur_pond = df_a_velo['longueur_pond'].sum()\n",
    "print(total_longueur_pond) #longueur totale de l'échantillon avec majoration pondérée"
   ]
  },
  {
   "cell_type": "code",
   "execution_count": 23,
   "id": "fc5b75ca-dbc8-46cd-861e-f032a2a69dde",
   "metadata": {},
   "outputs": [
    {
     "name": "stdout",
     "output_type": "stream",
     "text": [
      "14174798\n"
     ]
    }
   ],
   "source": [
    "total_longueur = df_a_velo['longueur'].sum()\n",
    "print(total_longueur)"
   ]
  },
  {
   "cell_type": "code",
   "execution_count": 24,
   "id": "5f4b6e12-5582-46a4-84de-5a1c60a820ee",
   "metadata": {},
   "outputs": [],
   "source": [
    "total_longueur_commune = df_a_velo.groupby(['nom_com', 'insee_com'])['longueur'].sum().reset_index()"
   ]
  },
  {
   "cell_type": "code",
   "execution_count": 25,
   "id": "46ae551f-4b7e-403e-aa17-7137d8f936e9",
   "metadata": {},
   "outputs": [],
   "source": [
    "total_longueur_pond_commune = df_a_velo.groupby(['nom_com', 'insee_com'])['longueur_pond'].sum().reset_index()"
   ]
  },
  {
   "cell_type": "code",
   "execution_count": 26,
   "id": "d5fe954d-49db-4c0c-ba03-4d469edc7c1e",
   "metadata": {},
   "outputs": [
    {
     "data": {
      "text/html": [
       "<div>\n",
       "<style scoped>\n",
       "    .dataframe tbody tr th:only-of-type {\n",
       "        vertical-align: middle;\n",
       "    }\n",
       "\n",
       "    .dataframe tbody tr th {\n",
       "        vertical-align: top;\n",
       "    }\n",
       "\n",
       "    .dataframe thead th {\n",
       "        text-align: right;\n",
       "    }\n",
       "</style>\n",
       "<table border=\"1\" class=\"dataframe\">\n",
       "  <thead>\n",
       "    <tr style=\"text-align: right;\">\n",
       "      <th></th>\n",
       "      <th>nom_com</th>\n",
       "      <th>insee_com</th>\n",
       "      <th>longueur</th>\n",
       "      <th>longueur_pond</th>\n",
       "      <th>difference</th>\n",
       "    </tr>\n",
       "  </thead>\n",
       "  <tbody>\n",
       "    <tr>\n",
       "      <th>997</th>\n",
       "      <td>Étampes</td>\n",
       "      <td>91223</td>\n",
       "      <td>24485</td>\n",
       "      <td>22956.25</td>\n",
       "      <td>-1528.75</td>\n",
       "    </tr>\n",
       "    <tr>\n",
       "      <th>580</th>\n",
       "      <td>Moisson</td>\n",
       "      <td>78410</td>\n",
       "      <td>1425</td>\n",
       "      <td>1523.75</td>\n",
       "      <td>98.75</td>\n",
       "    </tr>\n",
       "    <tr>\n",
       "      <th>409</th>\n",
       "      <td>Juziers</td>\n",
       "      <td>78327</td>\n",
       "      <td>9442</td>\n",
       "      <td>10257.00</td>\n",
       "      <td>815.00</td>\n",
       "    </tr>\n",
       "    <tr>\n",
       "      <th>977</th>\n",
       "      <td>Vémars</td>\n",
       "      <td>95641</td>\n",
       "      <td>14593</td>\n",
       "      <td>13760.00</td>\n",
       "      <td>-833.00</td>\n",
       "    </tr>\n",
       "    <tr>\n",
       "      <th>774</th>\n",
       "      <td>Saint-Germain-lès-Arpajon</td>\n",
       "      <td>91552</td>\n",
       "      <td>5909</td>\n",
       "      <td>6277.50</td>\n",
       "      <td>368.50</td>\n",
       "    </tr>\n",
       "    <tr>\n",
       "      <th>311</th>\n",
       "      <td>Fontenay-aux-Roses</td>\n",
       "      <td>92032</td>\n",
       "      <td>34752</td>\n",
       "      <td>31371.00</td>\n",
       "      <td>-3381.00</td>\n",
       "    </tr>\n",
       "    <tr>\n",
       "      <th>382</th>\n",
       "      <td>Hermé</td>\n",
       "      <td>77227</td>\n",
       "      <td>319</td>\n",
       "      <td>239.25</td>\n",
       "      <td>-79.75</td>\n",
       "    </tr>\n",
       "    <tr>\n",
       "      <th>950</th>\n",
       "      <td>Villeron</td>\n",
       "      <td>95675</td>\n",
       "      <td>608</td>\n",
       "      <td>505.00</td>\n",
       "      <td>-103.00</td>\n",
       "    </tr>\n",
       "    <tr>\n",
       "      <th>992</th>\n",
       "      <td>Épinay-sous-Sénart</td>\n",
       "      <td>91215</td>\n",
       "      <td>9086</td>\n",
       "      <td>10397.75</td>\n",
       "      <td>1311.75</td>\n",
       "    </tr>\n",
       "    <tr>\n",
       "      <th>595</th>\n",
       "      <td>Montgeroult</td>\n",
       "      <td>95422</td>\n",
       "      <td>264</td>\n",
       "      <td>259.50</td>\n",
       "      <td>-4.50</td>\n",
       "    </tr>\n",
       "  </tbody>\n",
       "</table>\n",
       "</div>"
      ],
      "text/plain": [
       "                       nom_com insee_com  longueur  longueur_pond  difference\n",
       "997                    Étampes     91223     24485       22956.25    -1528.75\n",
       "580                    Moisson     78410      1425        1523.75       98.75\n",
       "409                    Juziers     78327      9442       10257.00      815.00\n",
       "977                     Vémars     95641     14593       13760.00     -833.00\n",
       "774  Saint-Germain-lès-Arpajon     91552      5909        6277.50      368.50\n",
       "311         Fontenay-aux-Roses     92032     34752       31371.00    -3381.00\n",
       "382                      Hermé     77227       319         239.25      -79.75\n",
       "950                   Villeron     95675       608         505.00     -103.00\n",
       "992         Épinay-sous-Sénart     91215      9086       10397.75     1311.75\n",
       "595                Montgeroult     95422       264         259.50       -4.50"
      ]
     },
     "execution_count": 26,
     "metadata": {},
     "output_type": "execute_result"
    }
   ],
   "source": [
    "df_amenagements = pd.merge(total_longueur_commune, total_longueur_pond_commune, on=['nom_com', 'insee_com'], suffixes=('_non_pond', '_pond'))\n",
    "\n",
    "df_amenagements['difference'] = df_amenagements['longueur_pond'] - df_amenagements['longueur']\n",
    "\n",
    "df_amenagements.sample(10)"
   ]
  },
  {
   "cell_type": "markdown",
   "id": "4bf5f5fb-e6ad-49d5-a47c-287934484acc",
   "metadata": {},
   "source": [
    "Nous avons créé nos deux indicateurs par commune : longueur et longueur pondérée par commune, mais nous avons perdu de l'information dans cette opération puisque nous perdons de ce fait les coordonnées exactes des aménagements. Cependant, pour l'étude de la densité, cela pourra aussi s'avérer utile. Surtout nous avons besoin de ces indicateurs pour le travail économétrique que nous souhaitons mener, où nous considérons alors les communes comme des individus, et la longueur des pistes cyclables comme nous variable d'intérêt. Cependant, avant de passer à la modélisation économétrique pour tenter d'expliquer le développement des aménagements dans les différentes communes, nous souhaitons représenter et analyser spatialement la répartition des aménagements, leur densité (par habitant), leur densité (par kilomètre) et notamment compléter ces analyses grâce à la disponibilité des données du Vélib."
   ]
  },
  {
   "cell_type": "code",
   "execution_count": null,
   "id": "472e1fa5-5075-45b4-8606-3bc1d182af64",
   "metadata": {},
   "outputs": [],
   "source": []
  },
  {
   "cell_type": "markdown",
   "id": "948540f6-cdef-458b-8031-42306908c4da",
   "metadata": {},
   "source": [
    "## Les vélibs en Ile de France"
   ]
  },
  {
   "cell_type": "code",
   "execution_count": 27,
   "id": "3b714fe5-0271-4851-9c34-ab3c73ad95bd",
   "metadata": {},
   "outputs": [],
   "source": [
    "url2 = \"https://opendata.paris.fr/explore/dataset/velib-emplacement-des-stations/download/?format=geojson&timezone=Europe/Berlin&lang=fr\""
   ]
  },
  {
   "cell_type": "code",
   "execution_count": 28,
   "id": "a0a36b02-aac1-41ce-b9a4-4bead9c0d18f",
   "metadata": {},
   "outputs": [
    {
     "ename": "KeyboardInterrupt",
     "evalue": "",
     "output_type": "error",
     "traceback": [
      "\u001b[0;31m---------------------------------------------------------------------------\u001b[0m",
      "\u001b[0;31mKeyboardInterrupt\u001b[0m                         Traceback (most recent call last)",
      "\u001b[0;32m/tmp/ipykernel_8509/645107264.py\u001b[0m in \u001b[0;36m<module>\u001b[0;34m\u001b[0m\n\u001b[0;32m----> 1\u001b[0;31m \u001b[0mvelib\u001b[0m \u001b[0;34m=\u001b[0m \u001b[0mgpd\u001b[0m\u001b[0;34m.\u001b[0m\u001b[0mread_file\u001b[0m\u001b[0;34m(\u001b[0m\u001b[0murl2\u001b[0m\u001b[0;34m)\u001b[0m\u001b[0;34m\u001b[0m\u001b[0;34m\u001b[0m\u001b[0m\n\u001b[0m",
      "\u001b[0;32m~/.local/lib/python3.10/site-packages/geopandas/io/file.py\u001b[0m in \u001b[0;36m_read_file\u001b[0;34m(filename, bbox, mask, rows, engine, **kwargs)\u001b[0m\n\u001b[1;32m    246\u001b[0m     \u001b[0mfrom_bytes\u001b[0m \u001b[0;34m=\u001b[0m \u001b[0;32mFalse\u001b[0m\u001b[0;34m\u001b[0m\u001b[0;34m\u001b[0m\u001b[0m\n\u001b[1;32m    247\u001b[0m     \u001b[0;32mif\u001b[0m \u001b[0m_is_url\u001b[0m\u001b[0;34m(\u001b[0m\u001b[0mfilename\u001b[0m\u001b[0;34m)\u001b[0m\u001b[0;34m:\u001b[0m\u001b[0;34m\u001b[0m\u001b[0;34m\u001b[0m\u001b[0m\n\u001b[0;32m--> 248\u001b[0;31m         \u001b[0mreq\u001b[0m \u001b[0;34m=\u001b[0m \u001b[0m_urlopen\u001b[0m\u001b[0;34m(\u001b[0m\u001b[0mfilename\u001b[0m\u001b[0;34m)\u001b[0m\u001b[0;34m\u001b[0m\u001b[0;34m\u001b[0m\u001b[0m\n\u001b[0m\u001b[1;32m    249\u001b[0m         \u001b[0mpath_or_bytes\u001b[0m \u001b[0;34m=\u001b[0m \u001b[0mreq\u001b[0m\u001b[0;34m.\u001b[0m\u001b[0mread\u001b[0m\u001b[0;34m(\u001b[0m\u001b[0;34m)\u001b[0m\u001b[0;34m\u001b[0m\u001b[0;34m\u001b[0m\u001b[0m\n\u001b[1;32m    250\u001b[0m         \u001b[0mfrom_bytes\u001b[0m \u001b[0;34m=\u001b[0m \u001b[0;32mTrue\u001b[0m\u001b[0;34m\u001b[0m\u001b[0;34m\u001b[0m\u001b[0m\n",
      "\u001b[0;32m/usr/lib/python3.10/urllib/request.py\u001b[0m in \u001b[0;36murlopen\u001b[0;34m(url, data, timeout, cafile, capath, cadefault, context)\u001b[0m\n\u001b[1;32m    214\u001b[0m     \u001b[0;32melse\u001b[0m\u001b[0;34m:\u001b[0m\u001b[0;34m\u001b[0m\u001b[0;34m\u001b[0m\u001b[0m\n\u001b[1;32m    215\u001b[0m         \u001b[0mopener\u001b[0m \u001b[0;34m=\u001b[0m \u001b[0m_opener\u001b[0m\u001b[0;34m\u001b[0m\u001b[0;34m\u001b[0m\u001b[0m\n\u001b[0;32m--> 216\u001b[0;31m     \u001b[0;32mreturn\u001b[0m \u001b[0mopener\u001b[0m\u001b[0;34m.\u001b[0m\u001b[0mopen\u001b[0m\u001b[0;34m(\u001b[0m\u001b[0murl\u001b[0m\u001b[0;34m,\u001b[0m \u001b[0mdata\u001b[0m\u001b[0;34m,\u001b[0m \u001b[0mtimeout\u001b[0m\u001b[0;34m)\u001b[0m\u001b[0;34m\u001b[0m\u001b[0;34m\u001b[0m\u001b[0m\n\u001b[0m\u001b[1;32m    217\u001b[0m \u001b[0;34m\u001b[0m\u001b[0m\n\u001b[1;32m    218\u001b[0m \u001b[0;32mdef\u001b[0m \u001b[0minstall_opener\u001b[0m\u001b[0;34m(\u001b[0m\u001b[0mopener\u001b[0m\u001b[0;34m)\u001b[0m\u001b[0;34m:\u001b[0m\u001b[0;34m\u001b[0m\u001b[0;34m\u001b[0m\u001b[0m\n",
      "\u001b[0;32m/usr/lib/python3.10/urllib/request.py\u001b[0m in \u001b[0;36mopen\u001b[0;34m(self, fullurl, data, timeout)\u001b[0m\n\u001b[1;32m    517\u001b[0m \u001b[0;34m\u001b[0m\u001b[0m\n\u001b[1;32m    518\u001b[0m         \u001b[0msys\u001b[0m\u001b[0;34m.\u001b[0m\u001b[0maudit\u001b[0m\u001b[0;34m(\u001b[0m\u001b[0;34m'urllib.Request'\u001b[0m\u001b[0;34m,\u001b[0m \u001b[0mreq\u001b[0m\u001b[0;34m.\u001b[0m\u001b[0mfull_url\u001b[0m\u001b[0;34m,\u001b[0m \u001b[0mreq\u001b[0m\u001b[0;34m.\u001b[0m\u001b[0mdata\u001b[0m\u001b[0;34m,\u001b[0m \u001b[0mreq\u001b[0m\u001b[0;34m.\u001b[0m\u001b[0mheaders\u001b[0m\u001b[0;34m,\u001b[0m \u001b[0mreq\u001b[0m\u001b[0;34m.\u001b[0m\u001b[0mget_method\u001b[0m\u001b[0;34m(\u001b[0m\u001b[0;34m)\u001b[0m\u001b[0;34m)\u001b[0m\u001b[0;34m\u001b[0m\u001b[0;34m\u001b[0m\u001b[0m\n\u001b[0;32m--> 519\u001b[0;31m         \u001b[0mresponse\u001b[0m \u001b[0;34m=\u001b[0m \u001b[0mself\u001b[0m\u001b[0;34m.\u001b[0m\u001b[0m_open\u001b[0m\u001b[0;34m(\u001b[0m\u001b[0mreq\u001b[0m\u001b[0;34m,\u001b[0m \u001b[0mdata\u001b[0m\u001b[0;34m)\u001b[0m\u001b[0;34m\u001b[0m\u001b[0;34m\u001b[0m\u001b[0m\n\u001b[0m\u001b[1;32m    520\u001b[0m \u001b[0;34m\u001b[0m\u001b[0m\n\u001b[1;32m    521\u001b[0m         \u001b[0;31m# post-process response\u001b[0m\u001b[0;34m\u001b[0m\u001b[0;34m\u001b[0m\u001b[0m\n",
      "\u001b[0;32m/usr/lib/python3.10/urllib/request.py\u001b[0m in \u001b[0;36m_open\u001b[0;34m(self, req, data)\u001b[0m\n\u001b[1;32m    534\u001b[0m \u001b[0;34m\u001b[0m\u001b[0m\n\u001b[1;32m    535\u001b[0m         \u001b[0mprotocol\u001b[0m \u001b[0;34m=\u001b[0m \u001b[0mreq\u001b[0m\u001b[0;34m.\u001b[0m\u001b[0mtype\u001b[0m\u001b[0;34m\u001b[0m\u001b[0;34m\u001b[0m\u001b[0m\n\u001b[0;32m--> 536\u001b[0;31m         result = self._call_chain(self.handle_open, protocol, protocol +\n\u001b[0m\u001b[1;32m    537\u001b[0m                                   '_open', req)\n\u001b[1;32m    538\u001b[0m         \u001b[0;32mif\u001b[0m \u001b[0mresult\u001b[0m\u001b[0;34m:\u001b[0m\u001b[0;34m\u001b[0m\u001b[0;34m\u001b[0m\u001b[0m\n",
      "\u001b[0;32m/usr/lib/python3.10/urllib/request.py\u001b[0m in \u001b[0;36m_call_chain\u001b[0;34m(self, chain, kind, meth_name, *args)\u001b[0m\n\u001b[1;32m    494\u001b[0m         \u001b[0;32mfor\u001b[0m \u001b[0mhandler\u001b[0m \u001b[0;32min\u001b[0m \u001b[0mhandlers\u001b[0m\u001b[0;34m:\u001b[0m\u001b[0;34m\u001b[0m\u001b[0;34m\u001b[0m\u001b[0m\n\u001b[1;32m    495\u001b[0m             \u001b[0mfunc\u001b[0m \u001b[0;34m=\u001b[0m \u001b[0mgetattr\u001b[0m\u001b[0;34m(\u001b[0m\u001b[0mhandler\u001b[0m\u001b[0;34m,\u001b[0m \u001b[0mmeth_name\u001b[0m\u001b[0;34m)\u001b[0m\u001b[0;34m\u001b[0m\u001b[0;34m\u001b[0m\u001b[0m\n\u001b[0;32m--> 496\u001b[0;31m             \u001b[0mresult\u001b[0m \u001b[0;34m=\u001b[0m \u001b[0mfunc\u001b[0m\u001b[0;34m(\u001b[0m\u001b[0;34m*\u001b[0m\u001b[0margs\u001b[0m\u001b[0;34m)\u001b[0m\u001b[0;34m\u001b[0m\u001b[0;34m\u001b[0m\u001b[0m\n\u001b[0m\u001b[1;32m    497\u001b[0m             \u001b[0;32mif\u001b[0m \u001b[0mresult\u001b[0m \u001b[0;32mis\u001b[0m \u001b[0;32mnot\u001b[0m \u001b[0;32mNone\u001b[0m\u001b[0;34m:\u001b[0m\u001b[0;34m\u001b[0m\u001b[0;34m\u001b[0m\u001b[0m\n\u001b[1;32m    498\u001b[0m                 \u001b[0;32mreturn\u001b[0m \u001b[0mresult\u001b[0m\u001b[0;34m\u001b[0m\u001b[0;34m\u001b[0m\u001b[0m\n",
      "\u001b[0;32m/usr/lib/python3.10/urllib/request.py\u001b[0m in \u001b[0;36mhttps_open\u001b[0;34m(self, req)\u001b[0m\n\u001b[1;32m   1389\u001b[0m \u001b[0;34m\u001b[0m\u001b[0m\n\u001b[1;32m   1390\u001b[0m         \u001b[0;32mdef\u001b[0m \u001b[0mhttps_open\u001b[0m\u001b[0;34m(\u001b[0m\u001b[0mself\u001b[0m\u001b[0;34m,\u001b[0m \u001b[0mreq\u001b[0m\u001b[0;34m)\u001b[0m\u001b[0;34m:\u001b[0m\u001b[0;34m\u001b[0m\u001b[0;34m\u001b[0m\u001b[0m\n\u001b[0;32m-> 1391\u001b[0;31m             return self.do_open(http.client.HTTPSConnection, req,\n\u001b[0m\u001b[1;32m   1392\u001b[0m                 context=self._context, check_hostname=self._check_hostname)\n\u001b[1;32m   1393\u001b[0m \u001b[0;34m\u001b[0m\u001b[0m\n",
      "\u001b[0;32m/usr/lib/python3.10/urllib/request.py\u001b[0m in \u001b[0;36mdo_open\u001b[0;34m(self, http_class, req, **http_conn_args)\u001b[0m\n\u001b[1;32m   1346\u001b[0m         \u001b[0;32mtry\u001b[0m\u001b[0;34m:\u001b[0m\u001b[0;34m\u001b[0m\u001b[0;34m\u001b[0m\u001b[0m\n\u001b[1;32m   1347\u001b[0m             \u001b[0;32mtry\u001b[0m\u001b[0;34m:\u001b[0m\u001b[0;34m\u001b[0m\u001b[0;34m\u001b[0m\u001b[0m\n\u001b[0;32m-> 1348\u001b[0;31m                 h.request(req.get_method(), req.selector, req.data, headers,\n\u001b[0m\u001b[1;32m   1349\u001b[0m                           encode_chunked=req.has_header('Transfer-encoding'))\n\u001b[1;32m   1350\u001b[0m             \u001b[0;32mexcept\u001b[0m \u001b[0mOSError\u001b[0m \u001b[0;32mas\u001b[0m \u001b[0merr\u001b[0m\u001b[0;34m:\u001b[0m \u001b[0;31m# timeout error\u001b[0m\u001b[0;34m\u001b[0m\u001b[0;34m\u001b[0m\u001b[0m\n",
      "\u001b[0;32m/usr/lib/python3.10/http/client.py\u001b[0m in \u001b[0;36mrequest\u001b[0;34m(self, method, url, body, headers, encode_chunked)\u001b[0m\n\u001b[1;32m   1281\u001b[0m                 encode_chunked=False):\n\u001b[1;32m   1282\u001b[0m         \u001b[0;34m\"\"\"Send a complete request to the server.\"\"\"\u001b[0m\u001b[0;34m\u001b[0m\u001b[0;34m\u001b[0m\u001b[0m\n\u001b[0;32m-> 1283\u001b[0;31m         \u001b[0mself\u001b[0m\u001b[0;34m.\u001b[0m\u001b[0m_send_request\u001b[0m\u001b[0;34m(\u001b[0m\u001b[0mmethod\u001b[0m\u001b[0;34m,\u001b[0m \u001b[0murl\u001b[0m\u001b[0;34m,\u001b[0m \u001b[0mbody\u001b[0m\u001b[0;34m,\u001b[0m \u001b[0mheaders\u001b[0m\u001b[0;34m,\u001b[0m \u001b[0mencode_chunked\u001b[0m\u001b[0;34m)\u001b[0m\u001b[0;34m\u001b[0m\u001b[0;34m\u001b[0m\u001b[0m\n\u001b[0m\u001b[1;32m   1284\u001b[0m \u001b[0;34m\u001b[0m\u001b[0m\n\u001b[1;32m   1285\u001b[0m     \u001b[0;32mdef\u001b[0m \u001b[0m_send_request\u001b[0m\u001b[0;34m(\u001b[0m\u001b[0mself\u001b[0m\u001b[0;34m,\u001b[0m \u001b[0mmethod\u001b[0m\u001b[0;34m,\u001b[0m \u001b[0murl\u001b[0m\u001b[0;34m,\u001b[0m \u001b[0mbody\u001b[0m\u001b[0;34m,\u001b[0m \u001b[0mheaders\u001b[0m\u001b[0;34m,\u001b[0m \u001b[0mencode_chunked\u001b[0m\u001b[0;34m)\u001b[0m\u001b[0;34m:\u001b[0m\u001b[0;34m\u001b[0m\u001b[0;34m\u001b[0m\u001b[0m\n",
      "\u001b[0;32m/usr/lib/python3.10/http/client.py\u001b[0m in \u001b[0;36m_send_request\u001b[0;34m(self, method, url, body, headers, encode_chunked)\u001b[0m\n\u001b[1;32m   1327\u001b[0m             \u001b[0;31m# default charset of iso-8859-1.\u001b[0m\u001b[0;34m\u001b[0m\u001b[0;34m\u001b[0m\u001b[0m\n\u001b[1;32m   1328\u001b[0m             \u001b[0mbody\u001b[0m \u001b[0;34m=\u001b[0m \u001b[0m_encode\u001b[0m\u001b[0;34m(\u001b[0m\u001b[0mbody\u001b[0m\u001b[0;34m,\u001b[0m \u001b[0;34m'body'\u001b[0m\u001b[0;34m)\u001b[0m\u001b[0;34m\u001b[0m\u001b[0;34m\u001b[0m\u001b[0m\n\u001b[0;32m-> 1329\u001b[0;31m         \u001b[0mself\u001b[0m\u001b[0;34m.\u001b[0m\u001b[0mendheaders\u001b[0m\u001b[0;34m(\u001b[0m\u001b[0mbody\u001b[0m\u001b[0;34m,\u001b[0m \u001b[0mencode_chunked\u001b[0m\u001b[0;34m=\u001b[0m\u001b[0mencode_chunked\u001b[0m\u001b[0;34m)\u001b[0m\u001b[0;34m\u001b[0m\u001b[0;34m\u001b[0m\u001b[0m\n\u001b[0m\u001b[1;32m   1330\u001b[0m \u001b[0;34m\u001b[0m\u001b[0m\n\u001b[1;32m   1331\u001b[0m     \u001b[0;32mdef\u001b[0m \u001b[0mgetresponse\u001b[0m\u001b[0;34m(\u001b[0m\u001b[0mself\u001b[0m\u001b[0;34m)\u001b[0m\u001b[0;34m:\u001b[0m\u001b[0;34m\u001b[0m\u001b[0;34m\u001b[0m\u001b[0m\n",
      "\u001b[0;32m/usr/lib/python3.10/http/client.py\u001b[0m in \u001b[0;36mendheaders\u001b[0;34m(self, message_body, encode_chunked)\u001b[0m\n\u001b[1;32m   1276\u001b[0m         \u001b[0;32melse\u001b[0m\u001b[0;34m:\u001b[0m\u001b[0;34m\u001b[0m\u001b[0;34m\u001b[0m\u001b[0m\n\u001b[1;32m   1277\u001b[0m             \u001b[0;32mraise\u001b[0m \u001b[0mCannotSendHeader\u001b[0m\u001b[0;34m(\u001b[0m\u001b[0;34m)\u001b[0m\u001b[0;34m\u001b[0m\u001b[0;34m\u001b[0m\u001b[0m\n\u001b[0;32m-> 1278\u001b[0;31m         \u001b[0mself\u001b[0m\u001b[0;34m.\u001b[0m\u001b[0m_send_output\u001b[0m\u001b[0;34m(\u001b[0m\u001b[0mmessage_body\u001b[0m\u001b[0;34m,\u001b[0m \u001b[0mencode_chunked\u001b[0m\u001b[0;34m=\u001b[0m\u001b[0mencode_chunked\u001b[0m\u001b[0;34m)\u001b[0m\u001b[0;34m\u001b[0m\u001b[0;34m\u001b[0m\u001b[0m\n\u001b[0m\u001b[1;32m   1279\u001b[0m \u001b[0;34m\u001b[0m\u001b[0m\n\u001b[1;32m   1280\u001b[0m     def request(self, method, url, body=None, headers={}, *,\n",
      "\u001b[0;32m/usr/lib/python3.10/http/client.py\u001b[0m in \u001b[0;36m_send_output\u001b[0;34m(self, message_body, encode_chunked)\u001b[0m\n\u001b[1;32m   1036\u001b[0m         \u001b[0mmsg\u001b[0m \u001b[0;34m=\u001b[0m \u001b[0;34mb\"\\r\\n\"\u001b[0m\u001b[0;34m.\u001b[0m\u001b[0mjoin\u001b[0m\u001b[0;34m(\u001b[0m\u001b[0mself\u001b[0m\u001b[0;34m.\u001b[0m\u001b[0m_buffer\u001b[0m\u001b[0;34m)\u001b[0m\u001b[0;34m\u001b[0m\u001b[0;34m\u001b[0m\u001b[0m\n\u001b[1;32m   1037\u001b[0m         \u001b[0;32mdel\u001b[0m \u001b[0mself\u001b[0m\u001b[0;34m.\u001b[0m\u001b[0m_buffer\u001b[0m\u001b[0;34m[\u001b[0m\u001b[0;34m:\u001b[0m\u001b[0;34m]\u001b[0m\u001b[0;34m\u001b[0m\u001b[0;34m\u001b[0m\u001b[0m\n\u001b[0;32m-> 1038\u001b[0;31m         \u001b[0mself\u001b[0m\u001b[0;34m.\u001b[0m\u001b[0msend\u001b[0m\u001b[0;34m(\u001b[0m\u001b[0mmsg\u001b[0m\u001b[0;34m)\u001b[0m\u001b[0;34m\u001b[0m\u001b[0;34m\u001b[0m\u001b[0m\n\u001b[0m\u001b[1;32m   1039\u001b[0m \u001b[0;34m\u001b[0m\u001b[0m\n\u001b[1;32m   1040\u001b[0m         \u001b[0;32mif\u001b[0m \u001b[0mmessage_body\u001b[0m \u001b[0;32mis\u001b[0m \u001b[0;32mnot\u001b[0m \u001b[0;32mNone\u001b[0m\u001b[0;34m:\u001b[0m\u001b[0;34m\u001b[0m\u001b[0;34m\u001b[0m\u001b[0m\n",
      "\u001b[0;32m/usr/lib/python3.10/http/client.py\u001b[0m in \u001b[0;36msend\u001b[0;34m(self, data)\u001b[0m\n\u001b[1;32m    974\u001b[0m         \u001b[0;32mif\u001b[0m \u001b[0mself\u001b[0m\u001b[0;34m.\u001b[0m\u001b[0msock\u001b[0m \u001b[0;32mis\u001b[0m \u001b[0;32mNone\u001b[0m\u001b[0;34m:\u001b[0m\u001b[0;34m\u001b[0m\u001b[0;34m\u001b[0m\u001b[0m\n\u001b[1;32m    975\u001b[0m             \u001b[0;32mif\u001b[0m \u001b[0mself\u001b[0m\u001b[0;34m.\u001b[0m\u001b[0mauto_open\u001b[0m\u001b[0;34m:\u001b[0m\u001b[0;34m\u001b[0m\u001b[0;34m\u001b[0m\u001b[0m\n\u001b[0;32m--> 976\u001b[0;31m                 \u001b[0mself\u001b[0m\u001b[0;34m.\u001b[0m\u001b[0mconnect\u001b[0m\u001b[0;34m(\u001b[0m\u001b[0;34m)\u001b[0m\u001b[0;34m\u001b[0m\u001b[0;34m\u001b[0m\u001b[0m\n\u001b[0m\u001b[1;32m    977\u001b[0m             \u001b[0;32melse\u001b[0m\u001b[0;34m:\u001b[0m\u001b[0;34m\u001b[0m\u001b[0;34m\u001b[0m\u001b[0m\n\u001b[1;32m    978\u001b[0m                 \u001b[0;32mraise\u001b[0m \u001b[0mNotConnected\u001b[0m\u001b[0;34m(\u001b[0m\u001b[0;34m)\u001b[0m\u001b[0;34m\u001b[0m\u001b[0;34m\u001b[0m\u001b[0m\n",
      "\u001b[0;32m/usr/lib/python3.10/http/client.py\u001b[0m in \u001b[0;36mconnect\u001b[0;34m(self)\u001b[0m\n\u001b[1;32m   1446\u001b[0m             \u001b[0;34m\"Connect to a host on a given (SSL) port.\"\u001b[0m\u001b[0;34m\u001b[0m\u001b[0;34m\u001b[0m\u001b[0m\n\u001b[1;32m   1447\u001b[0m \u001b[0;34m\u001b[0m\u001b[0m\n\u001b[0;32m-> 1448\u001b[0;31m             \u001b[0msuper\u001b[0m\u001b[0;34m(\u001b[0m\u001b[0;34m)\u001b[0m\u001b[0;34m.\u001b[0m\u001b[0mconnect\u001b[0m\u001b[0;34m(\u001b[0m\u001b[0;34m)\u001b[0m\u001b[0;34m\u001b[0m\u001b[0;34m\u001b[0m\u001b[0m\n\u001b[0m\u001b[1;32m   1449\u001b[0m \u001b[0;34m\u001b[0m\u001b[0m\n\u001b[1;32m   1450\u001b[0m             \u001b[0;32mif\u001b[0m \u001b[0mself\u001b[0m\u001b[0;34m.\u001b[0m\u001b[0m_tunnel_host\u001b[0m\u001b[0;34m:\u001b[0m\u001b[0;34m\u001b[0m\u001b[0;34m\u001b[0m\u001b[0m\n",
      "\u001b[0;32m/usr/lib/python3.10/http/client.py\u001b[0m in \u001b[0;36mconnect\u001b[0;34m(self)\u001b[0m\n\u001b[1;32m    940\u001b[0m         \u001b[0;34m\"\"\"Connect to the host and port specified in __init__.\"\"\"\u001b[0m\u001b[0;34m\u001b[0m\u001b[0;34m\u001b[0m\u001b[0m\n\u001b[1;32m    941\u001b[0m         \u001b[0msys\u001b[0m\u001b[0;34m.\u001b[0m\u001b[0maudit\u001b[0m\u001b[0;34m(\u001b[0m\u001b[0;34m\"http.client.connect\"\u001b[0m\u001b[0;34m,\u001b[0m \u001b[0mself\u001b[0m\u001b[0;34m,\u001b[0m \u001b[0mself\u001b[0m\u001b[0;34m.\u001b[0m\u001b[0mhost\u001b[0m\u001b[0;34m,\u001b[0m \u001b[0mself\u001b[0m\u001b[0;34m.\u001b[0m\u001b[0mport\u001b[0m\u001b[0;34m)\u001b[0m\u001b[0;34m\u001b[0m\u001b[0;34m\u001b[0m\u001b[0m\n\u001b[0;32m--> 942\u001b[0;31m         self.sock = self._create_connection(\n\u001b[0m\u001b[1;32m    943\u001b[0m             (self.host,self.port), self.timeout, self.source_address)\n\u001b[1;32m    944\u001b[0m         \u001b[0;31m# Might fail in OSs that don't implement TCP_NODELAY\u001b[0m\u001b[0;34m\u001b[0m\u001b[0;34m\u001b[0m\u001b[0m\n",
      "\u001b[0;32m/usr/lib/python3.10/socket.py\u001b[0m in \u001b[0;36mcreate_connection\u001b[0;34m(address, timeout, source_address)\u001b[0m\n\u001b[1;32m    831\u001b[0m             \u001b[0;32mif\u001b[0m \u001b[0msource_address\u001b[0m\u001b[0;34m:\u001b[0m\u001b[0;34m\u001b[0m\u001b[0;34m\u001b[0m\u001b[0m\n\u001b[1;32m    832\u001b[0m                 \u001b[0msock\u001b[0m\u001b[0;34m.\u001b[0m\u001b[0mbind\u001b[0m\u001b[0;34m(\u001b[0m\u001b[0msource_address\u001b[0m\u001b[0;34m)\u001b[0m\u001b[0;34m\u001b[0m\u001b[0;34m\u001b[0m\u001b[0m\n\u001b[0;32m--> 833\u001b[0;31m             \u001b[0msock\u001b[0m\u001b[0;34m.\u001b[0m\u001b[0mconnect\u001b[0m\u001b[0;34m(\u001b[0m\u001b[0msa\u001b[0m\u001b[0;34m)\u001b[0m\u001b[0;34m\u001b[0m\u001b[0;34m\u001b[0m\u001b[0m\n\u001b[0m\u001b[1;32m    834\u001b[0m             \u001b[0;31m# Break explicitly a reference cycle\u001b[0m\u001b[0;34m\u001b[0m\u001b[0;34m\u001b[0m\u001b[0m\n\u001b[1;32m    835\u001b[0m             \u001b[0merr\u001b[0m \u001b[0;34m=\u001b[0m \u001b[0;32mNone\u001b[0m\u001b[0;34m\u001b[0m\u001b[0;34m\u001b[0m\u001b[0m\n",
      "\u001b[0;31mKeyboardInterrupt\u001b[0m: "
     ]
    }
   ],
   "source": [
    "velib = gpd.read_file(url2)"
   ]
  },
  {
   "cell_type": "code",
   "execution_count": null,
   "id": "a03c0b00-0912-48bf-a80a-fdacc7d17423",
   "metadata": {},
   "outputs": [],
   "source": [
    "velib.sample(n=15)"
   ]
  },
  {
   "cell_type": "markdown",
   "id": "192ebff7-b4c4-4a1e-9163-912e03c65bca",
   "metadata": {},
   "source": [
    "## Données et ressources nécessaires pour l'étude spatiale"
   ]
  },
  {
   "cell_type": "code",
   "execution_count": null,
   "id": "dec6b68e-5d8e-41e3-8dcc-bff3715affec",
   "metadata": {},
   "outputs": [],
   "source": [
    "communes = download_vectorfile_url_all(\n",
    "    crs = 4326,\n",
    "    borders=\"COMMUNE_ARRONDISSEMENT\",\n",
    "    values = [\"75\",\"77\",\"78\",\"91\", \"92\", \"93\", \"94\",\"95\"],\n",
    "    vectorfile_format=\"topojson\",\n",
    "    filter_by=\"DEPARTEMENT\",\n",
    "    source=\"EXPRESS-COG-CARTO-TERRITOIRE\",\n",
    "    year=2022)"
   ]
  },
  {
   "cell_type": "markdown",
   "id": "f0c3d002-4c38-49b0-9a94-e01ca5afb9bf",
   "metadata": {},
   "source": [
    "Un préalable au calcul des surfaces est le choix du système de projection adéquat. Dans notre cas , il s'agit de convertir les données au système de projection Lambert 93 qui est le plus approprié."
   ]
  },
  {
   "cell_type": "code",
   "execution_count": null,
   "id": "96cd02f8-c592-4e76-8f10-dbb71c42c153",
   "metadata": {},
   "outputs": [],
   "source": [
    "communes['surface'] = communes.to_crs(2154).area"
   ]
  },
  {
   "cell_type": "code",
   "execution_count": null,
   "id": "a31acc6a-2b4e-4e10-84c6-464c871021ef",
   "metadata": {},
   "outputs": [],
   "source": [
    "communes.sort_values('surface', ascending = False)"
   ]
  },
  {
   "cell_type": "code",
   "execution_count": null,
   "id": "46319b27-576e-4315-89b2-88d51f8481ac",
   "metadata": {},
   "outputs": [],
   "source": [
    "communes.rename(columns={'INSEE_COG': 'insee_com'}, inplace=True)"
   ]
  },
  {
   "cell_type": "code",
   "execution_count": null,
   "id": "6a959414-63f6-48b6-bfaf-3e6a82e25bc3",
   "metadata": {},
   "outputs": [],
   "source": []
  },
  {
   "cell_type": "markdown",
   "id": "1e2843f2-8e0f-4689-8dfa-8335e50f1b2a",
   "metadata": {},
   "source": [
    "## Données socio-démographiques sur l'Ile de France"
   ]
  },
  {
   "cell_type": "code",
   "execution_count": null,
   "id": "3a89ac86-a3e6-45cd-99cc-aba24e1f6b6f",
   "metadata": {},
   "outputs": [],
   "source": []
  },
  {
   "cell_type": "markdown",
   "id": "e7b665c1-dade-4516-9bca-6a74f9ccdd9c",
   "metadata": {},
   "source": [
    "## Données complémentaires : accidents de la route, transports écologiques alternatifs (réseau ferré, bus)"
   ]
  },
  {
   "cell_type": "code",
   "execution_count": null,
   "id": "cc9e5e36-4bff-4982-a8f8-402de53a77d9",
   "metadata": {},
   "outputs": [],
   "source": []
  },
  {
   "cell_type": "markdown",
   "id": "776adae0-cd20-4e78-a449-4208c8a4f535",
   "metadata": {},
   "source": [
    "## Base finale avec la longueur, les indicateurs géographiques, et les variables socio-démographiques"
   ]
  },
  {
   "cell_type": "code",
   "execution_count": null,
   "id": "a460309c-a99e-413f-ad69-4eabb7558ebd",
   "metadata": {},
   "outputs": [],
   "source": [
    "base = communes[['insee_com', 'POPULATION', 'surface', 'geometry']].merge(y, how='outer', on='insee_com')"
   ]
  },
  {
   "cell_type": "code",
   "execution_count": null,
   "id": "ef37b08d-399b-4db2-a451-a07bc62b8c29",
   "metadata": {},
   "outputs": [],
   "source": [
    "base.groupby('insee_com').sum(numeric_only = True).sort_values('longueur', ascending = False)"
   ]
  },
  {
   "cell_type": "code",
   "execution_count": null,
   "id": "d83a9ca2-4140-41f5-9d2e-8675f4913676",
   "metadata": {},
   "outputs": [],
   "source": [
    "base = gpd.GeoDataFrame(base, geometry='geometry')"
   ]
  },
  {
   "cell_type": "markdown",
   "id": "52581fe8-fdd5-4a30-8792-4caa6f97ac84",
   "metadata": {},
   "source": [
    "# Analyse descriptive et spatiale"
   ]
  },
  {
   "cell_type": "markdown",
   "id": "eea05933-f6a2-4132-870a-cf78cf79a278",
   "metadata": {},
   "source": [
    "## Répartition spatiale des aménagements cyclables : piste cyclable et station vélib"
   ]
  },
  {
   "cell_type": "code",
   "execution_count": null,
   "id": "a3dd38b8-7853-466d-8cfe-ec865da36011",
   "metadata": {},
   "outputs": [],
   "source": [
    "# Répartition des stations vélib\n",
    "\n",
    "fig,ax = plt.subplots(figsize=(10, 10))\n",
    "velib.plot(ax = ax, color = 'green')\n",
    "com.plot(ax = ax, zorder=1, edgecolor = \"black\", facecolor=\"none\")\n",
    "ax.set_axis_off()"
   ]
  },
  {
   "cell_type": "code",
   "execution_count": null,
   "id": "8fc9f443-c419-480b-8afc-d73e1621e9c7",
   "metadata": {},
   "outputs": [],
   "source": [
    "# Emplacement des pistes cycables (point)\n",
    "\n",
    "fig,ax = plt.subplots(figsize=(10, 10))\n",
    "a_velo.plot(ax = ax, color = 'red', alpha = 0.4, zorder=2)\n",
    "communes.plot(ax = ax, zorder=1, edgecolor = \"black\", facecolor=\"none\")\n",
    "ax.set_axis_off()"
   ]
  },
  {
   "cell_type": "code",
   "execution_count": null,
   "id": "de12d67c-a44d-4c4e-9d40-e8193b5503b8",
   "metadata": {},
   "outputs": [],
   "source": [
    "# Répartition des pistes cyclabes en île de France\n",
    "\n",
    "fig, ax = plt.subplots(figsize=(10, 10))\n",
    "dissolved = base.dissolve(by='insee_com', aggfunc='sum').reset_index()\n",
    "dissolved.plot(ax=ax, column=\"longueur\", legend=True)\n",
    "ax.set_axis_off()\n",
    "legend = ax.get_legend()\n",
    "plt.show()"
   ]
  },
  {
   "cell_type": "markdown",
   "id": "ec85ae56-220f-45cb-a9f9-3e548c3aacab",
   "metadata": {},
   "source": [
    "### Statistiques descriptives sur les pistes cyclables"
   ]
  },
  {
   "cell_type": "code",
   "execution_count": null,
   "id": "b49c4627-2c5e-4ad5-9cdc-970a18418c62",
   "metadata": {},
   "outputs": [],
   "source": [
    "df_amenagements.describe()"
   ]
  },
  {
   "cell_type": "code",
   "execution_count": null,
   "id": "dce4c82d-8f56-4d43-88a7-8457bf868f0e",
   "metadata": {},
   "outputs": [],
   "source": [
    "sns.scatterplot(df_amenagements['longueur'])\n",
    "plt.title('Distribution des pistes cyclables dans les communes')"
   ]
  },
  {
   "cell_type": "code",
   "execution_count": null,
   "id": "8a465509-c9f9-4e2c-9647-24949d504dce",
   "metadata": {},
   "outputs": [],
   "source": []
  }
 ],
 "metadata": {
  "kernelspec": {
   "display_name": "Python 3 (ipykernel)",
   "language": "python",
   "name": "python3"
  },
  "language_info": {
   "codemirror_mode": {
    "name": "ipython",
    "version": 3
   },
   "file_extension": ".py",
   "mimetype": "text/x-python",
   "name": "python",
   "nbconvert_exporter": "python",
   "pygments_lexer": "ipython3",
   "version": "3.10.12"
  }
 },
 "nbformat": 4,
 "nbformat_minor": 5
}
