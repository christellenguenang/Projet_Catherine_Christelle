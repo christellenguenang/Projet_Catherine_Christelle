{
 "cells": [
  {
   "cell_type": "markdown",
   "id": "8bf964b0-43a9-4bc0-98b1-6044506719f1",
   "metadata": {},
   "source": [
    "# Récupération et traitement des données"
   ]
  },
  {
   "cell_type": "code",
   "execution_count": 111,
   "id": "f95ff90b-914c-4361-a2de-dde6ce37d865",
   "metadata": {},
   "outputs": [],
   "source": [
    "import pandas as pd\n",
    "import seaborn as sns\n",
    "import numpy as np\n",
    "import matplotlib.pyplot as plt\n",
    "import geopandas as gpd\n",
    "import contextily as ctx\n",
    "import pynsee as yns\n",
    "import requests\n",
    "from cartiflette.s3 import download_vectorfile_url_all"
   ]
  },
  {
   "cell_type": "code",
   "execution_count": 20,
   "id": "2dc72e9f-1aa1-42e0-8d72-1029337c1ab1",
   "metadata": {},
   "outputs": [],
   "source": [
    "from pathlib import Path"
   ]
  },
  {
   "cell_type": "code",
   "execution_count": 21,
   "id": "3d222b10-4b92-4f47-b9bc-dbeb0f590521",
   "metadata": {},
   "outputs": [
    {
     "data": {
      "text/plain": [
       "PosixPath('/home/cathu/Documents/ENSAE/Projet_Catherine_Christelle')"
      ]
     },
     "execution_count": 21,
     "metadata": {},
     "output_type": "execute_result"
    }
   ],
   "source": [
    "Path.cwd()"
   ]
  },
  {
   "cell_type": "markdown",
   "id": "b4af1cba-c2ec-4e6e-88f6-63fd594aefac",
   "metadata": {},
   "source": [
    "## Les aménagements cyclables en Ile de France"
   ]
  },
  {
   "cell_type": "code",
   "execution_count": 63,
   "id": "4908c666-5241-4c8a-978e-35dba98de9e3",
   "metadata": {},
   "outputs": [],
   "source": [
    "a_velo= gpd.read_file('amenagements-velo-en-ile-de-france.geojson')"
   ]
  },
  {
   "cell_type": "code",
   "execution_count": 65,
   "id": "b385b74f-dbc1-4ca3-9c8b-ab0eb859c3c9",
   "metadata": {},
   "outputs": [
    {
     "data": {
      "text/plain": [
       "112217"
      ]
     },
     "execution_count": 65,
     "metadata": {},
     "output_type": "execute_result"
    }
   ],
   "source": [
    "# Nombre d'entrées\n",
    "a_velo.shape[0]"
   ]
  },
  {
   "cell_type": "code",
   "execution_count": 66,
   "id": "c372bc2a-af9b-4bad-a55a-35dfdc0f4f8f",
   "metadata": {},
   "outputs": [
    {
     "data": {
      "text/plain": [
       "<Geographic 2D CRS: EPSG:4326>\n",
       "Name: WGS 84\n",
       "Axis Info [ellipsoidal]:\n",
       "- Lat[north]: Geodetic latitude (degree)\n",
       "- Lon[east]: Geodetic longitude (degree)\n",
       "Area of Use:\n",
       "- name: World.\n",
       "- bounds: (-180.0, -90.0, 180.0, 90.0)\n",
       "Datum: World Geodetic System 1984 ensemble\n",
       "- Ellipsoid: WGS 84\n",
       "- Prime Meridian: Greenwich"
      ]
     },
     "execution_count": 66,
     "metadata": {},
     "output_type": "execute_result"
    }
   ],
   "source": [
    "a_velo.crs"
   ]
  },
  {
   "cell_type": "markdown",
   "id": "3e64b3e3-fb3e-4425-a6da-992fd6541a20",
   "metadata": {},
   "source": [
    "Un préalable au calcul des surfaces est le choix du système de projection adéquat. Dans notre cas , il s'agit de convertir les données au système de projection Lambert 93 qui est le plus approprié."
   ]
  },
  {
   "cell_type": "code",
   "execution_count": 67,
   "id": "493e84dc-7add-4efa-9e93-f58b9db017be",
   "metadata": {},
   "outputs": [
    {
     "data": {
      "text/plain": [
       "count    112217.000000\n",
       "mean        126.315959\n",
       "std         174.519817\n",
       "min           0.000000\n",
       "25%          24.000000\n",
       "50%          70.000000\n",
       "75%         161.000000\n",
       "max        3984.000000\n",
       "Name: longueur, dtype: float64"
      ]
     },
     "execution_count": 67,
     "metadata": {},
     "output_type": "execute_result"
    }
   ],
   "source": [
    "a_velo['longueur'].describe()"
   ]
  },
  {
   "cell_type": "code",
   "execution_count": 68,
   "id": "df8c8ffb-1933-4927-b51e-6ad67422bab1",
   "metadata": {},
   "outputs": [
    {
     "data": {
      "text/html": [
       "<div>\n",
       "<style scoped>\n",
       "    .dataframe tbody tr th:only-of-type {\n",
       "        vertical-align: middle;\n",
       "    }\n",
       "\n",
       "    .dataframe tbody tr th {\n",
       "        vertical-align: top;\n",
       "    }\n",
       "\n",
       "    .dataframe thead th {\n",
       "        text-align: right;\n",
       "    }\n",
       "</style>\n",
       "<table border=\"1\" class=\"dataframe\">\n",
       "  <thead>\n",
       "    <tr style=\"text-align: right;\">\n",
       "      <th></th>\n",
       "      <th>osm_id</th>\n",
       "      <th>nom_com</th>\n",
       "      <th>sens_voit</th>\n",
       "      <th>ag</th>\n",
       "      <th>panneaux</th>\n",
       "      <th>moyenn_ech</th>\n",
       "      <th>revetement</th>\n",
       "      <th>highway</th>\n",
       "      <th>insee_com</th>\n",
       "      <th>nom_voie</th>\n",
       "      <th>longueur</th>\n",
       "      <th>petite_ech</th>\n",
       "      <th>nv</th>\n",
       "      <th>ad</th>\n",
       "      <th>geometry</th>\n",
       "    </tr>\n",
       "  </thead>\n",
       "  <tbody>\n",
       "    <tr>\n",
       "      <th>27659</th>\n",
       "      <td>33734103.0</td>\n",
       "      <td>Clamart</td>\n",
       "      <td>DOUBLE</td>\n",
       "      <td>None</td>\n",
       "      <td>None</td>\n",
       "      <td>32</td>\n",
       "      <td>asphalt</td>\n",
       "      <td>residential</td>\n",
       "      <td>92023</td>\n",
       "      <td>Allée du Grand Cèdre</td>\n",
       "      <td>81</td>\n",
       "      <td>3</td>\n",
       "      <td>limite 30</td>\n",
       "      <td>None</td>\n",
       "      <td>LINESTRING (2.26431 48.79830, 2.26427 48.79825...</td>\n",
       "    </tr>\n",
       "  </tbody>\n",
       "</table>\n",
       "</div>"
      ],
      "text/plain": [
       "           osm_id  nom_com sens_voit    ag panneaux moyenn_ech revetement  \\\n",
       "27659  33734103.0  Clamart    DOUBLE  None     None         32    asphalt   \n",
       "\n",
       "           highway insee_com              nom_voie  longueur petite_ech  \\\n",
       "27659  residential     92023  Allée du Grand Cèdre        81          3   \n",
       "\n",
       "              nv    ad                                           geometry  \n",
       "27659  limite 30  None  LINESTRING (2.26431 48.79830, 2.26427 48.79825...  "
      ]
     },
     "execution_count": 68,
     "metadata": {},
     "output_type": "execute_result"
    }
   ],
   "source": [
    "a_velo.sample(n=1)"
   ]
  },
  {
   "cell_type": "markdown",
   "id": "7410d9dc-0385-4b87-8d44-0e953c284b56",
   "metadata": {},
   "source": [
    "Pour le moment, nous travaillons sans les données de géolocalisation qui ne sont pas nécessaires aux calculs. Nous créons pour cela une nouvelle dataframe"
   ]
  },
  {
   "cell_type": "code",
   "execution_count": 69,
   "id": "a9b63cd7-a94e-4074-bb76-aba70a1d05fb",
   "metadata": {},
   "outputs": [],
   "source": [
    "col_to_keep = [\"nom_com\", \"sens_voit\", \"ag\", \"panneaux\", \"revetement\", \"highway\", \"insee_com\", \"longueur\", \"nv\", \"ad\"] "
   ]
  },
  {
   "cell_type": "code",
   "execution_count": 70,
   "id": "006d4d0c-352a-4eb7-b372-9d95f319e85c",
   "metadata": {},
   "outputs": [
    {
     "name": "stdout",
     "output_type": "stream",
     "text": [
      "         osm_id            nom_com sens_voit                              ag  \\\n",
      "0  4.014620e+08            Chelles    DOUBLE                            None   \n",
      "1  4.048666e+08   La Queue-en-Brie        NC  chemin service site propre uni   \n",
      "2  1.154304e+09            Lésigny        NC                  voie verte uni   \n",
      "3  3.300503e+08  Pontault-Combault    UNIQUE                       DSC bande   \n",
      "4  1.104033e+09   Champs-sur-Marne    UNIQUE                            None   \n",
      "\n",
      "  panneaux moyenn_ech revetement      highway insee_com  \\\n",
      "0     None         32       None      service     77108   \n",
      "1     None         11       None        track     94060   \n",
      "2     None         11    asphalt         path     77249   \n",
      "3     None         22       None  residential     77373   \n",
      "4     None         22    asphalt  residential     77083   \n",
      "\n",
      "                     nom_voie  longueur petite_ech           nv  \\\n",
      "0  Rue de la Mare Longue Noue        24          3    limite 30   \n",
      "1             Allée Jacquette        39          1  hors voirie   \n",
      "2                        None         5          1  hors voirie   \n",
      "3          Rue de la Chaussée        85          2         None   \n",
      "4         Place Pablo Picasso         8          2         None   \n",
      "\n",
      "                               ad  \\\n",
      "0                            None   \n",
      "1  chemin service site propre uni   \n",
      "2                  voie verte uni   \n",
      "3                            None   \n",
      "4                       bande uni   \n",
      "\n",
      "                                            geometry  \n",
      "0  LINESTRING (2.60486 48.89065, 2.60460 48.89061...  \n",
      "1    LINESTRING (2.60049 48.77164, 2.60036 48.77198)  \n",
      "2    LINESTRING (2.60844 48.74126, 2.60848 48.74130)  \n",
      "3  LINESTRING (2.60422 48.78336, 2.60419 48.78331...  \n",
      "4    LINESTRING (2.60568 48.84171, 2.60557 48.84170)  \n"
     ]
    }
   ],
   "source": [
    "# df_a_velo = a_velo[col_to_keep].copy()\n",
    "\n",
    "df_a_velo = a_velo\n",
    "\n",
    "print(df_a_velo.head())"
   ]
  },
  {
   "cell_type": "markdown",
   "id": "4ba613ff-36c3-47e4-aa16-ce1011d318d1",
   "metadata": {},
   "source": [
    "### Création de variables d'étude pour les aménagements cyclables"
   ]
  },
  {
   "cell_type": "markdown",
   "id": "85088bbf-6925-47ae-b388-4e0c8f09836b",
   "metadata": {},
   "source": [
    "Nous souhaitons étudier la répartition géograhique des aménagements cyclables et particulièrement leur densité en mètre par habitants. Toutefois, l'ensemble des pistes cyclables n'est pas de la même \"qualité\" : séparée de la route ou non, sens inverse de la circulation, type de revêtement, etc. Pour prendre en compte la qualité des aménagements cyclables, nous pouvons donner des coefficients aux mètres de pistes selon ces différents critères lors du calcul du nombre total de mètres aménagés par commune. Nous allons proposer plusieurs méthodes de calcul selon ces critères."
   ]
  },
  {
   "cell_type": "code",
   "execution_count": 71,
   "id": "41410030-c28d-4471-9f72-39ef5d8294db",
   "metadata": {},
   "outputs": [
    {
     "name": "stdout",
     "output_type": "stream",
     "text": [
      "['DOUBLE' 'NC' 'UNIQUE']\n",
      "[None 'chemin service site propre uni' 'voie verte uni' 'DSC bande'\n",
      " 'autre chemin velo uni' 'piste uni' 'DSC' 'piste trottoir uni'\n",
      " 'bande uni' 'cheminement trottoir uni' 'goulotte' 'chemin dedie uni'\n",
      " 'chaucidou' 'cheminement uni' 'DSC piste' 'voie bus uni' 'piste bi'\n",
      " 'bande bi' 'shoulder uni']\n",
      "[None 'asphalt' 'compacted' 'concrete' 'unpaved' 'wood' 'paving_stones'\n",
      " 'ground' 'sett' 'gravel' 'sand' 'paved' 'fine_gravel' 'dirt'\n",
      " 'cobblestone' 'concrete:plates' 'concrete:lanes' 'grass'\n",
      " 'cobblestone:flattened' 'metal' 'pebblestone' 'unhewn_cobblestone'\n",
      " 'bricks' 'tartan' 'pavés' 'vegecol' 'artificial_turf' 'grass_paver'\n",
      " 'earth' 'bitume' 'à_définir' 'rock']\n",
      "['service' 'track' 'path' 'residential' 'footway' 'cycleway' 'secondary'\n",
      " 'tertiary' 'living_street' 'unclassified' 'pedestrian' 'steps' 'primary'\n",
      " 'primary_link' 'secondary_link' 'tertiary_link' 'trunk_link'\n",
      " 'motorway_link']\n",
      "['limite 30' 'hors voirie' None 'z20' 'rue pietonne' 'z30' 'escalier velo'\n",
      " 'velorue' 'velo interdit']\n",
      "[None 'chemin service site propre uni' 'voie verte uni' 'bande uni'\n",
      " 'autre chemin velo uni' 'piste uni' 'piste trottoir uni'\n",
      " 'cheminement trottoir uni' 'goulotte' 'chemin dedie uni' 'chaucidou'\n",
      " 'cheminement uni' 'voie bus uni' 'piste bi' 'bande bi' 'DSC' 'DSC bande'\n",
      " 'shoulder uni']\n"
     ]
    }
   ],
   "source": [
    "print(df_a_velo[\"sens_voit\"].unique())\n",
    "print(df_a_velo[\"ag\"].unique())\n",
    "print(df_a_velo[\"revetement\"].unique())\n",
    "print(df_a_velo[\"highway\"].unique())\n",
    "print(df_a_velo[\"nv\"].unique())\n",
    "print(df_a_velo[\"ad\"].unique())"
   ]
  },
  {
   "cell_type": "code",
   "execution_count": 72,
   "id": "5e159e6b-11bd-40f8-87f0-e74d47bf2e37",
   "metadata": {},
   "outputs": [
    {
     "data": {
      "text/plain": [
       "0"
      ]
     },
     "execution_count": 72,
     "metadata": {},
     "output_type": "execute_result"
    }
   ],
   "source": [
    "df_a_velo['sens_voit'].isna().sum()"
   ]
  },
  {
   "cell_type": "code",
   "execution_count": 73,
   "id": "7d772fa6-c217-4ca1-8192-245825a0203d",
   "metadata": {},
   "outputs": [
    {
     "data": {
      "text/plain": [
       "68312"
      ]
     },
     "execution_count": 73,
     "metadata": {},
     "output_type": "execute_result"
    }
   ],
   "source": [
    "df_a_velo['ag'].isna().sum()"
   ]
  },
  {
   "cell_type": "code",
   "execution_count": 74,
   "id": "2f17de1a-d26b-470d-be7d-4ff09eae8705",
   "metadata": {},
   "outputs": [
    {
     "data": {
      "text/plain": [
       "38711"
      ]
     },
     "execution_count": 74,
     "metadata": {},
     "output_type": "execute_result"
    }
   ],
   "source": [
    "df_a_velo['revetement'].isna().sum()"
   ]
  },
  {
   "cell_type": "code",
   "execution_count": 75,
   "id": "613705ca-1a9a-4298-906c-51f71bd4c1d8",
   "metadata": {},
   "outputs": [
    {
     "data": {
      "text/plain": [
       "0"
      ]
     },
     "execution_count": 75,
     "metadata": {},
     "output_type": "execute_result"
    }
   ],
   "source": [
    "df_a_velo['highway'].isna().sum()"
   ]
  },
  {
   "cell_type": "code",
   "execution_count": 76,
   "id": "32876a74-5705-4cc5-a6de-554050ce794e",
   "metadata": {},
   "outputs": [
    {
     "data": {
      "text/plain": [
       "9548"
      ]
     },
     "execution_count": 76,
     "metadata": {},
     "output_type": "execute_result"
    }
   ],
   "source": [
    "df_a_velo['nv'].isna().sum()"
   ]
  },
  {
   "cell_type": "code",
   "execution_count": 77,
   "id": "c70a222a-16e6-4954-bf32-5bce8ada24c6",
   "metadata": {},
   "outputs": [
    {
     "data": {
      "text/plain": [
       "68522"
      ]
     },
     "execution_count": 77,
     "metadata": {},
     "output_type": "execute_result"
    }
   ],
   "source": [
    "df_a_velo['ad'].isna().sum()"
   ]
  },
  {
   "cell_type": "markdown",
   "id": "c68d7b0c-c807-448a-a978-ef357c160346",
   "metadata": {},
   "source": [
    "Nous n'allons donc garder que le critères suivant :  type de route (\"highway\", cf [documentation OpenstreeMap](https://wiki.openstreetmap.org/wiki/Key:highway) ). Les autres variables ont soit trop de valeurs manquantes soit manquent d'intérêt seule (sens des voitures). Nous allons produire 2 variables : l'une pondérée avec le type de route censé refleter la qualité de la route, et une autre sans pondération, pour la longueur d'aménagements cyclables par ville."
   ]
  },
  {
   "cell_type": "code",
   "execution_count": 78,
   "id": "fb4ead7b-76e1-4a59-9fe8-50445aba1e20",
   "metadata": {},
   "outputs": [],
   "source": [
    "highway_quality_mapping = {\n",
    "    'service': 1,\n",
    "    'track': 1,\n",
    "    'path': 1,\n",
    "    'trunk_link': 1,\n",
    "    'motorway_link': 1,\n",
    "    'residential': 2,\n",
    "    'footway': 2,\n",
    "    'cycleway': 2,\n",
    "    'primary': 2,    \n",
    "    'primary_link': 2,    \n",
    "    'secondary': 3,\n",
    "    'tertiary': 3,\n",
    "    'secondary_link': 3,\n",
    "    'tertiary_link': 3,\n",
    "    'living_street': 3,\n",
    "    'unclassified': 3,\n",
    "    'pedestrian': 4,\n",
    "    'steps': 4\n",
    "}"
   ]
  },
  {
   "cell_type": "code",
   "execution_count": 79,
   "id": "95e6b101-619c-4400-8c60-58b5524957ad",
   "metadata": {},
   "outputs": [],
   "source": [
    "df_a_velo['qual'] = df_a_velo['highway'].map(highway_quality_mapping)"
   ]
  },
  {
   "cell_type": "code",
   "execution_count": 80,
   "id": "e932b078-6a16-44fb-b465-5e450e4dd115",
   "metadata": {},
   "outputs": [],
   "source": [
    "quality_weights = {\n",
    "    1: 1.25,\n",
    "    2: 1.,\n",
    "    3: 0.75,\n",
    "    4: 0.5\n",
    "}"
   ]
  },
  {
   "cell_type": "code",
   "execution_count": 81,
   "id": "f76f4fa9-f081-46fd-8ab2-e227dc5c0788",
   "metadata": {},
   "outputs": [],
   "source": [
    "# Nouvelle colonne pour la longueur pondérée\n",
    "\n",
    "df_a_velo['longueur_pond'] = df_a_velo['longueur'] * df_a_velo['qual'].map(quality_weights)"
   ]
  },
  {
   "cell_type": "code",
   "execution_count": 83,
   "id": "d1f4237c-43f7-479b-a47a-33ad13aa0fa1",
   "metadata": {},
   "outputs": [
    {
     "name": "stdout",
     "output_type": "stream",
     "text": [
      "13882578.0\n"
     ]
    }
   ],
   "source": [
    "total_longueur_pond = df_a_velo['longueur_pond'].sum()\n",
    "print(total_longueur_pond) #longueur totale de l'échantillon avec majoration pondérée"
   ]
  },
  {
   "cell_type": "code",
   "execution_count": 89,
   "id": "fc5b75ca-dbc8-46cd-861e-f032a2a69dde",
   "metadata": {},
   "outputs": [
    {
     "name": "stdout",
     "output_type": "stream",
     "text": [
      "14174798\n"
     ]
    }
   ],
   "source": [
    "total_longueur = df_a_velo['longueur'].sum()\n",
    "print(total_longueur)"
   ]
  },
  {
   "cell_type": "code",
   "execution_count": 116,
   "id": "5f4b6e12-5582-46a4-84de-5a1c60a820ee",
   "metadata": {},
   "outputs": [],
   "source": [
    "total_longueur_commune = df_a_velo.groupby(['nom_com', 'insee_com'])['longueur'].sum().reset_index()"
   ]
  },
  {
   "cell_type": "code",
   "execution_count": 117,
   "id": "46ae551f-4b7e-403e-aa17-7137d8f936e9",
   "metadata": {},
   "outputs": [],
   "source": [
    "total_longueur_pond_commune = df_a_velo.groupby(['nom_com', 'insee_com'])['longueur_pond'].sum().reset_index()"
   ]
  },
  {
   "cell_type": "code",
   "execution_count": 118,
   "id": "d5fe954d-49db-4c0c-ba03-4d469edc7c1e",
   "metadata": {},
   "outputs": [
    {
     "data": {
      "text/html": [
       "<div>\n",
       "<style scoped>\n",
       "    .dataframe tbody tr th:only-of-type {\n",
       "        vertical-align: middle;\n",
       "    }\n",
       "\n",
       "    .dataframe tbody tr th {\n",
       "        vertical-align: top;\n",
       "    }\n",
       "\n",
       "    .dataframe thead th {\n",
       "        text-align: right;\n",
       "    }\n",
       "</style>\n",
       "<table border=\"1\" class=\"dataframe\">\n",
       "  <thead>\n",
       "    <tr style=\"text-align: right;\">\n",
       "      <th></th>\n",
       "      <th>nom_com</th>\n",
       "      <th>insee_com</th>\n",
       "      <th>longueur</th>\n",
       "      <th>longueur_pond</th>\n",
       "      <th>difference</th>\n",
       "    </tr>\n",
       "  </thead>\n",
       "  <tbody>\n",
       "    <tr>\n",
       "      <th>103</th>\n",
       "      <td>Boissy-Saint-Léger</td>\n",
       "      <td>94004</td>\n",
       "      <td>17246</td>\n",
       "      <td>19362.75</td>\n",
       "      <td>2116.75</td>\n",
       "    </tr>\n",
       "    <tr>\n",
       "      <th>944</th>\n",
       "      <td>Villeneuve-sous-Dammartin</td>\n",
       "      <td>77511</td>\n",
       "      <td>1038</td>\n",
       "      <td>951.50</td>\n",
       "      <td>-86.50</td>\n",
       "    </tr>\n",
       "    <tr>\n",
       "      <th>956</th>\n",
       "      <td>Villiers-Saint-Frédéric</td>\n",
       "      <td>78683</td>\n",
       "      <td>6677</td>\n",
       "      <td>6438.50</td>\n",
       "      <td>-238.50</td>\n",
       "    </tr>\n",
       "    <tr>\n",
       "      <th>628</th>\n",
       "      <td>Mériel</td>\n",
       "      <td>95392</td>\n",
       "      <td>9655</td>\n",
       "      <td>10348.50</td>\n",
       "      <td>693.50</td>\n",
       "    </tr>\n",
       "    <tr>\n",
       "      <th>897</th>\n",
       "      <td>Varennes-Jarcy</td>\n",
       "      <td>91631</td>\n",
       "      <td>6440</td>\n",
       "      <td>6235.00</td>\n",
       "      <td>-205.00</td>\n",
       "    </tr>\n",
       "    <tr>\n",
       "      <th>792</th>\n",
       "      <td>Saint-Martin-des-Champs</td>\n",
       "      <td>78565</td>\n",
       "      <td>381</td>\n",
       "      <td>302.50</td>\n",
       "      <td>-78.50</td>\n",
       "    </tr>\n",
       "    <tr>\n",
       "      <th>24</th>\n",
       "      <td>Achères-la-Forêt</td>\n",
       "      <td>77001</td>\n",
       "      <td>606</td>\n",
       "      <td>503.50</td>\n",
       "      <td>-102.50</td>\n",
       "    </tr>\n",
       "    <tr>\n",
       "      <th>787</th>\n",
       "      <td>Saint-Mammès</td>\n",
       "      <td>77419</td>\n",
       "      <td>1561</td>\n",
       "      <td>1333.50</td>\n",
       "      <td>-227.50</td>\n",
       "    </tr>\n",
       "    <tr>\n",
       "      <th>166</th>\n",
       "      <td>Chailly-en-Brie</td>\n",
       "      <td>77070</td>\n",
       "      <td>2467</td>\n",
       "      <td>2597.75</td>\n",
       "      <td>130.75</td>\n",
       "    </tr>\n",
       "    <tr>\n",
       "      <th>685</th>\n",
       "      <td>Othis</td>\n",
       "      <td>77349</td>\n",
       "      <td>4570</td>\n",
       "      <td>4758.50</td>\n",
       "      <td>188.50</td>\n",
       "    </tr>\n",
       "  </tbody>\n",
       "</table>\n",
       "</div>"
      ],
      "text/plain": [
       "                       nom_com insee_com  longueur  longueur_pond  difference\n",
       "103         Boissy-Saint-Léger     94004     17246       19362.75     2116.75\n",
       "944  Villeneuve-sous-Dammartin     77511      1038         951.50      -86.50\n",
       "956    Villiers-Saint-Frédéric     78683      6677        6438.50     -238.50\n",
       "628                     Mériel     95392      9655       10348.50      693.50\n",
       "897             Varennes-Jarcy     91631      6440        6235.00     -205.00\n",
       "792    Saint-Martin-des-Champs     78565       381         302.50      -78.50\n",
       "24            Achères-la-Forêt     77001       606         503.50     -102.50\n",
       "787               Saint-Mammès     77419      1561        1333.50     -227.50\n",
       "166            Chailly-en-Brie     77070      2467        2597.75      130.75\n",
       "685                      Othis     77349      4570        4758.50      188.50"
      ]
     },
     "execution_count": 118,
     "metadata": {},
     "output_type": "execute_result"
    }
   ],
   "source": [
    "df_amenagements = pd.merge(total_longueur_commune, total_longueur_pond_commune, on=['nom_com', 'insee_com'], suffixes=('_non_pond', '_pond'))\n",
    "\n",
    "df_amenagements['difference'] = df_amenagements['longueur_pond'] - df_amenagements['longueur']\n",
    "\n",
    "df_amenagements.sample(10)"
   ]
  },
  {
   "cell_type": "markdown",
   "id": "4bf5f5fb-e6ad-49d5-a47c-287934484acc",
   "metadata": {},
   "source": [
    "Nous avons créé nos deux indicateurs par commune : longueur et longueur pondérée par commune, mais nous avons perdu de l'information dans cette opération puisque nous perdons de ce fait les coordonnées exactes des aménagements. Cependant, pour l'étude de la densité, cela pourra aussi s'avérer utile. Surtout nous avons besoin de ces indicateurs pour le travail économétrique que nous souhaitons mener, où nous considérons alors les communes comme des individus, et la longueur des pistes cyclables comme nous variable d'intérêt. Cependant, avant de passer à la modélisation économétrique pour tenter d'expliquer le développement des aménagements dans les différentes communes, nous souhaitons représenter et analyser spatialement la répartition des aménagements, leur densité (par habitant), leur densité (par kilomètre) et notamment compléter ces analyses grâce à la disponibilité des données du Vélib."
   ]
  },
  {
   "cell_type": "code",
   "execution_count": 114,
   "id": "472e1fa5-5075-45b4-8606-3bc1d182af64",
   "metadata": {},
   "outputs": [
    {
     "name": "stdout",
     "output_type": "stream",
     "text": [
      "                   nom_com  longueur  longueur_pond  difference  \\\n",
      "0       10e Arrondissement     60281       54373.75    -5907.25   \n",
      "1       11e Arrondissement     90116       84201.75    -5914.25   \n",
      "2       12e Arrondissement    201748      199898.75    -1849.25   \n",
      "3       13e Arrondissement    137731      128463.25    -9267.75   \n",
      "4       14e Arrondissement    102618       94107.75    -8510.25   \n",
      "...                    ...       ...            ...         ...   \n",
      "1284           Évecquemont      6177        6162.00      -15.00   \n",
      "1285                  Évry     81991       79291.00    -2700.00   \n",
      "1286  Évry-Grégy-sur-Yerre      6997        5934.50    -1062.50   \n",
      "1287  Évry-Grégy-sur-Yerre      6997        5934.50    -1062.50   \n",
      "1288             Ézanville      2384        2220.75     -163.25   \n",
      "\n",
      "                       nom   code  population    _score  \n",
      "0                      NaN    NaN         NaN       NaN  \n",
      "1                      NaN    NaN         NaN       NaN  \n",
      "2                      NaN    NaN         NaN       NaN  \n",
      "3                      NaN    NaN         NaN       NaN  \n",
      "4                      NaN    NaN         NaN       NaN  \n",
      "...                    ...    ...         ...       ...  \n",
      "1284           Évecquemont  78227       782.0  1.000000  \n",
      "1285                  Évry  89162       393.0  1.000000  \n",
      "1286  Évry-Grégy-sur-Yerre  77175      3070.0  0.528145  \n",
      "1287  Évry-Grégy-sur-Yerre  77175      3070.0  0.415671  \n",
      "1288             Ézanville  95229      9594.0  1.000000  \n",
      "\n",
      "[1289 rows x 8 columns]\n"
     ]
    }
   ],
   "source": []
  },
  {
   "cell_type": "markdown",
   "id": "948540f6-cdef-458b-8031-42306908c4da",
   "metadata": {},
   "source": [
    "## Les vélibs en Ile de France"
   ]
  },
  {
   "cell_type": "code",
   "execution_count": null,
   "id": "3b714fe5-0271-4851-9c34-ab3c73ad95bd",
   "metadata": {},
   "outputs": [],
   "source": [
    "url2 = \"https://opendata.paris.fr/explore/dataset/velib-emplacement-des-stations/download/?format=geojson&timezone=Europe/Berlin&lang=fr\""
   ]
  },
  {
   "cell_type": "code",
   "execution_count": null,
   "id": "a0a36b02-aac1-41ce-b9a4-4bead9c0d18f",
   "metadata": {},
   "outputs": [],
   "source": [
    "velib = gpd.read_file(url2)"
   ]
  },
  {
   "cell_type": "code",
   "execution_count": null,
   "id": "a03c0b00-0912-48bf-a80a-fdacc7d17423",
   "metadata": {},
   "outputs": [],
   "source": [
    "velib.sample(n=15)"
   ]
  },
  {
   "cell_type": "code",
   "execution_count": null,
   "id": "3a89ac86-a3e6-45cd-99cc-aba24e1f6b6f",
   "metadata": {},
   "outputs": [],
   "source": []
  },
  {
   "cell_type": "markdown",
   "id": "50c6c15e-6127-40ed-bf80-c251ac3ebd5a",
   "metadata": {},
   "source": []
  },
  {
   "cell_type": "code",
   "execution_count": null,
   "id": "7150b692-f877-4a3d-b202-b2b00feb619d",
   "metadata": {},
   "outputs": [],
   "source": []
  },
  {
   "cell_type": "code",
   "execution_count": null,
   "id": "dec6b68e-5d8e-41e3-8dcc-bff3715affec",
   "metadata": {},
   "outputs": [],
   "source": []
  },
  {
   "cell_type": "code",
   "execution_count": null,
   "id": "cc9e5e36-4bff-4982-a8f8-402de53a77d9",
   "metadata": {},
   "outputs": [],
   "source": []
  },
  {
   "cell_type": "markdown",
   "id": "192ebff7-b4c4-4a1e-9163-912e03c65bca",
   "metadata": {},
   "source": [
    "## Données et ressources nécessaires pour l'étude spatiale"
   ]
  },
  {
   "cell_type": "markdown",
   "id": "1e2843f2-8e0f-4689-8dfa-8335e50f1b2a",
   "metadata": {},
   "source": [
    "## Données socio-démographiques sur l'Ile de France"
   ]
  },
  {
   "cell_type": "markdown",
   "id": "aa1d2a58-5798-4f40-9c26-4438d5b4ab3a",
   "metadata": {},
   "source": [
    "## Données socio-démographiques sur l'Ile de France"
   ]
  },
  {
   "cell_type": "markdown",
   "id": "e7b665c1-dade-4516-9bca-6a74f9ccdd9c",
   "metadata": {},
   "source": [
    "## Données complémentaires : accidents de la route, transports écologiques alternatifs (réseau ferré, bus)"
   ]
  },
  {
   "cell_type": "code",
   "execution_count": null,
   "id": "ab17427c-5fbe-4aa5-b0f2-a86c6ed25fe3",
   "metadata": {},
   "outputs": [],
   "source": []
  }
 ],
 "metadata": {
  "kernelspec": {
   "display_name": "Python 3 (ipykernel)",
   "language": "python",
   "name": "python3"
  },
  "language_info": {
   "codemirror_mode": {
    "name": "ipython",
    "version": 3
   },
   "file_extension": ".py",
   "mimetype": "text/x-python",
   "name": "python",
   "nbconvert_exporter": "python",
   "pygments_lexer": "ipython3",
   "version": "3.10.12"
  }
 },
 "nbformat": 4,
 "nbformat_minor": 5
}
